{
  "nbformat": 4,
  "nbformat_minor": 5,
  "metadata": {
    "kernelspec": {
      "display_name": "Python 3 (ipykernel)",
      "language": "python",
      "name": "python3"
    },
    "language_info": {
      "codemirror_mode": {
        "name": "ipython",
        "version": 3
      },
      "file_extension": ".py",
      "mimetype": "text/x-python",
      "name": "python",
      "nbconvert_exporter": "python",
      "pygments_lexer": "ipython3",
      "version": "3.9.9"
    },
    "colab": {
      "name": "main.ipynb",
      "provenance": [],
      "toc_visible": true
    }
  },
  "cells": [
    {
      "cell_type": "markdown",
      "metadata": {
        "id": "8u1JWRPIEl46"
      },
      "source": [
        "# Es 1"
      ],
      "id": "8u1JWRPIEl46"
    },
    {
      "cell_type": "code",
      "metadata": {
        "id": "5f3183cb-0584-4081-8d94-97fd08a1bfb4"
      },
      "source": [
        "import numpy as np      \n",
        "import matplotlib.pyplot as plt \n",
        "import scipy.io.wavfile \n",
        "import subprocess\n",
        "import librosa\n",
        "import librosa.display\n",
        "import IPython.display as ipd\n",
        "import os\n",
        "import pickle\n",
        "from collections import defaultdict, Counter\n",
        "import re\n",
        "\n",
        "from pathlib import Path, PurePath   \n",
        "from tqdm import tqdm"
      ],
      "id": "5f3183cb-0584-4081-8d94-97fd08a1bfb4",
      "execution_count": null,
      "outputs": []
    },
    {
      "cell_type": "markdown",
      "metadata": {
        "tags": [],
        "id": "ef509add-6121-4429-87ad-22c3efe50948"
      },
      "source": [
        "## Settings"
      ],
      "id": "ef509add-6121-4429-87ad-22c3efe50948"
    },
    {
      "cell_type": "code",
      "metadata": {
        "id": "5231130c-5827-417b-bdab-5d764161814d"
      },
      "source": [
        "N_TRACKS = 1413\n",
        "N_QUERYS = 10\n",
        "HOP_SIZE = 512\n",
        "OFFSET = 0\n",
        "DURATION = 600\n",
        "THRESHOLD = 0\n",
        "BAND_SIZE = 10\n",
        "PERMUTATIONS = 300\n",
        "SEED = 26\n",
        "MOD = 1423"
      ],
      "id": "5231130c-5827-417b-bdab-5d764161814d",
      "execution_count": null,
      "outputs": []
    },
    {
      "cell_type": "code",
      "metadata": {
        "id": "a5fba0f1-d954-4308-a62c-d2203c6044d9"
      },
      "source": [
        "#path variables\n",
        "data_folder = Path(\"./mp3s-32k/\")\n",
        "mp3_tracks = data_folder.glob(\"*/*/*.mp3\")\n",
        "tracks = data_folder.glob(\"*/*/*.wav\")"
      ],
      "id": "a5fba0f1-d954-4308-a62c-d2203c6044d9",
      "execution_count": null,
      "outputs": []
    },
    {
      "cell_type": "markdown",
      "metadata": {
        "id": "424ff3bc-42d6-4351-ab5c-3a0c4246a1ac"
      },
      "source": [
        "## Utility functions"
      ],
      "id": "424ff3bc-42d6-4351-ab5c-3a0c4246a1ac"
    },
    {
      "cell_type": "code",
      "metadata": {
        "tags": [],
        "id": "8d7a99dc-86b1-4652-88d3-ad3c432499f5"
      },
      "source": [
        "def convert_mp3_to_wav(audio:str) -> str:  \n",
        "    \"\"\"Convert an input MP3 audio track into a WAV file.\n",
        "\n",
        "    Args:\n",
        "        audio (str): An input audio track.\n",
        "\n",
        "    Returns:\n",
        "        [str]: WAV filename.Spero che siate aggiornati sulla stagione UK???? ￼￼￼￼￼\n",
        "    \"\"\"\n",
        "    if audio[-3:] == \"mp3\":\n",
        "        wav_audio = audio[:-3] + \"wav\"\n",
        "        if not Path(wav_audio).exists():\n",
        "                subprocess.check_output(f\"ffmpeg -i {audio} {wav_audio}\", shell=True)\n",
        "        return wav_audio\n",
        "    \n",
        "    return audio\n",
        "\n",
        "def plot_spectrogram_and_peaks(track:np.ndarray, sr:int, peaks:np.ndarray, onset_env:np.ndarray) -> None:\n",
        "    \"\"\"Plots the spectrogram and peaks \n",
        "\n",
        "    Args:\n",
        "        track (np.ndarray): A track.\n",
        "        sr (int): Aampling rate.\n",
        "        peaks (np.ndarray): Indices of peaks in the track.\n",
        "        onset_env (np.ndarray): Vector containing the onset strength envelope.\n",
        "    \"\"\"\n",
        "    times = librosa.frames_to_time(np.arange(len(onset_env)),\n",
        "                            sr=sr, hop_length=HOP_SIZE)\n",
        "\n",
        "    plt.figure(figsize=(15,10))\n",
        "    ax = plt.subplot(2, 1, 2)\n",
        "    D = librosa.stft(track)\n",
        "    librosa.display.specshow(librosa.amplitude_to_db(np.abs(D), ref=np.max),\n",
        "                            y_axis='log', x_axis='time')\n",
        "    plt.subplot(2, 1, 1, sharex=ax)\n",
        "    plt.plot(times, onset_env, alpha=0.8, label='Onset strength')\n",
        "    plt.vlines(times[peaks], 0,\n",
        "            onset_env.max(), color='r', alpha=0.8,\n",
        "            label='Selected peaks')\n",
        "    plt.legend(frameon=True, framealpha=0.8)\n",
        "    plt.axis('tight')\n",
        "    plt.tight_layout()\n",
        "    plt.show()\n",
        "\n",
        "def load_audio_peaks(audio, offset, duration, hop_size):\n",
        "    \"\"\"Load the tracks and peaks of an audio.\n",
        "\n",
        "    Args:\n",
        "        audio (string, int, pathlib.Path or file-like object): [description]\n",
        "        offset (float): start reading after this time (in seconds)\n",
        "        duration (float): only load up to this much audio (in seconds)\n",
        "        hop_size (int): the hop_length\n",
        "\n",
        "    Returns:\n",
        "        tuple: Returns the audio time series (track) and sampling rate (sr), \n",
        "        a vector containing the onset strength envelope\n",
        "        (onset_env), and the indices of peaks in track (peaks).\n",
        "    \"\"\"\n",
        "    try:\n",
        "        track, sr = librosa.load(audio, offset=offset, duration=duration)\n",
        "        onset_env = librosa.onset.onset_strength(track, sr=sr, hop_length=hop_size)\n",
        "        peaks = librosa.util.peak_pick(onset_env, 10, 10, 10, 10, 0.5, 0.5)\n",
        "    except Error as e:\n",
        "        print('An error occurred processing ', str(audio))\n",
        "        print(e)\n",
        "\n",
        "    return track, sr, onset_env, peaks\n",
        "    \n",
        "    "
      ],
      "id": "8d7a99dc-86b1-4652-88d3-ad3c432499f5",
      "execution_count": null,
      "outputs": []
    },
    {
      "cell_type": "markdown",
      "metadata": {
        "tags": [],
        "id": "9da1de84-f7d3-4ac2-9d99-56e7e82434b0"
      },
      "source": [
        "## Minhash"
      ],
      "id": "9da1de84-f7d3-4ac2-9d99-56e7e82434b0"
    },
    {
      "cell_type": "markdown",
      "metadata": {
        "id": "1cae1587-aa8a-4cd5-ae87-75e7068102b6"
      },
      "source": [
        "### Building the signatures of the tracks"
      ],
      "id": "1cae1587-aa8a-4cd5-ae87-75e7068102b6"
    },
    {
      "cell_type": "markdown",
      "metadata": {
        "id": "1d95f291-cfd2-4ea2-bd31-f00ad2c6c3fe"
      },
      "source": [
        "Computing longest track duration:"
      ],
      "id": "1d95f291-cfd2-4ea2-bd31-f00ad2c6c3fe"
    },
    {
      "cell_type": "code",
      "metadata": {
        "id": "ae09c68e-c93d-4903-a413-f14dd9508767"
      },
      "source": [
        "#computing the track duration from the first element of the dataset\n",
        "tracks = sorted(data_folder.glob(\"*/*/*.wav\"), key=os.path.getsize) # sorting tracks by size\n",
        "_, sr, onset_env, _ = load_audio_peaks(tracks[-1], OFFSET, DURATION, HOP_SIZE) #input longest track\n",
        "TrackDuration = librosa.frames_to_time(np.arange(len(onset_env)), sr=sr, hop_length=HOP_SIZE) #max size track duration"
      ],
      "id": "ae09c68e-c93d-4903-a413-f14dd9508767",
      "execution_count": null,
      "outputs": []
    },
    {
      "cell_type": "markdown",
      "metadata": {
        "id": "32c29ca4-7c28-4f34-b4f7-0d936ef2eea2"
      },
      "source": [
        "The method used to compute the minhash value of each track is:\n",
        "1) Extraxt audio peaks\n",
        "2) A  ShingleArray is build, it represents the track only with it's peaks:\n",
        "    - The track is an array of zeros and ones \n",
        "    - Each array element represents a given moment in time\n",
        "    - Ones represent peaks, and so the elements of the array are all zeros except at the moment in which a peak was computed\n",
        "3) The elements of the array are randomly permuted #PERMUTATOINS times; the seed of the permuting algorithm is initialized for each track\n",
        "4) At each permutation the index of the first non zero element is recorded in the SignatureArray of the track to guarantee conformity\n",
        "5) Each track is assigned an ID, the correspondance ID - track_path is recorded in a dictionary; this dictionay is dumped to a file to be recalled without re-running the code \n",
        "6) The ShingleArray and the SignatureArray are stored in a the ShingleMatrix and the SignatureMatrix with the columns corresponding to the track ID; this matrixes are dumped to a file to be recalled without re-running the code "
      ],
      "id": "32c29ca4-7c28-4f34-b4f7-0d936ef2eea2"
    },
    {
      "cell_type": "code",
      "metadata": {
        "tags": [],
        "id": "c683f488-1bad-4997-8d14-f8fa2a2ddcdc"
      },
      "source": [
        "#redefining tracks to re-start from the first element of tracks generator\n",
        "tracks = data_folder.glob(\"*/*/*.wav\")\n",
        "\n",
        "#dictionary to associate track ID row with it's path\n",
        "IDofTrack = dict()\n",
        "\n",
        "#defining the SignatureArray\n",
        "SignatureMatrix = np.empty((PERMUTATIONS, N_TRACKS), dtype=int) #row index: permutation number, column index: ID\n",
        "ShingleMatrix = np.empty((len(TrackDuration), N_TRACKS), dtype=int) #row: time instant, column index: ID\n",
        "\n",
        "#buiding the shingle matrix and the first row of the signature matrix\n",
        "for ID, audio in enumerate(tqdm(tracks, total=N_TRACKS)):\n",
        "    AudioPath = '/'.join(os.path.abspath(audio).split('/')[-3:]) #formatting the path to have only essential info\n",
        "    IDofTrack[ID] = AudioPath\n",
        "    _, _, _, peaks = load_audio_peaks(audio, OFFSET, DURATION, HOP_SIZE) #computing peak indexes\n",
        "    \n",
        "    #buiding a Shingle array\n",
        "    ShingleArray =  np.zeros(len(TrackDuration), dtype=int)\n",
        "    for PeakIdx in peaks:\n",
        "        ShingleArray[PeakIdx] = 1\n",
        "    ShingleMatrix[:, ID] = ShingleArray\n",
        "    \n",
        "    #permuting the shingle array and recording it's the first non null element in the SignatureArray\n",
        "    #initializing the random number generator to obtain consistent permutations across all tracks\n",
        "    rng = np.random.default_rng(SEED) \n",
        "    for i in range(PERMUTATIONS):\n",
        "        ShuffledShingleArray = rng.permutation(ShingleArray)\n",
        "        SignatureMatrix[i][ID] = ShuffledShingleArray.argmax()\n",
        "        \n",
        "#storing the computed matrixes\n",
        "with open('ShingleMatrix', 'wb') as f:\n",
        "    pickle.dump(ShingleMatrix, f)\n",
        "with open('SignatureMatrix', 'wb') as f:\n",
        "    pickle.dump(SignatureMatrix, f)\n",
        "with open('IDofTrack', 'wb') as f:\n",
        "    pickle.dump(IDofTrack, f)"
      ],
      "id": "c683f488-1bad-4997-8d14-f8fa2a2ddcdc",
      "execution_count": null,
      "outputs": []
    },
    {
      "cell_type": "markdown",
      "metadata": {
        "id": "22af3da1-92ab-4fcc-ad7a-ea6df68d7c27"
      },
      "source": [
        "Importing SignatureMatrix and IDofTracks instead of running minhash code:"
      ],
      "id": "22af3da1-92ab-4fcc-ad7a-ea6df68d7c27"
    },
    {
      "cell_type": "code",
      "metadata": {
        "tags": [],
        "id": "e5ecbe50-fa4a-489d-9152-d1cbd812ef4c"
      },
      "source": [
        "pickle_SignatureMatrix = open('SignatureMatrix', \"rb\")\n",
        "SignatureMatrix = pickle.load(pickle_SignatureMatrix)\n",
        "\n",
        "pickle_IDofTrack = open('IDofTrack', \"rb\")\n",
        "IDofTrack = pickle.load(pickle_IDofTrack)"
      ],
      "id": "e5ecbe50-fa4a-489d-9152-d1cbd812ef4c",
      "execution_count": null,
      "outputs": []
    },
    {
      "cell_type": "markdown",
      "metadata": {
        "id": "0d076f1d-a6e6-46da-9ea7-85399c312974"
      },
      "source": [
        "### Hashing"
      ],
      "id": "0d076f1d-a6e6-46da-9ea7-85399c312974"
    },
    {
      "cell_type": "markdown",
      "metadata": {
        "id": "a10035cd-0227-40ba-89df-353565f68443"
      },
      "source": [
        "The algorithm below is a basic hashing function. \n",
        "1) The elements of the input array are multiplied to a random number\n",
        "2) They are then summed\n",
        "3) The output is the reminder of the division by MOD\n",
        "\n",
        "MOD is the closest prime number to N_TRACKS, this condition limits random collisions, i.e. the hashed elements will be almost equally distributed through the #MOD bins"
      ],
      "id": "a10035cd-0227-40ba-89df-353565f68443"
    },
    {
      "cell_type": "code",
      "metadata": {
        "id": "6753b5fc-b887-413f-b3e3-ecbbdc522306"
      },
      "source": [
        "def HashFunction(Shingle):\n",
        "    np.random.seed(SEED)\n",
        "    c = np.array([np.random.randint(MOD) for i in range(BAND_SIZE)])\n",
        "    return np.multiply(Shingle, c).sum() % MOD"
      ],
      "id": "6753b5fc-b887-413f-b3e3-ecbbdc522306",
      "execution_count": null,
      "outputs": []
    },
    {
      "cell_type": "markdown",
      "metadata": {
        "id": "350d650e-c820-4de6-a6d5-f2f3381f1ba6"
      },
      "source": [
        "A bag method is used for bucketing:\n",
        "1) The SignatureArray of each track is divided in to arrays of lenght BAND_SIZE; we refer to those array as tokens, a track is now represented through the set of it's tokens\n",
        "2) The hash values of this tokens are computed through the hash function\n",
        "3) A dictionary is build:\n",
        "    - it's keys are the hash value of a given token\n",
        "    - the values of the keys are the buckets containing the track ID's in which have the corresponding token\n",
        "    - this values are counters that store the number of occurences of the token of each track"
      ],
      "id": "350d650e-c820-4de6-a6d5-f2f3381f1ba6"
    },
    {
      "cell_type": "code",
      "metadata": {
        "tags": [],
        "id": "b2ecb974-3e13-470c-b22d-d56fd3cfbb20"
      },
      "source": [
        "def BucketingShingles():\n",
        "    ShingleBuckets = defaultdict(Counter)\n",
        "    #hashing the audio track using as keys it's signatures grouped in bands of size BAND_SIZE\n",
        "    for ID in range(N_TRACKS):\n",
        "        for i in range(0, PERMUTATIONS, BAND_SIZE):   \n",
        "            Shingle = SignatureMatrix[:, ID][i:(i+BAND_SIZE)]\n",
        "            BucketKey = HashFunction(Shingle)\n",
        "            ShingleBuckets[str(BucketKey)][ID] +=1\n",
        "    return(ShingleBuckets)"
      ],
      "id": "b2ecb974-3e13-470c-b22d-d56fd3cfbb20",
      "execution_count": null,
      "outputs": []
    },
    {
      "cell_type": "markdown",
      "metadata": {
        "tags": [],
        "id": "58b9d69b-1c4e-4028-a35f-60b7abf0bd12"
      },
      "source": [
        "### Querying"
      ],
      "id": "58b9d69b-1c4e-4028-a35f-60b7abf0bd12"
    },
    {
      "cell_type": "markdown",
      "metadata": {
        "id": "fc0a1ed3-beef-40ba-bdf3-923d1ec59303"
      },
      "source": [
        "The minhash method was used to process the querys in the same manner as the dataset.\n",
        "<br>\n",
        "<br>\n",
        "\n",
        "For each token of the query the corresponding bucket is retrived. It is remainded that this bucket contains the tracks that contained the token, associated with the number of occurences of that token.\\\n",
        "A TrackSimilarities counter is now used to store the number of occurences of the tracks of all the query tokens. This method de facto groups the tracks and it's number of occurences contained in all the buckets to which the query belongs.\\\n",
        "The tracks with most occurances are then retrieved from the TrackSimilarities dictionary to make a comparision of the respective SignatureArrays with the query. The number of similarities divided by the number of array elements will be the Jaccard Similiraity of the tracks.\n",
        "\n",
        "As defined in Mining of Massive Datasets by Jure Leskovec the threshold $T$ is the value of similarity $JS$ at which the probability of becoming a candidate is $1/2$. Conforming to the book notation:\n",
        "- $b$ = `#BANDS`\n",
        "- $r$ = `BAND_SIZE`\n",
        "\n",
        "with `#BANDS = PERMUTATIONS / BAND_SIZE` that is:\n",
        "- $b$ = `PERMUTATIONS` / $r$\n",
        "\n",
        "An approximation to the threshold is $(\\frac{1}{r})^{1 / b}$.\n",
        "<br>\n",
        "<br>\n",
        "\n",
        "The output of the following function `EvaluateQuerys()` code cell prints:\n",
        "- the query track itself. This was checked by a direct audio comparison of the audio of the query and the best match\n",
        "- the second best match with it's Jaccard Similarity score"
      ],
      "id": "fc0a1ed3-beef-40ba-bdf3-923d1ec59303"
    },
    {
      "cell_type": "code",
      "metadata": {
        "tags": [],
        "id": "a8f5d933-8efb-4b02-bf80-a226dd65765b"
      },
      "source": [
        "def EvaluateQuerys():\n",
        "    #defing path variables\n",
        "    query_folder = Path(\"./querys\")\n",
        "    querys = sorted(query_folder.glob(\"*.wav\"), key=os.path.getmtime)\n",
        "\n",
        "    #buiding the shingle matrix and the first row of the signature matrix\n",
        "    for ID, audio in enumerate(querys):\n",
        "        # if ID < 1:\n",
        "        AudioPath = os.path.abspath(audio).split('/')[-1] #formatting the path to have only essential info\n",
        "        _, _, _, peaks = load_audio_peaks(audio, OFFSET, DURATION, HOP_SIZE) #computing peack indexes\n",
        "\n",
        "        #buiding a Shingle array\n",
        "        ShingleArray =  np.zeros(len(TrackDuration), dtype=int)\n",
        "        for PeakIdx in peaks:\n",
        "          ShingleArray[PeakIdx] = 1\n",
        "\n",
        "        #defining the SignatureArray\n",
        "        SignatureArray = np.empty(PERMUTATIONS, dtype=int)\n",
        "\n",
        "        #permuting the shingle array and recording it's the first non null element in the SignatureArray\n",
        "        #initializing the random number generator to obtain consistent permutations across all tracks\n",
        "        rng = np.random.default_rng(SEED) \n",
        "        for i in range(PERMUTATIONS):\n",
        "            ShuffledShingleArray = rng.permutation(ShingleArray)\n",
        "            SignatureArray[i] = ShuffledShingleArray.argmax()\n",
        "\n",
        "        #hashing the audio track using as keys it's signatures grouped in bands of size BAND_SIZE\n",
        "        #storing the hashes in a list to retrieve the buckets to which the query belongs\n",
        "        QueryBuckets = np.empty(0, dtype=int)\n",
        "        for i in range(0, PERMUTATIONS, BAND_SIZE):\n",
        "            Shingle = SignatureArray[i:(i+BAND_SIZE)]\n",
        "            BucketKey = HashFunction(Shingle)\n",
        "            QueryBuckets = np.append(QueryBuckets, BucketKey)\n",
        "\n",
        "        #interection of buckets to which the query belongs\n",
        "        # IntersectionElements = [*set.intersection(*[ShingleBuckets[key] for key in QueryBuckets[:3]])]\n",
        "        TrackSimilarities = Counter()\n",
        "        for q in QueryBuckets:\n",
        "            TrackSimilarities.update(ShingleBuckets[str(q)])\n",
        "\n",
        "        #track is...\n",
        "        #print bucket elements to which the query belongs\n",
        "        QueryName = AudioPath.split('.')[0]\n",
        "        # for element in IDofTrack[TrackSimilarities.most_common()[0][0]]:\n",
        "        track = IDofTrack[TrackSimilarities.most_common()[0][0]]\n",
        "        #formatting\n",
        "        Title = track.split('/')[-1][:-4].replace('_', ' ')\n",
        "        Title = re.sub(r'[\\d^-]', '', Title)\n",
        "        Album = track.split('/')[1].split('_')\n",
        "        Album = ' '.join([name.capitalize() for name in Album])\n",
        "        Author = track.split('/')[0].split('_')\n",
        "        Author = ' '.join([name.capitalize() for name in Author])\n",
        "        QueryNameAlligned = str.center(AudioPath.split('.')[0] + ':', (13 + len(QueryName)))\n",
        "        print(f'{QueryNameAlligned}{Author} - {Title} ({Album})')\n",
        "\n",
        "        #most similar track has Jaccard similarity\n",
        "        IDFirstSimilarity = TrackSimilarities.most_common()[0][0]\n",
        "        IDSecondSimilarity = TrackSimilarities.most_common()[1][0]\n",
        "\n",
        "        track = IDofTrack[TrackSimilarities.most_common()[1][0]]\n",
        "        #formatting\n",
        "        Title = track.split('/')[-1][:-4].replace('_', ' ')\n",
        "        Title = re.sub(r'[\\d^-]', '', Title)\n",
        "        Album = track.split('/')[1].split('_')\n",
        "        Album = ' '.join([name.capitalize() for name in Album])\n",
        "        Author = track.split('/')[0].split('_')\n",
        "        Author = ' '.join([name.capitalize() for name in Author])\n",
        "\n",
        "        JaccardSimilarity = sum(SignatureMatrix[:, IDFirstSimilarity] == \\\n",
        "                                SignatureMatrix[:, IDSecondSimilarity]) / PERMUTATIONS\n",
        "        print(f'{QueryName} best match: {Author} - {Title} ({Album}) with JS of {JaccardSimilarity: .3f}\\n')"
      ],
      "id": "a8f5d933-8efb-4b02-bf80-a226dd65765b",
      "execution_count": null,
      "outputs": []
    },
    {
      "cell_type": "markdown",
      "metadata": {
        "id": "c90b40a2-0d4b-4a22-9b99-60b98906bdd2"
      },
      "source": [
        "In the first example the parameers used are:\n",
        "- `PERMUTATIONS` = 300\n",
        "- `BAND_SIZE` = 3\n",
        "\n",
        "and so:\\\n",
        "$b = 300 / 3 = 100$ \\\n",
        "$T = 0.215$"
      ],
      "id": "c90b40a2-0d4b-4a22-9b99-60b98906bdd2"
    },
    {
      "cell_type": "code",
      "metadata": {
        "id": "19ee00a6-3880-4999-bc30-3fc1ec8fc9b9",
        "outputId": "6212e3d0-9cc4-436a-821f-72d42d1780c7"
      },
      "source": [
        "BAND_SIZE = 3\n",
        "PERMUTATIONS = 300\n",
        "ShingleBuckets = BucketingShingles()\n",
        "EvaluateQuerys()"
      ],
      "id": "19ee00a6-3880-4999-bc30-3fc1ec8fc9b9",
      "execution_count": null,
      "outputs": [
        {
          "name": "stdout",
          "output_type": "stream",
          "text": [
            "      track1:      Aerosmith - Dream On (Aerosmith)\n",
            "track1 best match: Beatles - Baby s In Black (Beatles For Sale) with JS of  0.023\n",
            "\n",
            "      track2:      Queen - I Want To Break Free (The Works)\n",
            "track2 best match: Suzanne Vega - Small Blue Thing (Suzanne Vega) with JS of  0.030\n",
            "\n",
            "      track3:      U2 - October (October)\n",
            "track3 best match: Metallica - Bleeding Me (Load) with JS of  0.010\n",
            "\n",
            "      track4:      Beatles - ObLaDi ObLaDa (The White Album Disc 1)\n",
            "track4 best match: U2 - Love Is Blindness (Achtung Baby) with JS of  0.023\n",
            "\n",
            "      track5:      Radiohead - Karma Police (Ok Computer)\n",
            "track5 best match: Green Day - Dominated Love Slave (Kerplunk) with JS of  0.007\n",
            "\n",
            "      track7:      Fleetwood Mac - Go Your Own Way (Rumours)\n",
            "track7 best match: Green Day - Jinx (Nimrod) with JS of  0.017\n",
            "\n",
            "      track8:      Green Day - American Idiot (American Idiot)\n",
            "track8 best match: Radiohead - I Might Be Wrong (Amnesiac) with JS of  0.013\n",
            "\n",
            "      track6:      Led Zeppelin - Heartbreaker (Led Zeppelin Ii)\n",
            "track6 best match: Depeche Mode - A question of lust (Black Celebration) with JS of  0.043\n",
            "\n",
            "      track9:      Depeche Mode - Somebody (Some Great Reward)\n",
            "track9 best match: Radiohead - Idioteque (Kid A) with JS of  0.010\n",
            "\n",
            "      track10:      Steely Dan - Black Friday (Katy Lied)\n",
            "track10 best match: Green Day - Walking Contradiction (Insomniac) with JS of  0.017\n",
            "\n"
          ]
        }
      ]
    },
    {
      "cell_type": "markdown",
      "metadata": {
        "id": "f5ba10c2-cf3d-49de-89a0-f111eba6e07f"
      },
      "source": [
        "Now the parameers are:\n",
        "- `PERMUTATIONS` = 300\n",
        "- `BAND_SIZE` = 10\n",
        "\n",
        "and so:\\\n",
        "$b = 300 / 10 = 30$ \\\n",
        "$T = 0.712$"
      ],
      "id": "f5ba10c2-cf3d-49de-89a0-f111eba6e07f"
    },
    {
      "cell_type": "code",
      "metadata": {
        "tags": [],
        "id": "13fdd25f-976a-4382-a222-cc869ace0de3",
        "outputId": "59f81829-f5f3-4c4c-8c67-2d527d54885a"
      },
      "source": [
        "BAND_SIZE = 10\n",
        "PERMUTATIONS = 300\n",
        "ShingleBuckets = BucketingShingles()\n",
        "EvaluateQuerys()"
      ],
      "id": "13fdd25f-976a-4382-a222-cc869ace0de3",
      "execution_count": null,
      "outputs": [
        {
          "name": "stdout",
          "output_type": "stream",
          "text": [
            "      track1:      Aerosmith - Dream On (Aerosmith)\n",
            "track1 best match: Garth Brooks - I ve Got A Good Thing Going (Garth Brooks The Limited Series ) with JS of  0.023\n",
            "\n",
            "      track2:      Queen - I Want To Break Free (The Works)\n",
            "track2 best match: U2 - Running to Stand Still (The Joshua Tree) with JS of  0.027\n",
            "\n",
            "      track3:      U2 - October (October)\n",
            "track3 best match: Dave Matthews Band - Don t Drink the Water (Before These Crowded Streets) with JS of  0.000\n",
            "\n",
            "      track4:      Beatles - ObLaDi ObLaDa (The White Album Disc 1)\n",
            "track4 best match: Fleetwood Mac - Over My Head (Fleetwood Mac) with JS of  0.020\n",
            "\n",
            "      track5:      Radiohead - Karma Police (Ok Computer)\n",
            "track5 best match: Fleetwood Mac - Walk a Thin Line (Tusk) with JS of  0.013\n",
            "\n",
            "      track7:      Fleetwood Mac - Go Your Own Way (Rumours)\n",
            "track7 best match: Metallica - Metal Militia (Kill Em All) with JS of  0.017\n",
            "\n",
            "      track8:      Green Day - American Idiot (American Idiot)\n",
            "track8 best match: Cure - The Snakepit (Kiss Me Kiss Me Kiss Me) with JS of  0.000\n",
            "\n",
            "      track6:      Led Zeppelin - Heartbreaker (Led Zeppelin Ii)\n",
            "track6 best match: Metallica - Motorbreath (Kill Em All) with JS of  0.017\n",
            "\n",
            "      track9:      Depeche Mode - Somebody (Some Great Reward)\n",
            "track9 best match: Depeche Mode - New dress (Black Celebration) with JS of  0.017\n",
            "\n",
            "      track10:      Steely Dan - Black Friday (Katy Lied)\n",
            "track10 best match: Garth Brooks - Every Now And Then (The Chase) with JS of  0.033\n",
            "\n"
          ]
        }
      ]
    },
    {
      "cell_type": "markdown",
      "metadata": {
        "id": "0a66b7ce-5208-4dbf-b48f-81ea66015353"
      },
      "source": [
        "Now the parameers are:\n",
        "- `PERMUTATIONS` = 150\n",
        "- `BAND_SIZE` = 5\n",
        "\n",
        "and so:\\\n",
        "$b = 150 / 5 = 30$ \\\n",
        "$T = 0.507$"
      ],
      "id": "0a66b7ce-5208-4dbf-b48f-81ea66015353"
    },
    {
      "cell_type": "code",
      "metadata": {
        "tags": [],
        "id": "0df80f1c-4fad-4a6f-94e0-f74d35ba485b",
        "outputId": "7ff32c24-e1d8-409b-dbf4-863fc2baf54f"
      },
      "source": [
        "BAND_SIZE = 5\n",
        "PERMUTATIONS = 150\n",
        "SignatureMatrix = SignatureMatrix[:150]\n",
        "ShingleBuckets = BucketingShingles()\n",
        "EvaluateQuerys()"
      ],
      "id": "0df80f1c-4fad-4a6f-94e0-f74d35ba485b",
      "execution_count": null,
      "outputs": [
        {
          "name": "stdout",
          "output_type": "stream",
          "text": [
            "      track1:      Aerosmith - Dream On (Aerosmith)\n",
            "track1 best match: Suzanne Vega - Song Of Sand (99 9 F ) with JS of  0.020\n",
            "\n",
            "      track2:      Queen - I Want To Break Free (The Works)\n",
            "track2 best match: Madonna - Bye Bye Baby (Erotica) with JS of  0.073\n",
            "\n",
            "      track3:      U2 - October (October)\n",
            "track3 best match: Green Day - King For A Day (Nimrod) with JS of  0.013\n",
            "\n",
            "      track4:      Beatles - ObLaDi ObLaDa (The White Album Disc 1)\n",
            "track4 best match: Radiohead - I Will (Hail To The Theif) with JS of  0.000\n",
            "\n",
            "      track5:      Radiohead - Karma Police (Ok Computer)\n",
            "track5 best match: Queen - Keep Passing The Open Windows (The Works) with JS of  0.013\n",
            "\n",
            "      track7:      Fleetwood Mac - Go Your Own Way (Rumours)\n",
            "track7 best match: Radiohead - A Wolf at the Door (Hail To The Theif) with JS of  0.027\n",
            "\n",
            "      track8:      Green Day - American Idiot (American Idiot)\n",
            "track8 best match: Cure - Bare (Wild Mood Swings) with JS of  0.013\n",
            "\n",
            "      track6:      Led Zeppelin - Heartbreaker (Led Zeppelin Ii)\n",
            "track6 best match: Metallica - Welcome Home Sanitarium  (Master Of Puppets) with JS of  0.027\n",
            "\n",
            "      track9:      Depeche Mode - Somebody (Some Great Reward)\n",
            "track9 best match: U2 - Like A Song  (War) with JS of  0.033\n",
            "\n",
            "      track10:      Steely Dan - Black Friday (Katy Lied)\n",
            "track10 best match: Tori Amos - Cornflake Girl (Under The Pink) with JS of  0.040\n",
            "\n"
          ]
        }
      ]
    },
    {
      "cell_type": "markdown",
      "metadata": {
        "id": "b8ae5035-5134-49cf-a132-aca5b9044e0d"
      },
      "source": [
        "Different combinations of the band size and the number of permutations gave different similarities of the querys but a significant variation of the $JS$ is not observed. \\\n",
        "The result could be imporved with:\n",
        "- expanding the dataset, this would allow to have more shingles and more probability of similarities between them\n",
        "- adding some \"noise\" to the peaks, de facto \"spreading\" the peaks over more array elements so to loosen the constrain that the peaks of the tracks should precisely match"
      ],
      "id": "b8ae5035-5134-49cf-a132-aca5b9044e0d"
    },
    {
      "cell_type": "code",
      "metadata": {
        "id": "B4sOzQS3HcnQ"
      },
      "source": [
        ""
      ],
      "id": "B4sOzQS3HcnQ",
      "execution_count": null,
      "outputs": []
    },
    {
      "cell_type": "markdown",
      "metadata": {
        "id": "lz_FYfbPnQoB"
      },
      "source": [
        "# Es 2"
      ],
      "id": "lz_FYfbPnQoB"
    },
    {
      "cell_type": "markdown",
      "metadata": {
        "id": "mKxUHklKncXW"
      },
      "source": [
        "## Es 2.1"
      ],
      "id": "mKxUHklKncXW"
    },
    {
      "cell_type": "code",
      "metadata": {
        "colab": {
          "base_uri": "https://localhost:8080/"
        },
        "id": "wP3GgWP0dL0w",
        "outputId": "7b07ef01-11c0-48d5-8782-ad92149bfeec"
      },
      "source": [
        "from google.colab import drive\n",
        "drive.mount('/content/drive')"
      ],
      "id": "wP3GgWP0dL0w",
      "execution_count": null,
      "outputs": [
        {
          "output_type": "stream",
          "name": "stdout",
          "text": [
            "Mounted at /content/drive\n"
          ]
        }
      ]
    },
    {
      "cell_type": "code",
      "metadata": {
        "id": "VOBCBeNtdXQr"
      },
      "source": [
        "import pandas as pd\n",
        "import numpy as np"
      ],
      "id": "VOBCBeNtdXQr",
      "execution_count": null,
      "outputs": []
    },
    {
      "cell_type": "code",
      "metadata": {
        "id": "K5jfq8-WeWcZ"
      },
      "source": [
        "echo = pd.read_csv('/content/drive/MyDrive/ADM_HM4/echonest.csv')"
      ],
      "id": "K5jfq8-WeWcZ",
      "execution_count": null,
      "outputs": []
    },
    {
      "cell_type": "code",
      "metadata": {
        "id": "w9ymAxPsfNW4"
      },
      "source": [
        "feat = pd.read_csv('/content/drive/MyDrive/ADM_HM4/features.csv')"
      ],
      "id": "w9ymAxPsfNW4",
      "execution_count": null,
      "outputs": []
    },
    {
      "cell_type": "code",
      "metadata": {
        "id": "mZitINROfkCw"
      },
      "source": [
        "tracks = pd.read_csv('/content/drive/MyDrive/ADM_HM4/tracks.csv')"
      ],
      "id": "mZitINROfkCw",
      "execution_count": null,
      "outputs": []
    },
    {
      "cell_type": "code",
      "metadata": {
        "colab": {
          "base_uri": "https://localhost:8080/"
        },
        "id": "p2fUDO8fkO8x",
        "outputId": "b2237a42-7c46-44d4-88b5-b04d12ee7eee"
      },
      "source": [
        "# Just a look on the dataframes dimensions\n",
        "print(echo.shape)\n",
        "print(feat.shape)\n",
        "print(tracks.shape)"
      ],
      "id": "p2fUDO8fkO8x",
      "execution_count": null,
      "outputs": [
        {
          "output_type": "stream",
          "name": "stdout",
          "text": [
            "(13129, 250)\n",
            "(106574, 519)\n",
            "(106574, 53)\n"
          ]
        }
      ]
    },
    {
      "cell_type": "code",
      "metadata": {
        "id": "zNCq-xh_jvht"
      },
      "source": [
        "# Merging \"echo\" and \"feat\" dataframes (cause merge function wants only two dataframes)\n",
        "df1 = pd.merge(echo,feat, on = 'track_id')"
      ],
      "id": "zNCq-xh_jvht",
      "execution_count": null,
      "outputs": []
    },
    {
      "cell_type": "code",
      "metadata": {
        "id": "cifaA6qHmOkH"
      },
      "source": [
        "# Create the final dataframe\n",
        "df = pd.merge(df1,tracks, on = 'track_id')"
      ],
      "id": "cifaA6qHmOkH",
      "execution_count": null,
      "outputs": []
    },
    {
      "cell_type": "code",
      "metadata": {
        "colab": {
          "base_uri": "https://localhost:8080/"
        },
        "id": "NS182BsuMdrb",
        "outputId": "8a612a95-497f-4056-b9f7-394e434e9991"
      },
      "source": [
        "df.shape"
      ],
      "id": "NS182BsuMdrb",
      "execution_count": null,
      "outputs": [
        {
          "output_type": "execute_result",
          "data": {
            "text/plain": [
              "(13129, 820)"
            ]
          },
          "metadata": {},
          "execution_count": 9
        }
      ]
    },
    {
      "cell_type": "markdown",
      "metadata": {
        "id": "c3rMLaMJToa0"
      },
      "source": [
        "### Preprocessing the dataset"
      ],
      "id": "c3rMLaMJToa0"
    },
    {
      "cell_type": "markdown",
      "metadata": {
        "id": "cH6h7BPITu6X"
      },
      "source": [
        "Cleaning all features with too many \"na\" values (all the ones with more than 10%)"
      ],
      "id": "cH6h7BPITu6X"
    },
    {
      "cell_type": "code",
      "metadata": {
        "id": "z4Xw8deYUKzG"
      },
      "source": [
        "df = df.dropna(axis=1,thresh=int(0.9*df.shape[0]))  ## drop all columns with more than 10% of nan value"
      ],
      "id": "z4Xw8deYUKzG",
      "execution_count": null,
      "outputs": []
    },
    {
      "cell_type": "code",
      "metadata": {
        "id": "x23xbBzj0US9"
      },
      "source": [
        "dfna = df.fillna(np.NaN)    #this will be used for the Cluster-Analysis\n",
        "df = df.fillna(0)           #this will be used for the PCA"
      ],
      "id": "x23xbBzj0US9",
      "execution_count": null,
      "outputs": []
    },
    {
      "cell_type": "code",
      "metadata": {
        "colab": {
          "base_uri": "https://localhost:8080/"
        },
        "id": "0qsXgt2_mlVq",
        "outputId": "f82676b9-658b-4290-ccee-f962d05a67a2"
      },
      "source": [
        "# Checking if it contains near 13000 rows\n",
        "print(dfna.shape)\n",
        "print(df.shape)"
      ],
      "id": "0qsXgt2_mlVq",
      "execution_count": null,
      "outputs": [
        {
          "output_type": "stream",
          "name": "stdout",
          "text": [
            "(13129, 788)\n",
            "(13129, 788)\n"
          ]
        }
      ]
    },
    {
      "cell_type": "markdown",
      "metadata": {
        "id": "n2ZCto3doC0v"
      },
      "source": [
        "## Es 2.2\n"
      ],
      "id": "n2ZCto3doC0v"
    },
    {
      "cell_type": "markdown",
      "metadata": {
        "id": "-K7vM6zuExGk"
      },
      "source": [
        "To reduce the dimensionality of features in our dataset we choose to use the Principal Component Analysis. This method allow us to create a certain number of Principal Components in order to obtain a dataframe with less features but many explained information as we want. For this exercise we set the information that we want preserved equal at least at 70%. To work on our dataset in order to create the right principal components we need to standradize each feature (if we don't, features with different scales may create some problem in the principal component creation). The problem with this method is that we can apply it only on numeric features so, as we can see in the final dataframe, we remain with a lot of features."
      ],
      "id": "-K7vM6zuExGk"
    },
    {
      "cell_type": "code",
      "metadata": {
        "id": "QwJUj3JQoFHK"
      },
      "source": [
        "from sklearn.preprocessing import StandardScaler\n",
        "import numpy as np\n",
        "from sklearn.decomposition import PCA\n",
        "import matplotlib.pyplot as plt"
      ],
      "id": "QwJUj3JQoFHK",
      "execution_count": null,
      "outputs": []
    },
    {
      "cell_type": "code",
      "metadata": {
        "id": "HD4PhTUtrcQJ"
      },
      "source": [
        "typo = dict(df.dtypes)"
      ],
      "id": "HD4PhTUtrcQJ",
      "execution_count": null,
      "outputs": []
    },
    {
      "cell_type": "code",
      "metadata": {
        "id": "yyWZL6fevIjK"
      },
      "source": [
        "# Create two list with respectively the names of float and non-float variables\n",
        "features = list()\n",
        "target = list()\n",
        "for f in typo:\n",
        "  if typo[f] == 'float64':\n",
        "    features.append(f)\n",
        "  else:\n",
        "    target.append(f)"
      ],
      "id": "yyWZL6fevIjK",
      "execution_count": null,
      "outputs": []
    },
    {
      "cell_type": "code",
      "metadata": {
        "id": "TVCf04YCNJJe"
      },
      "source": [
        "fe = df.select_dtypes(include=['float64']) #only float"
      ],
      "id": "TVCf04YCNJJe",
      "execution_count": null,
      "outputs": []
    },
    {
      "cell_type": "code",
      "metadata": {
        "id": "VsJbnS4cNJJf"
      },
      "source": [
        "# Create correlation matrix\n",
        "corr_matrix = fe.corr().abs()\n",
        "\n",
        "# Select upper triangle of correlation matrix\n",
        "upper = corr_matrix.where(np.triu(np.ones(corr_matrix.shape), k=1).astype(np.bool))\n",
        "\n",
        "# Find features with correlation greater than 0.95\n",
        "to_drop = [column for column in upper.columns if any(upper[column] > 0.95)]\n",
        "\n",
        "# Drop features \n",
        "fe.drop(to_drop, axis=1, inplace=True)"
      ],
      "id": "VsJbnS4cNJJf",
      "execution_count": null,
      "outputs": []
    },
    {
      "cell_type": "code",
      "metadata": {
        "colab": {
          "base_uri": "https://localhost:8080/"
        },
        "id": "3zho0SWRN2Ri",
        "outputId": "1a004375-2207-440a-cab1-8fae82989b7f"
      },
      "source": [
        "fe.shape"
      ],
      "id": "3zho0SWRN2Ri",
      "execution_count": null,
      "outputs": [
        {
          "output_type": "execute_result",
          "data": {
            "text/plain": [
              "(13129, 644)"
            ]
          },
          "metadata": {},
          "execution_count": 18
        }
      ]
    },
    {
      "cell_type": "code",
      "metadata": {
        "id": "-2xykV9pv-Dm"
      },
      "source": [
        "# Creates two arrays with the values respectively of float variables and non-float variables\n",
        "x = fe.values\n",
        "y = df.loc[:,target].values"
      ],
      "id": "-2xykV9pv-Dm",
      "execution_count": null,
      "outputs": []
    },
    {
      "cell_type": "code",
      "metadata": {
        "id": "1C_0gilxx5oe"
      },
      "source": [
        "# Standardize numeric variables\n",
        "x = StandardScaler().fit_transform(x)"
      ],
      "id": "1C_0gilxx5oe",
      "execution_count": null,
      "outputs": []
    },
    {
      "cell_type": "code",
      "metadata": {
        "id": "x-2GGxT-Nu_T"
      },
      "source": [
        "colx = ['PC' + str(i) for i in range(1,70)]"
      ],
      "id": "x-2GGxT-Nu_T",
      "execution_count": null,
      "outputs": []
    },
    {
      "cell_type": "code",
      "metadata": {
        "id": "UVLVyC6T1Cox"
      },
      "source": [
        "# Principal Component Analysis; we create 69 new variables from the original 780\n",
        "pca = PCA(n_components=69)\n",
        "principalComponents = pca.fit_transform(x)\n",
        "principalDf = pd.DataFrame(data = principalComponents, columns=colx)"
      ],
      "id": "UVLVyC6T1Cox",
      "execution_count": null,
      "outputs": []
    },
    {
      "cell_type": "code",
      "metadata": {
        "id": "2fnxTR-h7MuG"
      },
      "source": [
        "# Creates a dataframe with our Principal Components and old non-float variables\n",
        "finalDf = pd.concat([principalDf, pd.DataFrame(y, columns=target)], axis = 1)"
      ],
      "id": "2fnxTR-h7MuG",
      "execution_count": null,
      "outputs": []
    },
    {
      "cell_type": "code",
      "metadata": {
        "colab": {
          "base_uri": "https://localhost:8080/"
        },
        "id": "7PGuzmwV7hvL",
        "outputId": "8ab0e84b-9007-4a5d-c972-010dd781e425"
      },
      "source": [
        "# Checks if the explained data is near 70%\n",
        "sum(pca.explained_variance_ratio_)"
      ],
      "id": "7PGuzmwV7hvL",
      "execution_count": null,
      "outputs": [
        {
          "output_type": "execute_result",
          "data": {
            "text/plain": [
              "0.6947323384133492"
            ]
          },
          "metadata": {},
          "execution_count": 24
        }
      ]
    },
    {
      "cell_type": "code",
      "metadata": {
        "colab": {
          "base_uri": "https://localhost:8080/",
          "height": 283
        },
        "id": "K_LNfmYIB5L6",
        "outputId": "abe27019-fa41-4800-c1f6-c901d96a6ac9"
      },
      "source": [
        "#Just a visual check to see how much explained variance is in each PC\n",
        "plt.plot(pca.explained_variance_ratio_)\n",
        "plt.plot(pca.explained_variance_ratio_, 'ro')"
      ],
      "id": "K_LNfmYIB5L6",
      "execution_count": null,
      "outputs": [
        {
          "output_type": "execute_result",
          "data": {
            "text/plain": [
              "[<matplotlib.lines.Line2D at 0x7fcb86526090>]"
            ]
          },
          "metadata": {},
          "execution_count": 25
        },
        {
          "output_type": "display_data",
          "data": {
            "image/png": "[encoded data removed]",
            "text/plain": [
              "<Figure size 432x288 with 1 Axes>"
            ]
          },
          "metadata": {
            "needs_background": "light"
          }
        }
      ]
    },
    {
      "cell_type": "markdown",
      "metadata": {
        "id": "zujrDrUHDXPO"
      },
      "source": [
        "Looking at the plot we see that most of our info is contained in just our first ten principal component but they are not enough to reach our goal of 70% of explained information"
      ],
      "id": "zujrDrUHDXPO"
    },
    {
      "cell_type": "code",
      "metadata": {
        "id": "JFQEa1zFOjcV"
      },
      "source": [
        "#finalDf.to_csv('/content/drive/MyDrive/pca_data.csv')"
      ],
      "id": "JFQEa1zFOjcV",
      "execution_count": null,
      "outputs": []
    },
    {
      "cell_type": "markdown",
      "metadata": {
        "id": "h7ZyxD_8e1um"
      },
      "source": [
        "## Es 2.3"
      ],
      "id": "h7ZyxD_8e1um"
    },
    {
      "cell_type": "markdown",
      "metadata": {
        "id": "wegHvic_e_ew"
      },
      "source": [
        "### Es 2.3.1"
      ],
      "id": "wegHvic_e_ew"
    },
    {
      "cell_type": "markdown",
      "metadata": {
        "id": "uD_Zmpv1RzXB"
      },
      "source": [
        "K-means algorithm"
      ],
      "id": "uD_Zmpv1RzXB"
    },
    {
      "cell_type": "code",
      "metadata": {
        "id": "2MDDQHf6Kxlq"
      },
      "source": [
        "import random\n",
        "import numpy as np\n",
        "\n",
        "def calc_centroids(cluster,length):\n",
        "  cluster=np.array(cluster)\n",
        "  sum_coord = [np.sum(cluster[:,i])/len(cluster) for i in range(length)]\n",
        "  return sum_coord\n",
        "\n",
        "def k_means(dt,k):\n",
        "  centroids=[] # list that contains centroids\n",
        "  rand=[] # list that contains the index founded \n",
        "  # find centroids from the points given, avoiding replicant\n",
        "  while len(centroids) != k:\n",
        "    rand_ind=random.randint(0,len(dt)-1)\n",
        "    if rand_ind not in rand:\n",
        "      rand.append(rand_ind)\n",
        "      centroids.append(dt[rand_ind])\n",
        "  centroids=np.array(centroids)\n",
        "  clusters=np.array([0 for i in range(len(dt))]) # for each element (indicated by the index), we have the correspondent cluster\n",
        "  changed=True # boolean to check if something is changed during the last iteration\n",
        "  # until it converges --> clusters doesn't change during the last iteration\n",
        "  iterations=0\n",
        "  while changed and iterations<300:\n",
        "    points_in_cl=[[] for i in range(k)] #list that contains the lists of points in each cluster\n",
        "    changed=False \n",
        "    # find the cluster for each point\n",
        "    for p in range(len(dt)):\n",
        "      min=100000\n",
        "      clu=-1\n",
        "      for i in range(len(centroids)):\n",
        "        # calculate the distance between the point and each centroid and find the min\n",
        "        dist= np.linalg.norm(dt[p]-centroids[i]) \n",
        "        if dist < min:\n",
        "          min=dist\n",
        "          clu=i\n",
        "      points_in_cl[clu].append(dt[p]) #add the point in the founded cluster\n",
        "      if clu!=clusters[p] and clu!=-1: #if there is a change\n",
        "        clusters[p]=clu \n",
        "        changed=True\n",
        "    # Compute new centroids for each cluster finding the average\n",
        "    for c in range(k):\n",
        "      centroids[c]=calc_centroids(points_in_cl[c],len(dt[0]))\n",
        "    iterations+=1\n",
        "  return centroids,clusters,points_in_cl"
      ],
      "id": "2MDDQHf6Kxlq",
      "execution_count": null,
      "outputs": []
    },
    {
      "cell_type": "markdown",
      "metadata": {
        "id": "Jr2lR1wz1T4A"
      },
      "source": [
        "An example of application to a simple group of points "
      ],
      "id": "Jr2lR1wz1T4A"
    },
    {
      "cell_type": "code",
      "metadata": {
        "colab": {
          "base_uri": "https://localhost:8080/",
          "height": 283
        },
        "id": "1aPSQFL4h7ss",
        "outputId": "7d80f2a1-ea57-467a-fd6b-5ce268fe9866"
      },
      "source": [
        "from matplotlib import pyplot as plt\n",
        "dt=[[2,10],[4,4],[4,9],[4,12],[5,2],[6,3],[6,9],[11,6],[12,7],[13,5],[14,9]]\n",
        "centroids,clusters,points_in_cl = k_means(dt,3)\n",
        "plt.scatter(list(zip(*points_in_cl[0]))[0],list(zip(*points_in_cl[0]))[1],color='blue') #first cluster\n",
        "plt.scatter(list(zip(*points_in_cl[1]))[0],list(zip(*points_in_cl[1]))[1],color='red')   #second cluster\n",
        "plt.scatter(list(zip(*points_in_cl[2]))[0],list(zip(*points_in_cl[2]))[1],color='yellow') #third cluster\n",
        "plt.scatter(list(zip(*centroids))[0],list(zip(*centroids))[1],color='purple',marker='*')  #centroids for each cluster"
      ],
      "id": "1aPSQFL4h7ss",
      "execution_count": null,
      "outputs": [
        {
          "output_type": "execute_result",
          "data": {
            "text/plain": [
              "<matplotlib.collections.PathCollection at 0x7f12c24cc450>"
            ]
          },
          "metadata": {},
          "execution_count": 5
        },
        {
          "output_type": "display_data",
          "data": {
            "image/png": "[encoded data removed]",
            "text/plain": [
              "<Figure size 432x288 with 1 Axes>"
            ]
          },
          "metadata": {
            "needs_background": "light"
          }
        }
      ]
    },
    {
      "cell_type": "markdown",
      "metadata": {
        "id": "rsk7s2TeBDqp"
      },
      "source": [
        "As we can see our algorithm works well and divides the points in the correct clusters"
      ],
      "id": "rsk7s2TeBDqp"
    },
    {
      "cell_type": "markdown",
      "metadata": {
        "id": "n4wW8Ioin56k"
      },
      "source": [
        "### Es 2.3.2"
      ],
      "id": "n4wW8Ioin56k"
    },
    {
      "cell_type": "markdown",
      "metadata": {
        "id": "Cn1tK9GcoA32"
      },
      "source": [
        "#### Elbow method"
      ],
      "id": "Cn1tK9GcoA32"
    },
    {
      "cell_type": "markdown",
      "metadata": {
        "id": "Frik6bKOLs7F"
      },
      "source": [
        "The elbow method calculates for each execution of the k-means with different number of clusters, the sum of all the distances between each centroid and the sample in the correspondent cluster (the one where the centroid is calculated).\n",
        "\n",
        "After doing that it has the sum of squared errors (distances) for the range of the number of clusters we chose. Plotting this value, we can see from the graph where it forms an elbow (from here the name of the method), and there the correspondent value of k is the best number of clusters.\n"
      ],
      "id": "Frik6bKOLs7F"
    },
    {
      "cell_type": "code",
      "metadata": {
        "id": "Uld_yT3Un9-v"
      },
      "source": [
        "from matplotlib import pyplot as plt\n",
        "\n",
        "def elbow_method(dataset):\n",
        "  sse=[] # list that will contain the sum of squared errors for each k\n",
        "  for num_clusters in range(1,10):\n",
        "    sum_dist=0\n",
        "    centroids,clusters,points_in_cl=k_means(dataset,num_clusters) # apply k-means algorithm with every k\n",
        "    for i in range(len(centroids)):\n",
        "      for point in points_in_cl[i]:\n",
        "        sum_dist+=np.linalg.norm(point-centroids[i]) # calcuate the sse for each point from the centroids\n",
        "    sse.append(sum_dist) \n",
        "  \n",
        "  plt.xlabel('K')\n",
        "  plt.ylabel('Sse')\n",
        "  plt.plot(range(1,10),sse) \n"
      ],
      "id": "Uld_yT3Un9-v",
      "execution_count": null,
      "outputs": []
    },
    {
      "cell_type": "code",
      "metadata": {
        "colab": {
          "base_uri": "https://localhost:8080/",
          "height": 278
        },
        "id": "l8zPMcIF-TPE",
        "outputId": "fcd6b28a-8f76-4287-acfc-12ce05335948"
      },
      "source": [
        "elbow_method(dt)"
      ],
      "id": "l8zPMcIF-TPE",
      "execution_count": null,
      "outputs": [
        {
          "output_type": "display_data",
          "data": {
            "image/png": "[encoded data removed]",
            "text/plain": [
              "<Figure size 432x288 with 1 Axes>"
            ]
          },
          "metadata": {
            "needs_background": "light"
          }
        }
      ]
    },
    {
      "cell_type": "markdown",
      "metadata": {
        "id": "mnGdrvIH0aul"
      },
      "source": [
        "The best number of cluster is the point where the graph looks like an elbow , so in this case 3"
      ],
      "id": "mnGdrvIH0aul"
    },
    {
      "cell_type": "markdown",
      "metadata": {
        "id": "WGkjsZf6Il3t"
      },
      "source": [
        "#### Silhouette method"
      ],
      "id": "WGkjsZf6Il3t"
    },
    {
      "cell_type": "markdown",
      "metadata": {
        "id": "N8kwp5BwNYMq"
      },
      "source": [
        "The silhouette method calculate for each sample the mean distance between it and all the other sample in the cluster (mean intra-cluster distance, called a) and with the samples in the nearest cluster (mean nearest-cluster distance, called b).\n",
        "After computing that, we can apply this formula to obtain the silhouette score of each sample(${S_i}$): \n",
        "\n",
        "${S_i} = \\frac{b(i)-a(i)}{min(a(i),b(i))} $\n",
        "\n",
        "To compute the silhouette value for the whole dataset we just need to compute the mean between all the silhouette scores we obtained; and this is a measure of how appropriately the data have been clustered.\n",
        "\n",
        "To see which number of cluster is the best, the only thing we need to do is the value of k where we find the highest value.\n"
      ],
      "id": "N8kwp5BwNYMq"
    },
    {
      "cell_type": "code",
      "metadata": {
        "id": "UDPqjZPPV6f7"
      },
      "source": [
        "def silhouette_method(dataset):\n",
        "  silhouette=[0,] #with k=1 the silhouette score is 0\n",
        "  for num_clusters in range(2,10):\n",
        "    centroids,clusters,points_in_cl=k_means(dataset,num_clusters) #operate the k_means with that number of cluster\n",
        "    centroids=np.array(centroids)\n",
        "    clusters=np.array(clusters)\n",
        "    points_in_cl=np.array(points_in_cl)\n",
        "\n",
        "    # for each cluster find the nearest one\n",
        "    nearest=[]\n",
        "    for c in range(len(centroids)):\n",
        "      distances=np.linalg.norm(centroids-centroids[c], axis=1) #calculate the distances between all the centroids and this one\n",
        "      nearest.append(np.where(distances==np.sort(distances)[1])[0][0]) #select the second minimum because the first one results obviously to be the centroid we are analyzing it self.\n",
        "    \n",
        "    ### compute the silhuette score for each sample\n",
        "    scores=[]\n",
        "    for cl in range(len(points_in_cl)):\n",
        "      for sample in points_in_cl[cl]:\n",
        "        if len(points_in_cl[cl])>1:\n",
        "          # mean intra-cluster distance (a) --> the mean distance between the sample and all other samples in the same cluster \n",
        "          a = sum(np.linalg.norm(points_in_cl[cl]-np.array(sample), axis=1))/(len(points_in_cl[cl])-1) # in the counting we don't count the sample we are analyzing\n",
        "          # mean nearest-cluster distance (b) --> the mean distance between the sample and all the other samples in the nearest cluster\n",
        "          b= np.linalg.norm(points_in_cl[nearest[cl]]-np.array(sample), axis=1).mean()\n",
        "          silhouette_score= (b-a) / (max(a,b)) #apply the silhouette score formula\n",
        "          scores.append(silhouette_score) \n",
        "        else:\n",
        "          scores.append(0) # if the len of the sample's cluster is 1, we have 0 as silhouette score\n",
        "    scores=np.array(scores)\n",
        "    silhouette.append(scores.mean()) # the silhouette score of the dataset is given by the mean of the scores of all samples.\n",
        "  return silhouette\n",
        "    \n",
        "\n",
        "\n",
        "\n"
      ],
      "id": "UDPqjZPPV6f7",
      "execution_count": null,
      "outputs": []
    },
    {
      "cell_type": "code",
      "metadata": {
        "colab": {
          "base_uri": "https://localhost:8080/"
        },
        "id": "7a4WpbTVvjWK",
        "outputId": "5d55a9bc-bfb0-421b-c24e-971963ce180e"
      },
      "source": [
        "silhouette_method(dt)"
      ],
      "id": "7a4WpbTVvjWK",
      "execution_count": null,
      "outputs": [
        {
          "output_type": "stream",
          "name": "stderr",
          "text": [
            "/usr/local/lib/python3.7/dist-packages/ipykernel_launcher.py:7: VisibleDeprecationWarning: Creating an ndarray from ragged nested sequences (which is a list-or-tuple of lists-or-tuples-or ndarrays with different lengths or shapes) is deprecated. If you meant to do this, you must specify 'dtype=object' when creating the ndarray\n",
            "  import sys\n"
          ]
        },
        {
          "output_type": "execute_result",
          "data": {
            "text/plain": [
              "[0,\n",
              " 0.5049519138073264,\n",
              " 0.6507189379210274,\n",
              " 0.3547396133972357,\n",
              " 0.4795140710146292,\n",
              " 0.1997560259300051,\n",
              " 0.14865058489812497,\n",
              " 0.0972285192332282,\n",
              " 0.03341313345148401]"
            ]
          },
          "metadata": {},
          "execution_count": 11
        }
      ]
    },
    {
      "cell_type": "markdown",
      "metadata": {
        "id": "D2qpZuGt0vpi"
      },
      "source": [
        "The higher the better, so the best in this case is k=3, same as the results gave us by the elbow method"
      ],
      "id": "D2qpZuGt0vpi"
    },
    {
      "cell_type": "markdown",
      "metadata": {
        "id": "1HMQ-0HGDFDg"
      },
      "source": [
        "Comparing with the silhouette method implemented in scikit-learn library:"
      ],
      "id": "1HMQ-0HGDFDg"
    },
    {
      "cell_type": "code",
      "metadata": {
        "colab": {
          "base_uri": "https://localhost:8080/"
        },
        "id": "cIkR-nUCDl3w",
        "outputId": "fdc4f182-099a-4de6-b0bf-5b0d3936453e"
      },
      "source": [
        "from sklearn.metrics import silhouette_score\n",
        "\n",
        "silhouette=[0,] #with k=0 the silhouette score is 0\n",
        "for num_clusters in range(2,10):\n",
        "    centroids,clusters,points_in_cl=k_means(dt,num_clusters)  \n",
        "    silhouette_avg = silhouette_score(dt, clusters) # calculate the silhouette score (the average between each silhouette coefficient related by samples)\n",
        "    silhouette.append(silhouette_avg)\n",
        "print(silhouette)"
      ],
      "id": "cIkR-nUCDl3w",
      "execution_count": null,
      "outputs": [
        {
          "output_type": "stream",
          "name": "stdout",
          "text": [
            "[0, 0.5049519138073264, 0.6484344867124575, 0.4487355788570308, 0.21939267386012096, 0.12090687985229619, 0.24256008105688942, 0.0972285192332282, 0.11690559533704575]\n"
          ]
        }
      ]
    },
    {
      "cell_type": "markdown",
      "metadata": {
        "id": "BX6J7GuEEJCF"
      },
      "source": [
        "As we can see, our method and the one already implemented in the library gave us quite similar results. And also in this case 3 results to be the best number of cluster on this testing small group of points"
      ],
      "id": "BX6J7GuEEJCF"
    },
    {
      "cell_type": "markdown",
      "metadata": {
        "id": "yM4ufmiquoCh"
      },
      "source": [
        "### Es 2.3.3 "
      ],
      "id": "yM4ufmiquoCh"
    },
    {
      "cell_type": "markdown",
      "metadata": {
        "id": "JDOK8rvgSaPl"
      },
      "source": [
        "Run our k-means on the dataset we got from dimensionality reduction"
      ],
      "id": "JDOK8rvgSaPl"
    },
    {
      "cell_type": "code",
      "metadata": {
        "id": "kJO9igz2808L",
        "colab": {
          "base_uri": "https://localhost:8080/",
          "height": 515
        },
        "outputId": "db9bba8e-22ac-4c6b-da32-c0b5d5136281"
      },
      "source": [
        "finalDf.head()"
      ],
      "id": "kJO9igz2808L",
      "execution_count": null,
      "outputs": [
        {
          "output_type": "execute_result",
          "data": {
            "text/html": [
              "<div>\n",
              "<style scoped>\n",
              "    .dataframe tbody tr th:only-of-type {\n",
              "        vertical-align: middle;\n",
              "    }\n",
              "\n",
              "    .dataframe tbody tr th {\n",
              "        vertical-align: top;\n",
              "    }\n",
              "\n",
              "    .dataframe thead th {\n",
              "        text-align: right;\n",
              "    }\n",
              "</style>\n",
              "<table border=\"1\" class=\"dataframe\">\n",
              "  <thead>\n",
              "    <tr style=\"text-align: right;\">\n",
              "      <th></th>\n",
              "      <th>PC1</th>\n",
              "      <th>PC2</th>\n",
              "      <th>PC3</th>\n",
              "      <th>PC4</th>\n",
              "      <th>PC5</th>\n",
              "      <th>PC6</th>\n",
              "      <th>PC7</th>\n",
              "      <th>PC8</th>\n",
              "      <th>PC9</th>\n",
              "      <th>PC10</th>\n",
              "      <th>PC11</th>\n",
              "      <th>PC12</th>\n",
              "      <th>PC13</th>\n",
              "      <th>PC14</th>\n",
              "      <th>PC15</th>\n",
              "      <th>PC16</th>\n",
              "      <th>PC17</th>\n",
              "      <th>PC18</th>\n",
              "      <th>PC19</th>\n",
              "      <th>PC20</th>\n",
              "      <th>PC21</th>\n",
              "      <th>PC22</th>\n",
              "      <th>PC23</th>\n",
              "      <th>PC24</th>\n",
              "      <th>PC25</th>\n",
              "      <th>PC26</th>\n",
              "      <th>PC27</th>\n",
              "      <th>PC28</th>\n",
              "      <th>PC29</th>\n",
              "      <th>PC30</th>\n",
              "      <th>PC31</th>\n",
              "      <th>PC32</th>\n",
              "      <th>PC33</th>\n",
              "      <th>PC34</th>\n",
              "      <th>PC35</th>\n",
              "      <th>PC36</th>\n",
              "      <th>PC37</th>\n",
              "      <th>PC38</th>\n",
              "      <th>PC39</th>\n",
              "      <th>PC40</th>\n",
              "      <th>...</th>\n",
              "      <th>PC63</th>\n",
              "      <th>PC64</th>\n",
              "      <th>PC65</th>\n",
              "      <th>PC66</th>\n",
              "      <th>PC67</th>\n",
              "      <th>PC68</th>\n",
              "      <th>PC69</th>\n",
              "      <th>track_id</th>\n",
              "      <th>metadata_artist_name</th>\n",
              "      <th>metadata_release</th>\n",
              "      <th>album_comments</th>\n",
              "      <th>album_date_created</th>\n",
              "      <th>album_favorites</th>\n",
              "      <th>album_id</th>\n",
              "      <th>album_listens</th>\n",
              "      <th>album_tags</th>\n",
              "      <th>album_title</th>\n",
              "      <th>album_tracks</th>\n",
              "      <th>album_type</th>\n",
              "      <th>artist_comments</th>\n",
              "      <th>artist_date_created</th>\n",
              "      <th>artist_favorites</th>\n",
              "      <th>artist_id</th>\n",
              "      <th>artist_name</th>\n",
              "      <th>artist_tags</th>\n",
              "      <th>set_split</th>\n",
              "      <th>set_subset</th>\n",
              "      <th>track_bit_rate</th>\n",
              "      <th>track_comments</th>\n",
              "      <th>track_date_created</th>\n",
              "      <th>track_duration</th>\n",
              "      <th>track_favorites</th>\n",
              "      <th>track_genres</th>\n",
              "      <th>track_genres_all</th>\n",
              "      <th>track_interest</th>\n",
              "      <th>track_license</th>\n",
              "      <th>track_listens</th>\n",
              "      <th>track_number</th>\n",
              "      <th>track_tags</th>\n",
              "      <th>track_title</th>\n",
              "    </tr>\n",
              "  </thead>\n",
              "  <tbody>\n",
              "    <tr>\n",
              "      <th>0</th>\n",
              "      <td>1.674331</td>\n",
              "      <td>-4.171082</td>\n",
              "      <td>4.643930</td>\n",
              "      <td>3.101041</td>\n",
              "      <td>1.237197</td>\n",
              "      <td>-1.235651</td>\n",
              "      <td>-1.490631</td>\n",
              "      <td>1.750588</td>\n",
              "      <td>-1.935179</td>\n",
              "      <td>2.729076</td>\n",
              "      <td>-8.901085</td>\n",
              "      <td>2.646590</td>\n",
              "      <td>0.492782</td>\n",
              "      <td>2.965413</td>\n",
              "      <td>-0.883830</td>\n",
              "      <td>0.567541</td>\n",
              "      <td>1.673673</td>\n",
              "      <td>0.132202</td>\n",
              "      <td>0.926611</td>\n",
              "      <td>1.013331</td>\n",
              "      <td>-3.219948</td>\n",
              "      <td>-2.523829</td>\n",
              "      <td>-0.806307</td>\n",
              "      <td>-3.256932</td>\n",
              "      <td>-0.141150</td>\n",
              "      <td>2.022908</td>\n",
              "      <td>0.162494</td>\n",
              "      <td>0.274174</td>\n",
              "      <td>-2.833987</td>\n",
              "      <td>0.601799</td>\n",
              "      <td>-1.491798</td>\n",
              "      <td>-0.598230</td>\n",
              "      <td>0.262901</td>\n",
              "      <td>-2.133528</td>\n",
              "      <td>0.026452</td>\n",
              "      <td>-1.764289</td>\n",
              "      <td>2.517017</td>\n",
              "      <td>0.527012</td>\n",
              "      <td>0.527675</td>\n",
              "      <td>-2.056041</td>\n",
              "      <td>...</td>\n",
              "      <td>1.176270</td>\n",
              "      <td>0.697209</td>\n",
              "      <td>0.513274</td>\n",
              "      <td>0.128583</td>\n",
              "      <td>0.733864</td>\n",
              "      <td>-0.227831</td>\n",
              "      <td>-0.338472</td>\n",
              "      <td>2</td>\n",
              "      <td>AWOL</td>\n",
              "      <td>AWOL - A Way Of Life</td>\n",
              "      <td>0</td>\n",
              "      <td>2008-11-26 01:44:45</td>\n",
              "      <td>4</td>\n",
              "      <td>1</td>\n",
              "      <td>6073</td>\n",
              "      <td>[]</td>\n",
              "      <td>AWOL - A Way Of Life</td>\n",
              "      <td>7</td>\n",
              "      <td>Album</td>\n",
              "      <td>0</td>\n",
              "      <td>2008-11-26 01:42:32</td>\n",
              "      <td>9</td>\n",
              "      <td>1</td>\n",
              "      <td>AWOL</td>\n",
              "      <td>['awol']</td>\n",
              "      <td>training</td>\n",
              "      <td>small</td>\n",
              "      <td>256000</td>\n",
              "      <td>0</td>\n",
              "      <td>2008-11-26 01:48:12</td>\n",
              "      <td>168</td>\n",
              "      <td>2</td>\n",
              "      <td>[21]</td>\n",
              "      <td>[21]</td>\n",
              "      <td>4656</td>\n",
              "      <td>Attribution-NonCommercial-ShareAlike 3.0 Inter...</td>\n",
              "      <td>1293</td>\n",
              "      <td>3</td>\n",
              "      <td>[]</td>\n",
              "      <td>Food</td>\n",
              "    </tr>\n",
              "    <tr>\n",
              "      <th>1</th>\n",
              "      <td>2.682865</td>\n",
              "      <td>-7.195443</td>\n",
              "      <td>3.545126</td>\n",
              "      <td>-0.677019</td>\n",
              "      <td>-2.293912</td>\n",
              "      <td>2.102304</td>\n",
              "      <td>3.441812</td>\n",
              "      <td>-1.482769</td>\n",
              "      <td>4.119562</td>\n",
              "      <td>4.545121</td>\n",
              "      <td>-4.573650</td>\n",
              "      <td>3.170868</td>\n",
              "      <td>-0.929997</td>\n",
              "      <td>0.815888</td>\n",
              "      <td>-1.908554</td>\n",
              "      <td>-0.058188</td>\n",
              "      <td>2.794149</td>\n",
              "      <td>0.115730</td>\n",
              "      <td>-2.358954</td>\n",
              "      <td>-1.816059</td>\n",
              "      <td>0.014982</td>\n",
              "      <td>-1.156188</td>\n",
              "      <td>0.193136</td>\n",
              "      <td>-3.743543</td>\n",
              "      <td>1.383235</td>\n",
              "      <td>-0.614957</td>\n",
              "      <td>1.312367</td>\n",
              "      <td>0.187896</td>\n",
              "      <td>-1.383633</td>\n",
              "      <td>1.806082</td>\n",
              "      <td>0.378054</td>\n",
              "      <td>-0.479969</td>\n",
              "      <td>-0.380615</td>\n",
              "      <td>0.280302</td>\n",
              "      <td>-0.124268</td>\n",
              "      <td>0.318010</td>\n",
              "      <td>1.505638</td>\n",
              "      <td>-0.500109</td>\n",
              "      <td>2.065090</td>\n",
              "      <td>-1.035610</td>\n",
              "      <td>...</td>\n",
              "      <td>-0.884523</td>\n",
              "      <td>0.826654</td>\n",
              "      <td>2.226573</td>\n",
              "      <td>-0.978864</td>\n",
              "      <td>-1.731191</td>\n",
              "      <td>0.138992</td>\n",
              "      <td>-0.642800</td>\n",
              "      <td>3</td>\n",
              "      <td>AWOL</td>\n",
              "      <td>AWOL - A Way Of Life</td>\n",
              "      <td>0</td>\n",
              "      <td>2008-11-26 01:44:45</td>\n",
              "      <td>4</td>\n",
              "      <td>1</td>\n",
              "      <td>6073</td>\n",
              "      <td>[]</td>\n",
              "      <td>AWOL - A Way Of Life</td>\n",
              "      <td>7</td>\n",
              "      <td>Album</td>\n",
              "      <td>0</td>\n",
              "      <td>2008-11-26 01:42:32</td>\n",
              "      <td>9</td>\n",
              "      <td>1</td>\n",
              "      <td>AWOL</td>\n",
              "      <td>['awol']</td>\n",
              "      <td>training</td>\n",
              "      <td>medium</td>\n",
              "      <td>256000</td>\n",
              "      <td>0</td>\n",
              "      <td>2008-11-26 01:48:14</td>\n",
              "      <td>237</td>\n",
              "      <td>1</td>\n",
              "      <td>[21]</td>\n",
              "      <td>[21]</td>\n",
              "      <td>1470</td>\n",
              "      <td>Attribution-NonCommercial-ShareAlike 3.0 Inter...</td>\n",
              "      <td>514</td>\n",
              "      <td>4</td>\n",
              "      <td>[]</td>\n",
              "      <td>Electric Ave</td>\n",
              "    </tr>\n",
              "    <tr>\n",
              "      <th>2</th>\n",
              "      <td>0.780689</td>\n",
              "      <td>-5.159503</td>\n",
              "      <td>3.179270</td>\n",
              "      <td>-1.070108</td>\n",
              "      <td>-2.799030</td>\n",
              "      <td>0.722573</td>\n",
              "      <td>2.579771</td>\n",
              "      <td>-0.905533</td>\n",
              "      <td>-0.697416</td>\n",
              "      <td>1.648018</td>\n",
              "      <td>-3.478698</td>\n",
              "      <td>3.984546</td>\n",
              "      <td>-0.582571</td>\n",
              "      <td>1.363179</td>\n",
              "      <td>-2.183392</td>\n",
              "      <td>-1.008869</td>\n",
              "      <td>0.708474</td>\n",
              "      <td>1.824795</td>\n",
              "      <td>-1.556202</td>\n",
              "      <td>2.138284</td>\n",
              "      <td>-2.143009</td>\n",
              "      <td>1.109319</td>\n",
              "      <td>1.164982</td>\n",
              "      <td>-3.281510</td>\n",
              "      <td>0.388760</td>\n",
              "      <td>0.961912</td>\n",
              "      <td>1.611757</td>\n",
              "      <td>1.052660</td>\n",
              "      <td>-1.575714</td>\n",
              "      <td>0.365732</td>\n",
              "      <td>1.721584</td>\n",
              "      <td>-0.955026</td>\n",
              "      <td>0.249969</td>\n",
              "      <td>-1.263937</td>\n",
              "      <td>-1.208098</td>\n",
              "      <td>-0.445513</td>\n",
              "      <td>0.422621</td>\n",
              "      <td>1.909406</td>\n",
              "      <td>-0.613357</td>\n",
              "      <td>0.020027</td>\n",
              "      <td>...</td>\n",
              "      <td>-0.298101</td>\n",
              "      <td>0.972247</td>\n",
              "      <td>0.681456</td>\n",
              "      <td>-0.078355</td>\n",
              "      <td>0.442119</td>\n",
              "      <td>-0.246298</td>\n",
              "      <td>0.369394</td>\n",
              "      <td>5</td>\n",
              "      <td>AWOL</td>\n",
              "      <td>AWOL - A Way Of Life</td>\n",
              "      <td>0</td>\n",
              "      <td>2008-11-26 01:44:45</td>\n",
              "      <td>4</td>\n",
              "      <td>1</td>\n",
              "      <td>6073</td>\n",
              "      <td>[]</td>\n",
              "      <td>AWOL - A Way Of Life</td>\n",
              "      <td>7</td>\n",
              "      <td>Album</td>\n",
              "      <td>0</td>\n",
              "      <td>2008-11-26 01:42:32</td>\n",
              "      <td>9</td>\n",
              "      <td>1</td>\n",
              "      <td>AWOL</td>\n",
              "      <td>['awol']</td>\n",
              "      <td>training</td>\n",
              "      <td>small</td>\n",
              "      <td>256000</td>\n",
              "      <td>0</td>\n",
              "      <td>2008-11-26 01:48:20</td>\n",
              "      <td>206</td>\n",
              "      <td>6</td>\n",
              "      <td>[21]</td>\n",
              "      <td>[21]</td>\n",
              "      <td>1933</td>\n",
              "      <td>Attribution-NonCommercial-ShareAlike 3.0 Inter...</td>\n",
              "      <td>1151</td>\n",
              "      <td>6</td>\n",
              "      <td>[]</td>\n",
              "      <td>This World</td>\n",
              "    </tr>\n",
              "    <tr>\n",
              "      <th>3</th>\n",
              "      <td>9.330128</td>\n",
              "      <td>-0.838479</td>\n",
              "      <td>4.323413</td>\n",
              "      <td>1.003613</td>\n",
              "      <td>-0.547969</td>\n",
              "      <td>-0.684255</td>\n",
              "      <td>2.761180</td>\n",
              "      <td>-0.739595</td>\n",
              "      <td>2.261340</td>\n",
              "      <td>2.680096</td>\n",
              "      <td>-3.473370</td>\n",
              "      <td>5.093121</td>\n",
              "      <td>0.754046</td>\n",
              "      <td>-5.432345</td>\n",
              "      <td>-1.375006</td>\n",
              "      <td>0.084090</td>\n",
              "      <td>0.057978</td>\n",
              "      <td>-3.497529</td>\n",
              "      <td>-0.133628</td>\n",
              "      <td>3.420857</td>\n",
              "      <td>-0.203062</td>\n",
              "      <td>-3.311435</td>\n",
              "      <td>1.763107</td>\n",
              "      <td>1.438211</td>\n",
              "      <td>-0.354666</td>\n",
              "      <td>0.638886</td>\n",
              "      <td>0.287967</td>\n",
              "      <td>0.010785</td>\n",
              "      <td>2.353479</td>\n",
              "      <td>-2.322916</td>\n",
              "      <td>0.250420</td>\n",
              "      <td>-2.124581</td>\n",
              "      <td>2.580758</td>\n",
              "      <td>-1.041675</td>\n",
              "      <td>-0.356023</td>\n",
              "      <td>0.727841</td>\n",
              "      <td>-0.753966</td>\n",
              "      <td>-2.830017</td>\n",
              "      <td>0.923677</td>\n",
              "      <td>-1.474632</td>\n",
              "      <td>...</td>\n",
              "      <td>-1.563177</td>\n",
              "      <td>1.871928</td>\n",
              "      <td>1.518366</td>\n",
              "      <td>0.140171</td>\n",
              "      <td>-2.245153</td>\n",
              "      <td>-2.863435</td>\n",
              "      <td>-0.195509</td>\n",
              "      <td>10</td>\n",
              "      <td>Kurt Vile</td>\n",
              "      <td>Constant Hitmaker</td>\n",
              "      <td>0</td>\n",
              "      <td>2008-11-26 01:45:08</td>\n",
              "      <td>4</td>\n",
              "      <td>6</td>\n",
              "      <td>47632</td>\n",
              "      <td>[]</td>\n",
              "      <td>Constant Hitmaker</td>\n",
              "      <td>2</td>\n",
              "      <td>Album</td>\n",
              "      <td>3</td>\n",
              "      <td>2008-11-26 01:42:55</td>\n",
              "      <td>74</td>\n",
              "      <td>6</td>\n",
              "      <td>Kurt Vile</td>\n",
              "      <td>['philly', 'kurt vile']</td>\n",
              "      <td>training</td>\n",
              "      <td>small</td>\n",
              "      <td>192000</td>\n",
              "      <td>0</td>\n",
              "      <td>2008-11-25 17:49:06</td>\n",
              "      <td>161</td>\n",
              "      <td>178</td>\n",
              "      <td>[10]</td>\n",
              "      <td>[10]</td>\n",
              "      <td>54881</td>\n",
              "      <td>Attribution-NonCommercial-NoDerivatives (aka M...</td>\n",
              "      <td>50135</td>\n",
              "      <td>1</td>\n",
              "      <td>[]</td>\n",
              "      <td>Freeway</td>\n",
              "    </tr>\n",
              "    <tr>\n",
              "      <th>4</th>\n",
              "      <td>-2.847029</td>\n",
              "      <td>-9.269596</td>\n",
              "      <td>2.936846</td>\n",
              "      <td>-1.024961</td>\n",
              "      <td>-3.109309</td>\n",
              "      <td>-1.752453</td>\n",
              "      <td>3.219853</td>\n",
              "      <td>-1.810707</td>\n",
              "      <td>-1.357838</td>\n",
              "      <td>1.443058</td>\n",
              "      <td>-0.987929</td>\n",
              "      <td>1.104781</td>\n",
              "      <td>0.824055</td>\n",
              "      <td>1.789995</td>\n",
              "      <td>1.087721</td>\n",
              "      <td>-1.976112</td>\n",
              "      <td>2.193888</td>\n",
              "      <td>-0.166746</td>\n",
              "      <td>0.014599</td>\n",
              "      <td>0.747211</td>\n",
              "      <td>0.260708</td>\n",
              "      <td>1.026318</td>\n",
              "      <td>-2.331818</td>\n",
              "      <td>-2.753975</td>\n",
              "      <td>-0.493302</td>\n",
              "      <td>1.185351</td>\n",
              "      <td>1.571349</td>\n",
              "      <td>1.107550</td>\n",
              "      <td>-0.618349</td>\n",
              "      <td>-1.501828</td>\n",
              "      <td>0.602684</td>\n",
              "      <td>-0.666218</td>\n",
              "      <td>0.727687</td>\n",
              "      <td>-1.355429</td>\n",
              "      <td>-0.142859</td>\n",
              "      <td>0.911544</td>\n",
              "      <td>1.638098</td>\n",
              "      <td>1.506634</td>\n",
              "      <td>0.013005</td>\n",
              "      <td>-2.097532</td>\n",
              "      <td>...</td>\n",
              "      <td>-1.250661</td>\n",
              "      <td>1.429406</td>\n",
              "      <td>0.578489</td>\n",
              "      <td>0.357490</td>\n",
              "      <td>1.267535</td>\n",
              "      <td>2.032381</td>\n",
              "      <td>-0.737767</td>\n",
              "      <td>134</td>\n",
              "      <td>AWOL</td>\n",
              "      <td>AWOL - A Way Of Life</td>\n",
              "      <td>0</td>\n",
              "      <td>2008-11-26 01:44:45</td>\n",
              "      <td>4</td>\n",
              "      <td>1</td>\n",
              "      <td>6073</td>\n",
              "      <td>[]</td>\n",
              "      <td>AWOL - A Way Of Life</td>\n",
              "      <td>7</td>\n",
              "      <td>Album</td>\n",
              "      <td>0</td>\n",
              "      <td>2008-11-26 01:42:32</td>\n",
              "      <td>9</td>\n",
              "      <td>1</td>\n",
              "      <td>AWOL</td>\n",
              "      <td>['awol']</td>\n",
              "      <td>training</td>\n",
              "      <td>medium</td>\n",
              "      <td>256000</td>\n",
              "      <td>0</td>\n",
              "      <td>2008-11-26 01:43:19</td>\n",
              "      <td>207</td>\n",
              "      <td>3</td>\n",
              "      <td>[21]</td>\n",
              "      <td>[21]</td>\n",
              "      <td>1126</td>\n",
              "      <td>Attribution-NonCommercial-ShareAlike 3.0 Inter...</td>\n",
              "      <td>943</td>\n",
              "      <td>5</td>\n",
              "      <td>[]</td>\n",
              "      <td>Street Music</td>\n",
              "    </tr>\n",
              "  </tbody>\n",
              "</table>\n",
              "<p>5 rows × 102 columns</p>\n",
              "</div>"
            ],
            "text/plain": [
              "        PC1       PC2       PC3  ...  track_number  track_tags   track_title\n",
              "0  1.674331 -4.171082  4.643930  ...             3          []          Food\n",
              "1  2.682865 -7.195443  3.545126  ...             4          []  Electric Ave\n",
              "2  0.780689 -5.159503  3.179270  ...             6          []    This World\n",
              "3  9.330128 -0.838479  4.323413  ...             1          []       Freeway\n",
              "4 -2.847029 -9.269596  2.936846  ...             5          []  Street Music\n",
              "\n",
              "[5 rows x 102 columns]"
            ]
          },
          "metadata": {},
          "execution_count": 26
        }
      ]
    },
    {
      "cell_type": "markdown",
      "metadata": {
        "id": "qERDocLAtfW-"
      },
      "source": [
        "Select only the column obtained with the PCA removing the others"
      ],
      "id": "qERDocLAtfW-"
    },
    {
      "cell_type": "code",
      "metadata": {
        "id": "95P3TjJS8x2H"
      },
      "source": [
        "dataset_pca = finalDf.loc[:,:'PC69']"
      ],
      "id": "95P3TjJS8x2H",
      "execution_count": null,
      "outputs": []
    },
    {
      "cell_type": "code",
      "metadata": {
        "id": "DCUG9Gr3roIu",
        "colab": {
          "base_uri": "https://localhost:8080/",
          "height": 226
        },
        "outputId": "35c81a31-aff0-46a6-e385-b93e6f13698b"
      },
      "source": [
        "dataset_pca.head()"
      ],
      "id": "DCUG9Gr3roIu",
      "execution_count": null,
      "outputs": [
        {
          "output_type": "execute_result",
          "data": {
            "text/html": [
              "<div>\n",
              "<style scoped>\n",
              "    .dataframe tbody tr th:only-of-type {\n",
              "        vertical-align: middle;\n",
              "    }\n",
              "\n",
              "    .dataframe tbody tr th {\n",
              "        vertical-align: top;\n",
              "    }\n",
              "\n",
              "    .dataframe thead th {\n",
              "        text-align: right;\n",
              "    }\n",
              "</style>\n",
              "<table border=\"1\" class=\"dataframe\">\n",
              "  <thead>\n",
              "    <tr style=\"text-align: right;\">\n",
              "      <th></th>\n",
              "      <th>PC1</th>\n",
              "      <th>PC2</th>\n",
              "      <th>PC3</th>\n",
              "      <th>PC4</th>\n",
              "      <th>PC5</th>\n",
              "      <th>PC6</th>\n",
              "      <th>PC7</th>\n",
              "      <th>PC8</th>\n",
              "      <th>PC9</th>\n",
              "      <th>PC10</th>\n",
              "      <th>PC11</th>\n",
              "      <th>PC12</th>\n",
              "      <th>PC13</th>\n",
              "      <th>PC14</th>\n",
              "      <th>PC15</th>\n",
              "      <th>PC16</th>\n",
              "      <th>PC17</th>\n",
              "      <th>PC18</th>\n",
              "      <th>PC19</th>\n",
              "      <th>PC20</th>\n",
              "      <th>PC21</th>\n",
              "      <th>PC22</th>\n",
              "      <th>PC23</th>\n",
              "      <th>PC24</th>\n",
              "      <th>PC25</th>\n",
              "      <th>PC26</th>\n",
              "      <th>PC27</th>\n",
              "      <th>PC28</th>\n",
              "      <th>PC29</th>\n",
              "      <th>PC30</th>\n",
              "      <th>PC31</th>\n",
              "      <th>PC32</th>\n",
              "      <th>PC33</th>\n",
              "      <th>PC34</th>\n",
              "      <th>PC35</th>\n",
              "      <th>PC36</th>\n",
              "      <th>PC37</th>\n",
              "      <th>PC38</th>\n",
              "      <th>PC39</th>\n",
              "      <th>PC40</th>\n",
              "      <th>PC41</th>\n",
              "      <th>PC42</th>\n",
              "      <th>PC43</th>\n",
              "      <th>PC44</th>\n",
              "      <th>PC45</th>\n",
              "      <th>PC46</th>\n",
              "      <th>PC47</th>\n",
              "      <th>PC48</th>\n",
              "      <th>PC49</th>\n",
              "      <th>PC50</th>\n",
              "      <th>PC51</th>\n",
              "      <th>PC52</th>\n",
              "      <th>PC53</th>\n",
              "      <th>PC54</th>\n",
              "      <th>PC55</th>\n",
              "      <th>PC56</th>\n",
              "      <th>PC57</th>\n",
              "      <th>PC58</th>\n",
              "      <th>PC59</th>\n",
              "      <th>PC60</th>\n",
              "      <th>PC61</th>\n",
              "      <th>PC62</th>\n",
              "      <th>PC63</th>\n",
              "      <th>PC64</th>\n",
              "      <th>PC65</th>\n",
              "      <th>PC66</th>\n",
              "      <th>PC67</th>\n",
              "      <th>PC68</th>\n",
              "      <th>PC69</th>\n",
              "    </tr>\n",
              "  </thead>\n",
              "  <tbody>\n",
              "    <tr>\n",
              "      <th>0</th>\n",
              "      <td>1.674331</td>\n",
              "      <td>-4.171082</td>\n",
              "      <td>4.643930</td>\n",
              "      <td>3.101041</td>\n",
              "      <td>1.237197</td>\n",
              "      <td>-1.235651</td>\n",
              "      <td>-1.490631</td>\n",
              "      <td>1.750588</td>\n",
              "      <td>-1.935179</td>\n",
              "      <td>2.729076</td>\n",
              "      <td>-8.901085</td>\n",
              "      <td>2.646590</td>\n",
              "      <td>0.492782</td>\n",
              "      <td>2.965413</td>\n",
              "      <td>-0.883830</td>\n",
              "      <td>0.567541</td>\n",
              "      <td>1.673673</td>\n",
              "      <td>0.132202</td>\n",
              "      <td>0.926611</td>\n",
              "      <td>1.013331</td>\n",
              "      <td>-3.219948</td>\n",
              "      <td>-2.523829</td>\n",
              "      <td>-0.806307</td>\n",
              "      <td>-3.256932</td>\n",
              "      <td>-0.141150</td>\n",
              "      <td>2.022908</td>\n",
              "      <td>0.162494</td>\n",
              "      <td>0.274174</td>\n",
              "      <td>-2.833987</td>\n",
              "      <td>0.601799</td>\n",
              "      <td>-1.491798</td>\n",
              "      <td>-0.598230</td>\n",
              "      <td>0.262901</td>\n",
              "      <td>-2.133528</td>\n",
              "      <td>0.026452</td>\n",
              "      <td>-1.764289</td>\n",
              "      <td>2.517017</td>\n",
              "      <td>0.527012</td>\n",
              "      <td>0.527675</td>\n",
              "      <td>-2.056041</td>\n",
              "      <td>0.055186</td>\n",
              "      <td>-0.041772</td>\n",
              "      <td>-0.351727</td>\n",
              "      <td>-0.773678</td>\n",
              "      <td>0.705998</td>\n",
              "      <td>0.723734</td>\n",
              "      <td>1.090980</td>\n",
              "      <td>0.232370</td>\n",
              "      <td>0.349576</td>\n",
              "      <td>1.610846</td>\n",
              "      <td>0.133383</td>\n",
              "      <td>0.587439</td>\n",
              "      <td>-0.672749</td>\n",
              "      <td>-1.469183</td>\n",
              "      <td>1.611912</td>\n",
              "      <td>1.252571</td>\n",
              "      <td>-1.074943</td>\n",
              "      <td>0.077804</td>\n",
              "      <td>-1.751563</td>\n",
              "      <td>0.340404</td>\n",
              "      <td>-1.360090</td>\n",
              "      <td>0.140086</td>\n",
              "      <td>1.176270</td>\n",
              "      <td>0.697209</td>\n",
              "      <td>0.513274</td>\n",
              "      <td>0.128583</td>\n",
              "      <td>0.733864</td>\n",
              "      <td>-0.227831</td>\n",
              "      <td>-0.338472</td>\n",
              "    </tr>\n",
              "    <tr>\n",
              "      <th>1</th>\n",
              "      <td>2.682865</td>\n",
              "      <td>-7.195443</td>\n",
              "      <td>3.545126</td>\n",
              "      <td>-0.677019</td>\n",
              "      <td>-2.293912</td>\n",
              "      <td>2.102304</td>\n",
              "      <td>3.441812</td>\n",
              "      <td>-1.482769</td>\n",
              "      <td>4.119562</td>\n",
              "      <td>4.545121</td>\n",
              "      <td>-4.573650</td>\n",
              "      <td>3.170868</td>\n",
              "      <td>-0.929997</td>\n",
              "      <td>0.815888</td>\n",
              "      <td>-1.908554</td>\n",
              "      <td>-0.058188</td>\n",
              "      <td>2.794149</td>\n",
              "      <td>0.115730</td>\n",
              "      <td>-2.358954</td>\n",
              "      <td>-1.816059</td>\n",
              "      <td>0.014982</td>\n",
              "      <td>-1.156188</td>\n",
              "      <td>0.193136</td>\n",
              "      <td>-3.743543</td>\n",
              "      <td>1.383235</td>\n",
              "      <td>-0.614957</td>\n",
              "      <td>1.312367</td>\n",
              "      <td>0.187896</td>\n",
              "      <td>-1.383633</td>\n",
              "      <td>1.806082</td>\n",
              "      <td>0.378054</td>\n",
              "      <td>-0.479969</td>\n",
              "      <td>-0.380615</td>\n",
              "      <td>0.280302</td>\n",
              "      <td>-0.124268</td>\n",
              "      <td>0.318010</td>\n",
              "      <td>1.505638</td>\n",
              "      <td>-0.500109</td>\n",
              "      <td>2.065090</td>\n",
              "      <td>-1.035610</td>\n",
              "      <td>2.255467</td>\n",
              "      <td>-0.203626</td>\n",
              "      <td>-2.236871</td>\n",
              "      <td>-1.358135</td>\n",
              "      <td>0.620179</td>\n",
              "      <td>-1.144670</td>\n",
              "      <td>-0.581055</td>\n",
              "      <td>-0.315597</td>\n",
              "      <td>0.026787</td>\n",
              "      <td>1.383819</td>\n",
              "      <td>-0.622779</td>\n",
              "      <td>-0.697728</td>\n",
              "      <td>-2.191839</td>\n",
              "      <td>1.389223</td>\n",
              "      <td>1.854410</td>\n",
              "      <td>0.980643</td>\n",
              "      <td>0.541360</td>\n",
              "      <td>0.213716</td>\n",
              "      <td>-1.290133</td>\n",
              "      <td>0.352326</td>\n",
              "      <td>0.389024</td>\n",
              "      <td>-0.485455</td>\n",
              "      <td>-0.884523</td>\n",
              "      <td>0.826654</td>\n",
              "      <td>2.226573</td>\n",
              "      <td>-0.978864</td>\n",
              "      <td>-1.731191</td>\n",
              "      <td>0.138992</td>\n",
              "      <td>-0.642800</td>\n",
              "    </tr>\n",
              "    <tr>\n",
              "      <th>2</th>\n",
              "      <td>0.780689</td>\n",
              "      <td>-5.159503</td>\n",
              "      <td>3.179270</td>\n",
              "      <td>-1.070108</td>\n",
              "      <td>-2.799030</td>\n",
              "      <td>0.722573</td>\n",
              "      <td>2.579771</td>\n",
              "      <td>-0.905533</td>\n",
              "      <td>-0.697416</td>\n",
              "      <td>1.648018</td>\n",
              "      <td>-3.478698</td>\n",
              "      <td>3.984546</td>\n",
              "      <td>-0.582571</td>\n",
              "      <td>1.363179</td>\n",
              "      <td>-2.183392</td>\n",
              "      <td>-1.008869</td>\n",
              "      <td>0.708474</td>\n",
              "      <td>1.824795</td>\n",
              "      <td>-1.556202</td>\n",
              "      <td>2.138284</td>\n",
              "      <td>-2.143009</td>\n",
              "      <td>1.109319</td>\n",
              "      <td>1.164982</td>\n",
              "      <td>-3.281510</td>\n",
              "      <td>0.388760</td>\n",
              "      <td>0.961912</td>\n",
              "      <td>1.611757</td>\n",
              "      <td>1.052660</td>\n",
              "      <td>-1.575714</td>\n",
              "      <td>0.365732</td>\n",
              "      <td>1.721584</td>\n",
              "      <td>-0.955026</td>\n",
              "      <td>0.249969</td>\n",
              "      <td>-1.263937</td>\n",
              "      <td>-1.208098</td>\n",
              "      <td>-0.445513</td>\n",
              "      <td>0.422621</td>\n",
              "      <td>1.909406</td>\n",
              "      <td>-0.613357</td>\n",
              "      <td>0.020027</td>\n",
              "      <td>0.875836</td>\n",
              "      <td>0.024886</td>\n",
              "      <td>-0.263580</td>\n",
              "      <td>-0.200547</td>\n",
              "      <td>1.093064</td>\n",
              "      <td>-0.679325</td>\n",
              "      <td>-1.096379</td>\n",
              "      <td>1.505673</td>\n",
              "      <td>2.073039</td>\n",
              "      <td>1.116120</td>\n",
              "      <td>0.650758</td>\n",
              "      <td>-0.053923</td>\n",
              "      <td>-1.825958</td>\n",
              "      <td>-1.704242</td>\n",
              "      <td>2.513704</td>\n",
              "      <td>-1.706142</td>\n",
              "      <td>-0.877326</td>\n",
              "      <td>-0.673173</td>\n",
              "      <td>-2.107918</td>\n",
              "      <td>3.131206</td>\n",
              "      <td>0.257004</td>\n",
              "      <td>0.336622</td>\n",
              "      <td>-0.298101</td>\n",
              "      <td>0.972247</td>\n",
              "      <td>0.681456</td>\n",
              "      <td>-0.078355</td>\n",
              "      <td>0.442119</td>\n",
              "      <td>-0.246298</td>\n",
              "      <td>0.369394</td>\n",
              "    </tr>\n",
              "    <tr>\n",
              "      <th>3</th>\n",
              "      <td>9.330128</td>\n",
              "      <td>-0.838479</td>\n",
              "      <td>4.323413</td>\n",
              "      <td>1.003613</td>\n",
              "      <td>-0.547969</td>\n",
              "      <td>-0.684255</td>\n",
              "      <td>2.761180</td>\n",
              "      <td>-0.739595</td>\n",
              "      <td>2.261340</td>\n",
              "      <td>2.680096</td>\n",
              "      <td>-3.473370</td>\n",
              "      <td>5.093121</td>\n",
              "      <td>0.754046</td>\n",
              "      <td>-5.432345</td>\n",
              "      <td>-1.375006</td>\n",
              "      <td>0.084090</td>\n",
              "      <td>0.057978</td>\n",
              "      <td>-3.497529</td>\n",
              "      <td>-0.133628</td>\n",
              "      <td>3.420857</td>\n",
              "      <td>-0.203062</td>\n",
              "      <td>-3.311435</td>\n",
              "      <td>1.763107</td>\n",
              "      <td>1.438211</td>\n",
              "      <td>-0.354666</td>\n",
              "      <td>0.638886</td>\n",
              "      <td>0.287967</td>\n",
              "      <td>0.010785</td>\n",
              "      <td>2.353479</td>\n",
              "      <td>-2.322916</td>\n",
              "      <td>0.250420</td>\n",
              "      <td>-2.124581</td>\n",
              "      <td>2.580758</td>\n",
              "      <td>-1.041675</td>\n",
              "      <td>-0.356023</td>\n",
              "      <td>0.727841</td>\n",
              "      <td>-0.753966</td>\n",
              "      <td>-2.830017</td>\n",
              "      <td>0.923677</td>\n",
              "      <td>-1.474632</td>\n",
              "      <td>-0.473608</td>\n",
              "      <td>1.177811</td>\n",
              "      <td>-0.904762</td>\n",
              "      <td>2.130454</td>\n",
              "      <td>0.146057</td>\n",
              "      <td>3.035927</td>\n",
              "      <td>-0.292782</td>\n",
              "      <td>2.605075</td>\n",
              "      <td>-0.493613</td>\n",
              "      <td>1.778046</td>\n",
              "      <td>-0.417547</td>\n",
              "      <td>-1.463674</td>\n",
              "      <td>0.578176</td>\n",
              "      <td>2.013140</td>\n",
              "      <td>1.508185</td>\n",
              "      <td>1.813831</td>\n",
              "      <td>1.684283</td>\n",
              "      <td>2.272801</td>\n",
              "      <td>1.846712</td>\n",
              "      <td>1.365308</td>\n",
              "      <td>0.170346</td>\n",
              "      <td>-3.456578</td>\n",
              "      <td>-1.563177</td>\n",
              "      <td>1.871928</td>\n",
              "      <td>1.518366</td>\n",
              "      <td>0.140171</td>\n",
              "      <td>-2.245153</td>\n",
              "      <td>-2.863435</td>\n",
              "      <td>-0.195509</td>\n",
              "    </tr>\n",
              "    <tr>\n",
              "      <th>4</th>\n",
              "      <td>-2.847029</td>\n",
              "      <td>-9.269596</td>\n",
              "      <td>2.936846</td>\n",
              "      <td>-1.024961</td>\n",
              "      <td>-3.109309</td>\n",
              "      <td>-1.752453</td>\n",
              "      <td>3.219853</td>\n",
              "      <td>-1.810707</td>\n",
              "      <td>-1.357838</td>\n",
              "      <td>1.443058</td>\n",
              "      <td>-0.987929</td>\n",
              "      <td>1.104781</td>\n",
              "      <td>0.824055</td>\n",
              "      <td>1.789995</td>\n",
              "      <td>1.087721</td>\n",
              "      <td>-1.976112</td>\n",
              "      <td>2.193888</td>\n",
              "      <td>-0.166746</td>\n",
              "      <td>0.014599</td>\n",
              "      <td>0.747211</td>\n",
              "      <td>0.260708</td>\n",
              "      <td>1.026318</td>\n",
              "      <td>-2.331818</td>\n",
              "      <td>-2.753975</td>\n",
              "      <td>-0.493302</td>\n",
              "      <td>1.185351</td>\n",
              "      <td>1.571349</td>\n",
              "      <td>1.107550</td>\n",
              "      <td>-0.618349</td>\n",
              "      <td>-1.501828</td>\n",
              "      <td>0.602684</td>\n",
              "      <td>-0.666218</td>\n",
              "      <td>0.727687</td>\n",
              "      <td>-1.355429</td>\n",
              "      <td>-0.142859</td>\n",
              "      <td>0.911544</td>\n",
              "      <td>1.638098</td>\n",
              "      <td>1.506634</td>\n",
              "      <td>0.013005</td>\n",
              "      <td>-2.097532</td>\n",
              "      <td>1.380519</td>\n",
              "      <td>0.730839</td>\n",
              "      <td>-0.102698</td>\n",
              "      <td>1.317586</td>\n",
              "      <td>0.241149</td>\n",
              "      <td>0.772468</td>\n",
              "      <td>-0.256365</td>\n",
              "      <td>0.566355</td>\n",
              "      <td>0.506475</td>\n",
              "      <td>-0.088334</td>\n",
              "      <td>-0.108927</td>\n",
              "      <td>0.062719</td>\n",
              "      <td>-1.784345</td>\n",
              "      <td>2.039800</td>\n",
              "      <td>1.334745</td>\n",
              "      <td>1.653773</td>\n",
              "      <td>-0.954165</td>\n",
              "      <td>-1.406906</td>\n",
              "      <td>-1.173901</td>\n",
              "      <td>1.422123</td>\n",
              "      <td>0.777950</td>\n",
              "      <td>-0.385057</td>\n",
              "      <td>-1.250661</td>\n",
              "      <td>1.429406</td>\n",
              "      <td>0.578489</td>\n",
              "      <td>0.357490</td>\n",
              "      <td>1.267535</td>\n",
              "      <td>2.032381</td>\n",
              "      <td>-0.737767</td>\n",
              "    </tr>\n",
              "  </tbody>\n",
              "</table>\n",
              "</div>"
            ],
            "text/plain": [
              "        PC1       PC2       PC3  ...      PC67      PC68      PC69\n",
              "0  1.674331 -4.171082  4.643930  ...  0.733864 -0.227831 -0.338472\n",
              "1  2.682865 -7.195443  3.545126  ... -1.731191  0.138992 -0.642800\n",
              "2  0.780689 -5.159503  3.179270  ...  0.442119 -0.246298  0.369394\n",
              "3  9.330128 -0.838479  4.323413  ... -2.245153 -2.863435 -0.195509\n",
              "4 -2.847029 -9.269596  2.936846  ...  1.267535  2.032381 -0.737767\n",
              "\n",
              "[5 rows x 69 columns]"
            ]
          },
          "metadata": {},
          "execution_count": 28
        }
      ]
    },
    {
      "cell_type": "markdown",
      "metadata": {
        "id": "P3_74_yCtu93"
      },
      "source": [
        "Convert the dataset in a list to apply our k_means algorithm"
      ],
      "id": "P3_74_yCtu93"
    },
    {
      "cell_type": "code",
      "metadata": {
        "id": "hODadQ1MRTh2"
      },
      "source": [
        "dataset_pca = dataset_pca.to_numpy().tolist()"
      ],
      "id": "hODadQ1MRTh2",
      "execution_count": null,
      "outputs": []
    },
    {
      "cell_type": "markdown",
      "metadata": {
        "id": "cH4Pjl-muIqR"
      },
      "source": [
        "**Find the best number of cluster using the Elbow method**"
      ],
      "id": "cH4Pjl-muIqR"
    },
    {
      "cell_type": "code",
      "metadata": {
        "id": "-b7LeazeuPLR",
        "colab": {
          "base_uri": "https://localhost:8080/",
          "height": 278
        },
        "outputId": "9b48375f-6f55-4c1b-c705-a8ddde08d5b5"
      },
      "source": [
        "elbow_method(dataset_pca)"
      ],
      "id": "-b7LeazeuPLR",
      "execution_count": null,
      "outputs": [
        {
          "output_type": "display_data",
          "data": {
            "image/png": "[encoded data removed]",
            "text/plain": [
              "<Figure size 432x288 with 1 Axes>"
            ]
          },
          "metadata": {
            "needs_background": "light"
          }
        }
      ]
    },
    {
      "cell_type": "markdown",
      "metadata": {
        "id": "wcWobpxLG4ov"
      },
      "source": [
        "As we can see from the graph, we have a small \"elbow\" in correspondence of k=3 so from this method we get that the best number of cluster for our dataset is 3."
      ],
      "id": "wcWobpxLG4ov"
    },
    {
      "cell_type": "markdown",
      "metadata": {
        "id": "GBCqObDQkoPu"
      },
      "source": [
        "Find the best number of cluster using the Silhouette method"
      ],
      "id": "GBCqObDQkoPu"
    },
    {
      "cell_type": "code",
      "metadata": {
        "id": "heNnTJXNkxKR",
        "colab": {
          "base_uri": "https://localhost:8080/"
        },
        "outputId": "6bcc3d2a-464b-4328-9d0c-664998ac9bd6"
      },
      "source": [
        "silhouette_method(dataset_pca)"
      ],
      "id": "heNnTJXNkxKR",
      "execution_count": null,
      "outputs": [
        {
          "output_type": "stream",
          "name": "stderr",
          "text": [
            "/usr/local/lib/python3.7/dist-packages/ipykernel_launcher.py:7: VisibleDeprecationWarning: Creating an ndarray from ragged nested sequences (which is a list-or-tuple of lists-or-tuples-or ndarrays with different lengths or shapes) is deprecated. If you meant to do this, you must specify 'dtype=object' when creating the ndarray\n",
            "  import sys\n"
          ]
        },
        {
          "output_type": "execute_result",
          "data": {
            "text/plain": [
              "[0,\n",
              " 0.09691422328171781,\n",
              " 0.09997903077812927,\n",
              " 0.05007406494908358,\n",
              " 0.09660711170186607,\n",
              " 0.06072515793317802,\n",
              " 0.057548824481635695,\n",
              " 0.0572855284993756,\n",
              " 0.06154575426620928]"
            ]
          },
          "metadata": {},
          "execution_count": 35
        }
      ]
    },
    {
      "cell_type": "markdown",
      "metadata": {
        "id": "uXN0msCNuVSG"
      },
      "source": [
        "The silhouette method tells us that the best number of cluster is 3.\n",
        "Since we got the same from Elbow method, we decide to use that number of cluster for our k-means"
      ],
      "id": "uXN0msCNuVSG"
    },
    {
      "cell_type": "code",
      "metadata": {
        "id": "kS4kH6tZ9XsD",
        "colab": {
          "base_uri": "https://localhost:8080/"
        },
        "outputId": "dd35e779-8dcb-4e81-a3b9-6113b19b3459"
      },
      "source": [
        "centroids,clusters,points_in_cl = k_means(dataset_pca,3)\n",
        "clusters"
      ],
      "id": "kS4kH6tZ9XsD",
      "execution_count": null,
      "outputs": [
        {
          "output_type": "execute_result",
          "data": {
            "text/plain": [
              "array([2, 2, 2, ..., 1, 2, 0])"
            ]
          },
          "metadata": {},
          "execution_count": 37
        }
      ]
    },
    {
      "cell_type": "markdown",
      "metadata": {
        "id": "e3Lw85ywvHnQ"
      },
      "source": [
        "### Es 2.3.4 "
      ],
      "id": "e3Lw85ywvHnQ"
    },
    {
      "cell_type": "markdown",
      "metadata": {
        "id": "TzrBuFRhdWAe"
      },
      "source": [
        "Run the k-means ++ on the dataset"
      ],
      "id": "TzrBuFRhdWAe"
    },
    {
      "cell_type": "code",
      "metadata": {
        "id": "immnAzgK9j6i",
        "colab": {
          "base_uri": "https://localhost:8080/"
        },
        "outputId": "a02b98ae-c40c-4796-9a7c-943580a280cf"
      },
      "source": [
        "from sklearn.cluster import KMeans\n",
        "\n",
        "kmeans = KMeans(n_clusters=3,init='k-means++').fit(dataset_pca)\n",
        "kmeans.labels_"
      ],
      "id": "immnAzgK9j6i",
      "execution_count": null,
      "outputs": [
        {
          "output_type": "execute_result",
          "data": {
            "text/plain": [
              "array([2, 2, 2, ..., 1, 2, 0], dtype=int32)"
            ]
          },
          "metadata": {},
          "execution_count": 42
        }
      ]
    },
    {
      "cell_type": "markdown",
      "metadata": {
        "id": "Mv_7xkOSE5mA"
      },
      "source": [
        "Compare the results obtained, paying attention that same clusters have same value as identifier.\n",
        "Knowing that, we just execute this script to see how many sample results to be in the same cluster for both the algorithms."
      ],
      "id": "Mv_7xkOSE5mA"
    },
    {
      "cell_type": "code",
      "metadata": {
        "colab": {
          "base_uri": "https://localhost:8080/"
        },
        "id": "8MXPYqsr3AjR",
        "outputId": "64441ace-9db6-4fc8-af3e-12cbd31843ea"
      },
      "source": [
        "c=0\n",
        "for i in range(len(clusters)):\n",
        "  if clusters[i]==kmeans.labels_[i]:\n",
        "    c+=1\n",
        "print(c)\n",
        "print(len(dataset_pca))"
      ],
      "id": "8MXPYqsr3AjR",
      "execution_count": null,
      "outputs": [
        {
          "output_type": "stream",
          "name": "stdout",
          "text": [
            "13126\n",
            "13129\n"
          ]
        }
      ]
    },
    {
      "cell_type": "markdown",
      "metadata": {
        "id": "eQYZ6P9yGOLI"
      },
      "source": [
        "So as we can see, the result obtained is really good because only 3 samples are in different clusters and on the other hand, 13126 sample on 13129 total sample result to be in the same cluster (for our k-means algorithm and for k-means++ algorithm already implemented)"
      ],
      "id": "eQYZ6P9yGOLI"
    },
    {
      "cell_type": "markdown",
      "metadata": {
        "id": "88XMGtPIsNBz"
      },
      "source": [
        "## Es 2.4"
      ],
      "id": "88XMGtPIsNBz"
    },
    {
      "cell_type": "markdown",
      "metadata": {
        "id": "2D-iahlWo_JE"
      },
      "source": [
        "For first create a new dataframe from the original one (with nan values) with the new column that indicates in which cluster each track belongs"
      ],
      "id": "2D-iahlWo_JE"
    },
    {
      "cell_type": "code",
      "metadata": {
        "id": "yC-6CieDuGHS"
      },
      "source": [
        "newdf = pd.concat([dfna,pd.DataFrame(clusters, columns = ['cluster'])],axis = 1)"
      ],
      "id": "yC-6CieDuGHS",
      "execution_count": null,
      "outputs": []
    },
    {
      "cell_type": "code",
      "metadata": {
        "id": "LEZ0IyHNSkgc"
      },
      "source": [
        "newdf['track_language_code'] = tracks['track_language_code'].fillna(np.NaN)"
      ],
      "id": "LEZ0IyHNSkgc",
      "execution_count": null,
      "outputs": []
    },
    {
      "cell_type": "code",
      "metadata": {
        "id": "dVT6usPEa2Qp"
      },
      "source": [
        "newdf['track_genre_top'] = tracks['track_genre_top']"
      ],
      "id": "dVT6usPEa2Qp",
      "execution_count": null,
      "outputs": []
    },
    {
      "cell_type": "markdown",
      "metadata": {
        "id": "CT16DOeKcmzz"
      },
      "source": [
        "Just open this file:"
      ],
      "id": "CT16DOeKcmzz"
    },
    {
      "cell_type": "code",
      "metadata": {
        "id": "b9xHGYvrUHMp"
      },
      "source": [
        "newdf = pd.read_csv('/content/drive/MyDrive/df_country.csv')"
      ],
      "id": "b9xHGYvrUHMp",
      "execution_count": null,
      "outputs": []
    },
    {
      "cell_type": "markdown",
      "metadata": {
        "id": "pwgxGTOFpqcf"
      },
      "source": [
        "#### Album Type Pivot Table "
      ],
      "id": "pwgxGTOFpqcf"
    },
    {
      "cell_type": "code",
      "metadata": {
        "id": "R2CPxQfICA5o",
        "colab": {
          "base_uri": "https://localhost:8080/",
          "height": 252
        },
        "outputId": "f31bc613-0e4b-4a87-fb95-a6ac7160cf4a"
      },
      "source": [
        "album_table = pd.crosstab(newdf['album_type'],newdf['cluster'],rownames=['Album Type'], colnames=['N° Cluster']).apply(lambda r: round(r/r.sum()*100,2), axis=0)\n",
        "album_table"
      ],
      "id": "R2CPxQfICA5o",
      "execution_count": null,
      "outputs": [
        {
          "output_type": "execute_result",
          "data": {
            "text/html": [
              "<div>\n",
              "<style scoped>\n",
              "    .dataframe tbody tr th:only-of-type {\n",
              "        vertical-align: middle;\n",
              "    }\n",
              "\n",
              "    .dataframe tbody tr th {\n",
              "        vertical-align: top;\n",
              "    }\n",
              "\n",
              "    .dataframe thead th {\n",
              "        text-align: right;\n",
              "    }\n",
              "</style>\n",
              "<table border=\"1\" class=\"dataframe\">\n",
              "  <thead>\n",
              "    <tr style=\"text-align: right;\">\n",
              "      <th>N° Cluster</th>\n",
              "      <th>0</th>\n",
              "      <th>1</th>\n",
              "      <th>2</th>\n",
              "    </tr>\n",
              "    <tr>\n",
              "      <th>Album Type</th>\n",
              "      <th></th>\n",
              "      <th></th>\n",
              "      <th></th>\n",
              "    </tr>\n",
              "  </thead>\n",
              "  <tbody>\n",
              "    <tr>\n",
              "      <th>Album</th>\n",
              "      <td>61.97</td>\n",
              "      <td>87.81</td>\n",
              "      <td>72.91</td>\n",
              "    </tr>\n",
              "    <tr>\n",
              "      <th>Contest</th>\n",
              "      <td>0.06</td>\n",
              "      <td>0.11</td>\n",
              "      <td>0.18</td>\n",
              "    </tr>\n",
              "    <tr>\n",
              "      <th>Live Performance</th>\n",
              "      <td>13.79</td>\n",
              "      <td>4.06</td>\n",
              "      <td>10.03</td>\n",
              "    </tr>\n",
              "    <tr>\n",
              "      <th>Radio Program</th>\n",
              "      <td>22.77</td>\n",
              "      <td>7.35</td>\n",
              "      <td>15.58</td>\n",
              "    </tr>\n",
              "    <tr>\n",
              "      <th>Single Tracks</th>\n",
              "      <td>1.41</td>\n",
              "      <td>0.67</td>\n",
              "      <td>1.30</td>\n",
              "    </tr>\n",
              "  </tbody>\n",
              "</table>\n",
              "</div>"
            ],
            "text/plain": [
              "N° Cluster            0      1      2\n",
              "Album Type                           \n",
              "Album             61.97  87.81  72.91\n",
              "Contest            0.06   0.11   0.18\n",
              "Live Performance  13.79   4.06  10.03\n",
              "Radio Program     22.77   7.35  15.58\n",
              "Single Tracks      1.41   0.67   1.30"
            ]
          },
          "metadata": {},
          "execution_count": 37
        }
      ]
    },
    {
      "cell_type": "markdown",
      "metadata": {
        "id": "GYkRGXLvaNUU"
      },
      "source": [
        "As we can see from this pivot table most of the songs in each of our clusters were part of an album. The cluster \"1\" is the one with the highest percentage of album's songs (87.81%). In cluster \"0\" we have the highest percentage of songs from a radio program (22.77%) and Live Performance's songs (13.79%) and the lowest percentage of album's songs (61.97%). There are just few songs in each cluster that are from singles (respectively 1.41%, 0.67% and 1.30%). Contest's song are nearly absent"
      ],
      "id": "GYkRGXLvaNUU"
    },
    {
      "cell_type": "markdown",
      "metadata": {
        "id": "QErNSZLlp3bu"
      },
      "source": [
        "#### Song's Language Pivot Table"
      ],
      "id": "QErNSZLlp3bu"
    },
    {
      "cell_type": "code",
      "metadata": {
        "id": "v04Es46BRC_b",
        "colab": {
          "base_uri": "https://localhost:8080/",
          "height": 1000
        },
        "outputId": "15531bf6-be14-4285-8e0f-acb63689f73d"
      },
      "source": [
        "lang_table = pd.crosstab(newdf['track_language_code'],newdf['cluster'],rownames=['Language'], colnames=['N° Cluster']).apply(lambda r: round(r/r.sum()*100,2), axis=0)\n",
        "lang_table"
      ],
      "id": "v04Es46BRC_b",
      "execution_count": null,
      "outputs": [
        {
          "output_type": "execute_result",
          "data": {
            "text/html": [
              "<div>\n",
              "<style scoped>\n",
              "    .dataframe tbody tr th:only-of-type {\n",
              "        vertical-align: middle;\n",
              "    }\n",
              "\n",
              "    .dataframe tbody tr th {\n",
              "        vertical-align: top;\n",
              "    }\n",
              "\n",
              "    .dataframe thead th {\n",
              "        text-align: right;\n",
              "    }\n",
              "</style>\n",
              "<table border=\"1\" class=\"dataframe\">\n",
              "  <thead>\n",
              "    <tr style=\"text-align: right;\">\n",
              "      <th>N° Cluster</th>\n",
              "      <th>0</th>\n",
              "      <th>1</th>\n",
              "      <th>2</th>\n",
              "    </tr>\n",
              "    <tr>\n",
              "      <th>Language</th>\n",
              "      <th></th>\n",
              "      <th></th>\n",
              "      <th></th>\n",
              "    </tr>\n",
              "  </thead>\n",
              "  <tbody>\n",
              "    <tr>\n",
              "      <th>ar</th>\n",
              "      <td>0.06</td>\n",
              "      <td>0.10</td>\n",
              "      <td>0.09</td>\n",
              "    </tr>\n",
              "    <tr>\n",
              "      <th>az</th>\n",
              "      <td>0.00</td>\n",
              "      <td>0.04</td>\n",
              "      <td>0.00</td>\n",
              "    </tr>\n",
              "    <tr>\n",
              "      <th>bg</th>\n",
              "      <td>0.04</td>\n",
              "      <td>0.08</td>\n",
              "      <td>0.03</td>\n",
              "    </tr>\n",
              "    <tr>\n",
              "      <th>bm</th>\n",
              "      <td>0.00</td>\n",
              "      <td>0.02</td>\n",
              "      <td>0.00</td>\n",
              "    </tr>\n",
              "    <tr>\n",
              "      <th>de</th>\n",
              "      <td>0.02</td>\n",
              "      <td>0.02</td>\n",
              "      <td>0.06</td>\n",
              "    </tr>\n",
              "    <tr>\n",
              "      <th>el</th>\n",
              "      <td>0.06</td>\n",
              "      <td>0.08</td>\n",
              "      <td>0.00</td>\n",
              "    </tr>\n",
              "    <tr>\n",
              "      <th>en</th>\n",
              "      <td>98.15</td>\n",
              "      <td>97.12</td>\n",
              "      <td>97.95</td>\n",
              "    </tr>\n",
              "    <tr>\n",
              "      <th>es</th>\n",
              "      <td>0.84</td>\n",
              "      <td>0.60</td>\n",
              "      <td>0.74</td>\n",
              "    </tr>\n",
              "    <tr>\n",
              "      <th>eu</th>\n",
              "      <td>0.00</td>\n",
              "      <td>0.02</td>\n",
              "      <td>0.00</td>\n",
              "    </tr>\n",
              "    <tr>\n",
              "      <th>fi</th>\n",
              "      <td>0.00</td>\n",
              "      <td>0.04</td>\n",
              "      <td>0.03</td>\n",
              "    </tr>\n",
              "    <tr>\n",
              "      <th>fr</th>\n",
              "      <td>0.29</td>\n",
              "      <td>0.50</td>\n",
              "      <td>0.14</td>\n",
              "    </tr>\n",
              "    <tr>\n",
              "      <th>gu</th>\n",
              "      <td>0.00</td>\n",
              "      <td>0.02</td>\n",
              "      <td>0.00</td>\n",
              "    </tr>\n",
              "    <tr>\n",
              "      <th>ha</th>\n",
              "      <td>0.00</td>\n",
              "      <td>0.02</td>\n",
              "      <td>0.00</td>\n",
              "    </tr>\n",
              "    <tr>\n",
              "      <th>hi</th>\n",
              "      <td>0.04</td>\n",
              "      <td>0.02</td>\n",
              "      <td>0.00</td>\n",
              "    </tr>\n",
              "    <tr>\n",
              "      <th>hy</th>\n",
              "      <td>0.00</td>\n",
              "      <td>0.02</td>\n",
              "      <td>0.03</td>\n",
              "    </tr>\n",
              "    <tr>\n",
              "      <th>id</th>\n",
              "      <td>0.00</td>\n",
              "      <td>0.04</td>\n",
              "      <td>0.03</td>\n",
              "    </tr>\n",
              "    <tr>\n",
              "      <th>it</th>\n",
              "      <td>0.04</td>\n",
              "      <td>0.25</td>\n",
              "      <td>0.06</td>\n",
              "    </tr>\n",
              "    <tr>\n",
              "      <th>ja</th>\n",
              "      <td>0.00</td>\n",
              "      <td>0.04</td>\n",
              "      <td>0.00</td>\n",
              "    </tr>\n",
              "    <tr>\n",
              "      <th>ka</th>\n",
              "      <td>0.00</td>\n",
              "      <td>0.02</td>\n",
              "      <td>0.00</td>\n",
              "    </tr>\n",
              "    <tr>\n",
              "      <th>ko</th>\n",
              "      <td>0.00</td>\n",
              "      <td>0.02</td>\n",
              "      <td>0.00</td>\n",
              "    </tr>\n",
              "    <tr>\n",
              "      <th>lt</th>\n",
              "      <td>0.00</td>\n",
              "      <td>0.02</td>\n",
              "      <td>0.00</td>\n",
              "    </tr>\n",
              "    <tr>\n",
              "      <th>ms</th>\n",
              "      <td>0.00</td>\n",
              "      <td>0.02</td>\n",
              "      <td>0.03</td>\n",
              "    </tr>\n",
              "    <tr>\n",
              "      <th>my</th>\n",
              "      <td>0.00</td>\n",
              "      <td>0.02</td>\n",
              "      <td>0.00</td>\n",
              "    </tr>\n",
              "    <tr>\n",
              "      <th>nl</th>\n",
              "      <td>0.06</td>\n",
              "      <td>0.00</td>\n",
              "      <td>0.03</td>\n",
              "    </tr>\n",
              "    <tr>\n",
              "      <th>no</th>\n",
              "      <td>0.00</td>\n",
              "      <td>0.02</td>\n",
              "      <td>0.00</td>\n",
              "    </tr>\n",
              "    <tr>\n",
              "      <th>pl</th>\n",
              "      <td>0.02</td>\n",
              "      <td>0.08</td>\n",
              "      <td>0.14</td>\n",
              "    </tr>\n",
              "    <tr>\n",
              "      <th>pt</th>\n",
              "      <td>0.02</td>\n",
              "      <td>0.08</td>\n",
              "      <td>0.28</td>\n",
              "    </tr>\n",
              "    <tr>\n",
              "      <th>sk</th>\n",
              "      <td>0.00</td>\n",
              "      <td>0.02</td>\n",
              "      <td>0.00</td>\n",
              "    </tr>\n",
              "    <tr>\n",
              "      <th>sr</th>\n",
              "      <td>0.19</td>\n",
              "      <td>0.19</td>\n",
              "      <td>0.00</td>\n",
              "    </tr>\n",
              "    <tr>\n",
              "      <th>sw</th>\n",
              "      <td>0.00</td>\n",
              "      <td>0.08</td>\n",
              "      <td>0.06</td>\n",
              "    </tr>\n",
              "    <tr>\n",
              "      <th>th</th>\n",
              "      <td>0.02</td>\n",
              "      <td>0.00</td>\n",
              "      <td>0.00</td>\n",
              "    </tr>\n",
              "    <tr>\n",
              "      <th>tl</th>\n",
              "      <td>0.00</td>\n",
              "      <td>0.02</td>\n",
              "      <td>0.00</td>\n",
              "    </tr>\n",
              "    <tr>\n",
              "      <th>tr</th>\n",
              "      <td>0.08</td>\n",
              "      <td>0.25</td>\n",
              "      <td>0.26</td>\n",
              "    </tr>\n",
              "    <tr>\n",
              "      <th>tw</th>\n",
              "      <td>0.00</td>\n",
              "      <td>0.02</td>\n",
              "      <td>0.00</td>\n",
              "    </tr>\n",
              "    <tr>\n",
              "      <th>ty</th>\n",
              "      <td>0.00</td>\n",
              "      <td>0.02</td>\n",
              "      <td>0.00</td>\n",
              "    </tr>\n",
              "    <tr>\n",
              "      <th>uk</th>\n",
              "      <td>0.02</td>\n",
              "      <td>0.00</td>\n",
              "      <td>0.00</td>\n",
              "    </tr>\n",
              "    <tr>\n",
              "      <th>uz</th>\n",
              "      <td>0.00</td>\n",
              "      <td>0.02</td>\n",
              "      <td>0.00</td>\n",
              "    </tr>\n",
              "    <tr>\n",
              "      <th>vi</th>\n",
              "      <td>0.00</td>\n",
              "      <td>0.04</td>\n",
              "      <td>0.00</td>\n",
              "    </tr>\n",
              "    <tr>\n",
              "      <th>zh</th>\n",
              "      <td>0.02</td>\n",
              "      <td>0.00</td>\n",
              "      <td>0.06</td>\n",
              "    </tr>\n",
              "  </tbody>\n",
              "</table>\n",
              "</div>"
            ],
            "text/plain": [
              "N° Cluster      0      1      2\n",
              "Language                       \n",
              "ar           0.06   0.10   0.09\n",
              "az           0.00   0.04   0.00\n",
              "bg           0.04   0.08   0.03\n",
              "bm           0.00   0.02   0.00\n",
              "de           0.02   0.02   0.06\n",
              "el           0.06   0.08   0.00\n",
              "en          98.15  97.12  97.95\n",
              "es           0.84   0.60   0.74\n",
              "eu           0.00   0.02   0.00\n",
              "fi           0.00   0.04   0.03\n",
              "fr           0.29   0.50   0.14\n",
              "gu           0.00   0.02   0.00\n",
              "ha           0.00   0.02   0.00\n",
              "hi           0.04   0.02   0.00\n",
              "hy           0.00   0.02   0.03\n",
              "id           0.00   0.04   0.03\n",
              "it           0.04   0.25   0.06\n",
              "ja           0.00   0.04   0.00\n",
              "ka           0.00   0.02   0.00\n",
              "ko           0.00   0.02   0.00\n",
              "lt           0.00   0.02   0.00\n",
              "ms           0.00   0.02   0.03\n",
              "my           0.00   0.02   0.00\n",
              "nl           0.06   0.00   0.03\n",
              "no           0.00   0.02   0.00\n",
              "pl           0.02   0.08   0.14\n",
              "pt           0.02   0.08   0.28\n",
              "sk           0.00   0.02   0.00\n",
              "sr           0.19   0.19   0.00\n",
              "sw           0.00   0.08   0.06\n",
              "th           0.02   0.00   0.00\n",
              "tl           0.00   0.02   0.00\n",
              "tr           0.08   0.25   0.26\n",
              "tw           0.00   0.02   0.00\n",
              "ty           0.00   0.02   0.00\n",
              "uk           0.02   0.00   0.00\n",
              "uz           0.00   0.02   0.00\n",
              "vi           0.00   0.04   0.00\n",
              "zh           0.02   0.00   0.06"
            ]
          },
          "metadata": {},
          "execution_count": 47
        }
      ]
    },
    {
      "cell_type": "markdown",
      "metadata": {
        "id": "YLoplEjMbA0H"
      },
      "source": [
        "As we can see the most common language for all the songs in each cluster is \"en\" language (that covers respectively 98.15%,\t97.12%,\t97.95%). The second most common language for cluster \"0\" is \"es\" (0.84%); for cluster \"1\" is \"es\" (0.60%) and for cluster \"2\" is \"es\" (0.74%). "
      ],
      "id": "YLoplEjMbA0H"
    },
    {
      "cell_type": "markdown",
      "metadata": {
        "id": "Xq3gyRnoCsK_"
      },
      "source": [
        "#### Artist Country Pivot Table\n",
        "\n"
      ],
      "id": "Xq3gyRnoCsK_"
    },
    {
      "cell_type": "code",
      "metadata": {
        "id": "Cu8sLpHu_uCs"
      },
      "source": [
        "!pip install reverse_geocoder"
      ],
      "id": "Cu8sLpHu_uCs",
      "execution_count": null,
      "outputs": []
    },
    {
      "cell_type": "code",
      "metadata": {
        "id": "D1nGhPek_lX2"
      },
      "source": [
        "import reverse_geocoder as rg\n",
        "import math"
      ],
      "id": "D1nGhPek_lX2",
      "execution_count": null,
      "outputs": []
    },
    {
      "cell_type": "markdown",
      "metadata": {
        "id": "eBKhqG4mX4g6"
      },
      "source": [
        "Those codes were used to create our feature \"artist_conutry\" but it is long to run. To check the code just open the dataframe file below"
      ],
      "id": "eBKhqG4mX4g6"
    },
    {
      "cell_type": "code",
      "metadata": {
        "id": "8gyLJA5PAe7E"
      },
      "source": [
        "# code to prepare our coordinates to be converted in countries\n",
        "latitude = newdf['artist_latitude']\n",
        "longitude = newdf['artist_longitude']\n",
        "coord = zip(latitude,longitude)\n",
        "coord = list(coord)"
      ],
      "id": "8gyLJA5PAe7E",
      "execution_count": null,
      "outputs": []
    },
    {
      "cell_type": "code",
      "metadata": {
        "colab": {
          "base_uri": "https://localhost:8080/"
        },
        "id": "uZftRj-PSbOD",
        "outputId": "3c9b26ef-354a-4123-93a4-3e15c4672b92"
      },
      "source": [
        "# code to convert coordinates in countries\n",
        "country = list()\n",
        "for i in tqdm(range(len(coord))):\n",
        "  if math.isnan(coord[i][0]):\n",
        "    country.append(np.NaN)\n",
        "  else:\n",
        "    results = rg.search(coord[i])\n",
        "    country.append(list(results[0].items())[5][1])"
      ],
      "id": "uZftRj-PSbOD",
      "execution_count": null,
      "outputs": [
        {
          "output_type": "stream",
          "name": "stderr",
          "text": [
            "100%|██████████| 13129/13129 [31:37<00:00,  6.92it/s]\n"
          ]
        }
      ]
    },
    {
      "cell_type": "code",
      "metadata": {
        "colab": {
          "base_uri": "https://localhost:8080/",
          "height": 1000
        },
        "id": "T9RB7KoLhgt5",
        "outputId": "f4065811-40f4-44c5-b3e9-a43c9fb4e53e"
      },
      "source": [
        "country_table = pd.crosstab(newdf['artist_country'],newdf['cluster'],rownames=['Artist Country'], colnames=['N° Cluster']).apply(lambda r: round(r/r.sum()*100,2), axis=0)\n",
        "country_table"
      ],
      "id": "T9RB7KoLhgt5",
      "execution_count": null,
      "outputs": [
        {
          "output_type": "execute_result",
          "data": {
            "text/html": [
              "<div>\n",
              "<style scoped>\n",
              "    .dataframe tbody tr th:only-of-type {\n",
              "        vertical-align: middle;\n",
              "    }\n",
              "\n",
              "    .dataframe tbody tr th {\n",
              "        vertical-align: top;\n",
              "    }\n",
              "\n",
              "    .dataframe thead th {\n",
              "        text-align: right;\n",
              "    }\n",
              "</style>\n",
              "<table border=\"1\" class=\"dataframe\">\n",
              "  <thead>\n",
              "    <tr style=\"text-align: right;\">\n",
              "      <th>N° Cluster</th>\n",
              "      <th>0</th>\n",
              "      <th>1</th>\n",
              "      <th>2</th>\n",
              "    </tr>\n",
              "    <tr>\n",
              "      <th>Artist Country</th>\n",
              "      <th></th>\n",
              "      <th></th>\n",
              "      <th></th>\n",
              "    </tr>\n",
              "  </thead>\n",
              "  <tbody>\n",
              "    <tr>\n",
              "      <th>AR</th>\n",
              "      <td>0.06</td>\n",
              "      <td>0.75</td>\n",
              "      <td>2.11</td>\n",
              "    </tr>\n",
              "    <tr>\n",
              "      <th>AT</th>\n",
              "      <td>0.30</td>\n",
              "      <td>0.51</td>\n",
              "      <td>1.00</td>\n",
              "    </tr>\n",
              "    <tr>\n",
              "      <th>AU</th>\n",
              "      <td>0.63</td>\n",
              "      <td>0.31</td>\n",
              "      <td>0.11</td>\n",
              "    </tr>\n",
              "    <tr>\n",
              "      <th>BE</th>\n",
              "      <td>0.36</td>\n",
              "      <td>1.39</td>\n",
              "      <td>1.95</td>\n",
              "    </tr>\n",
              "    <tr>\n",
              "      <th>BM</th>\n",
              "      <td>0.06</td>\n",
              "      <td>0.37</td>\n",
              "      <td>0.00</td>\n",
              "    </tr>\n",
              "    <tr>\n",
              "      <th>BR</th>\n",
              "      <td>0.45</td>\n",
              "      <td>1.63</td>\n",
              "      <td>1.11</td>\n",
              "    </tr>\n",
              "    <tr>\n",
              "      <th>BY</th>\n",
              "      <td>0.00</td>\n",
              "      <td>0.00</td>\n",
              "      <td>0.06</td>\n",
              "    </tr>\n",
              "    <tr>\n",
              "      <th>CA</th>\n",
              "      <td>1.78</td>\n",
              "      <td>2.24</td>\n",
              "      <td>2.06</td>\n",
              "    </tr>\n",
              "    <tr>\n",
              "      <th>CH</th>\n",
              "      <td>0.06</td>\n",
              "      <td>0.88</td>\n",
              "      <td>0.44</td>\n",
              "    </tr>\n",
              "    <tr>\n",
              "      <th>CL</th>\n",
              "      <td>0.15</td>\n",
              "      <td>0.92</td>\n",
              "      <td>0.28</td>\n",
              "    </tr>\n",
              "    <tr>\n",
              "      <th>CN</th>\n",
              "      <td>0.12</td>\n",
              "      <td>0.07</td>\n",
              "      <td>0.06</td>\n",
              "    </tr>\n",
              "    <tr>\n",
              "      <th>CR</th>\n",
              "      <td>0.00</td>\n",
              "      <td>0.41</td>\n",
              "      <td>0.06</td>\n",
              "    </tr>\n",
              "    <tr>\n",
              "      <th>CZ</th>\n",
              "      <td>0.06</td>\n",
              "      <td>0.10</td>\n",
              "      <td>0.06</td>\n",
              "    </tr>\n",
              "    <tr>\n",
              "      <th>DE</th>\n",
              "      <td>2.45</td>\n",
              "      <td>4.45</td>\n",
              "      <td>3.28</td>\n",
              "    </tr>\n",
              "    <tr>\n",
              "      <th>DK</th>\n",
              "      <td>0.45</td>\n",
              "      <td>0.07</td>\n",
              "      <td>0.83</td>\n",
              "    </tr>\n",
              "    <tr>\n",
              "      <th>ES</th>\n",
              "      <td>0.33</td>\n",
              "      <td>1.43</td>\n",
              "      <td>0.67</td>\n",
              "    </tr>\n",
              "    <tr>\n",
              "      <th>FI</th>\n",
              "      <td>0.09</td>\n",
              "      <td>0.31</td>\n",
              "      <td>0.44</td>\n",
              "    </tr>\n",
              "    <tr>\n",
              "      <th>FR</th>\n",
              "      <td>1.36</td>\n",
              "      <td>3.87</td>\n",
              "      <td>2.89</td>\n",
              "    </tr>\n",
              "    <tr>\n",
              "      <th>GB</th>\n",
              "      <td>6.95</td>\n",
              "      <td>11.58</td>\n",
              "      <td>6.28</td>\n",
              "    </tr>\n",
              "    <tr>\n",
              "      <th>HU</th>\n",
              "      <td>0.09</td>\n",
              "      <td>0.44</td>\n",
              "      <td>0.00</td>\n",
              "    </tr>\n",
              "    <tr>\n",
              "      <th>ID</th>\n",
              "      <td>0.51</td>\n",
              "      <td>0.07</td>\n",
              "      <td>0.50</td>\n",
              "    </tr>\n",
              "    <tr>\n",
              "      <th>IE</th>\n",
              "      <td>1.48</td>\n",
              "      <td>1.09</td>\n",
              "      <td>0.95</td>\n",
              "    </tr>\n",
              "    <tr>\n",
              "      <th>IL</th>\n",
              "      <td>0.27</td>\n",
              "      <td>2.41</td>\n",
              "      <td>1.33</td>\n",
              "    </tr>\n",
              "    <tr>\n",
              "      <th>IN</th>\n",
              "      <td>0.00</td>\n",
              "      <td>0.00</td>\n",
              "      <td>0.06</td>\n",
              "    </tr>\n",
              "    <tr>\n",
              "      <th>IS</th>\n",
              "      <td>0.00</td>\n",
              "      <td>0.00</td>\n",
              "      <td>0.17</td>\n",
              "    </tr>\n",
              "    <tr>\n",
              "      <th>IT</th>\n",
              "      <td>1.45</td>\n",
              "      <td>5.47</td>\n",
              "      <td>3.39</td>\n",
              "    </tr>\n",
              "    <tr>\n",
              "      <th>JP</th>\n",
              "      <td>0.60</td>\n",
              "      <td>0.92</td>\n",
              "      <td>1.00</td>\n",
              "    </tr>\n",
              "    <tr>\n",
              "      <th>LT</th>\n",
              "      <td>0.00</td>\n",
              "      <td>0.10</td>\n",
              "      <td>0.22</td>\n",
              "    </tr>\n",
              "    <tr>\n",
              "      <th>MA</th>\n",
              "      <td>0.27</td>\n",
              "      <td>0.44</td>\n",
              "      <td>0.28</td>\n",
              "    </tr>\n",
              "    <tr>\n",
              "      <th>ML</th>\n",
              "      <td>0.00</td>\n",
              "      <td>0.00</td>\n",
              "      <td>0.06</td>\n",
              "    </tr>\n",
              "    <tr>\n",
              "      <th>MX</th>\n",
              "      <td>2.12</td>\n",
              "      <td>1.66</td>\n",
              "      <td>0.56</td>\n",
              "    </tr>\n",
              "    <tr>\n",
              "      <th>NL</th>\n",
              "      <td>2.81</td>\n",
              "      <td>3.02</td>\n",
              "      <td>1.00</td>\n",
              "    </tr>\n",
              "    <tr>\n",
              "      <th>NO</th>\n",
              "      <td>0.00</td>\n",
              "      <td>0.20</td>\n",
              "      <td>0.06</td>\n",
              "    </tr>\n",
              "    <tr>\n",
              "      <th>NZ</th>\n",
              "      <td>0.94</td>\n",
              "      <td>0.41</td>\n",
              "      <td>0.56</td>\n",
              "    </tr>\n",
              "    <tr>\n",
              "      <th>PE</th>\n",
              "      <td>0.21</td>\n",
              "      <td>0.07</td>\n",
              "      <td>0.06</td>\n",
              "    </tr>\n",
              "    <tr>\n",
              "      <th>PL</th>\n",
              "      <td>0.09</td>\n",
              "      <td>0.00</td>\n",
              "      <td>0.28</td>\n",
              "    </tr>\n",
              "    <tr>\n",
              "      <th>PT</th>\n",
              "      <td>0.70</td>\n",
              "      <td>1.36</td>\n",
              "      <td>1.17</td>\n",
              "    </tr>\n",
              "    <tr>\n",
              "      <th>RO</th>\n",
              "      <td>0.09</td>\n",
              "      <td>1.05</td>\n",
              "      <td>0.17</td>\n",
              "    </tr>\n",
              "    <tr>\n",
              "      <th>RS</th>\n",
              "      <td>0.36</td>\n",
              "      <td>0.64</td>\n",
              "      <td>0.50</td>\n",
              "    </tr>\n",
              "    <tr>\n",
              "      <th>RU</th>\n",
              "      <td>1.03</td>\n",
              "      <td>2.34</td>\n",
              "      <td>2.78</td>\n",
              "    </tr>\n",
              "    <tr>\n",
              "      <th>SE</th>\n",
              "      <td>1.33</td>\n",
              "      <td>1.63</td>\n",
              "      <td>1.84</td>\n",
              "    </tr>\n",
              "    <tr>\n",
              "      <th>TR</th>\n",
              "      <td>0.54</td>\n",
              "      <td>0.37</td>\n",
              "      <td>0.95</td>\n",
              "    </tr>\n",
              "    <tr>\n",
              "      <th>TW</th>\n",
              "      <td>0.03</td>\n",
              "      <td>0.03</td>\n",
              "      <td>0.00</td>\n",
              "    </tr>\n",
              "    <tr>\n",
              "      <th>UA</th>\n",
              "      <td>0.06</td>\n",
              "      <td>0.37</td>\n",
              "      <td>0.06</td>\n",
              "    </tr>\n",
              "    <tr>\n",
              "      <th>US</th>\n",
              "      <td>69.14</td>\n",
              "      <td>43.48</td>\n",
              "      <td>57.79</td>\n",
              "    </tr>\n",
              "    <tr>\n",
              "      <th>VA</th>\n",
              "      <td>0.15</td>\n",
              "      <td>0.95</td>\n",
              "      <td>0.50</td>\n",
              "    </tr>\n",
              "    <tr>\n",
              "      <th>VE</th>\n",
              "      <td>0.03</td>\n",
              "      <td>0.17</td>\n",
              "      <td>0.11</td>\n",
              "    </tr>\n",
              "    <tr>\n",
              "      <th>ZA</th>\n",
              "      <td>0.00</td>\n",
              "      <td>0.03</td>\n",
              "      <td>0.00</td>\n",
              "    </tr>\n",
              "  </tbody>\n",
              "</table>\n",
              "</div>"
            ],
            "text/plain": [
              "N° Cluster          0      1      2\n",
              "Artist Country                     \n",
              "AR               0.06   0.75   2.11\n",
              "AT               0.30   0.51   1.00\n",
              "AU               0.63   0.31   0.11\n",
              "BE               0.36   1.39   1.95\n",
              "BM               0.06   0.37   0.00\n",
              "BR               0.45   1.63   1.11\n",
              "BY               0.00   0.00   0.06\n",
              "CA               1.78   2.24   2.06\n",
              "CH               0.06   0.88   0.44\n",
              "CL               0.15   0.92   0.28\n",
              "CN               0.12   0.07   0.06\n",
              "CR               0.00   0.41   0.06\n",
              "CZ               0.06   0.10   0.06\n",
              "DE               2.45   4.45   3.28\n",
              "DK               0.45   0.07   0.83\n",
              "ES               0.33   1.43   0.67\n",
              "FI               0.09   0.31   0.44\n",
              "FR               1.36   3.87   2.89\n",
              "GB               6.95  11.58   6.28\n",
              "HU               0.09   0.44   0.00\n",
              "ID               0.51   0.07   0.50\n",
              "IE               1.48   1.09   0.95\n",
              "IL               0.27   2.41   1.33\n",
              "IN               0.00   0.00   0.06\n",
              "IS               0.00   0.00   0.17\n",
              "IT               1.45   5.47   3.39\n",
              "JP               0.60   0.92   1.00\n",
              "LT               0.00   0.10   0.22\n",
              "MA               0.27   0.44   0.28\n",
              "ML               0.00   0.00   0.06\n",
              "MX               2.12   1.66   0.56\n",
              "NL               2.81   3.02   1.00\n",
              "NO               0.00   0.20   0.06\n",
              "NZ               0.94   0.41   0.56\n",
              "PE               0.21   0.07   0.06\n",
              "PL               0.09   0.00   0.28\n",
              "PT               0.70   1.36   1.17\n",
              "RO               0.09   1.05   0.17\n",
              "RS               0.36   0.64   0.50\n",
              "RU               1.03   2.34   2.78\n",
              "SE               1.33   1.63   1.84\n",
              "TR               0.54   0.37   0.95\n",
              "TW               0.03   0.03   0.00\n",
              "UA               0.06   0.37   0.06\n",
              "US              69.14  43.48  57.79\n",
              "VA               0.15   0.95   0.50\n",
              "VE               0.03   0.17   0.11\n",
              "ZA               0.00   0.03   0.00"
            ]
          },
          "metadata": {},
          "execution_count": 62
        }
      ]
    },
    {
      "cell_type": "markdown",
      "metadata": {
        "id": "T15nd1ueAm0A"
      },
      "source": [
        "As we can see in the previous table, for each cluster the highest artist's location percentage is US (with respectively 69.14%, 43.48% and 57.79%). For Cluster 0 the second highest percentage is \"GB\". For Cluster 1 higher percentages are for \"GB\" (11.58%) , \"IT\" (5.47%) and \"RU\" (2.34%). For Cluster 2 the second highest percentage is for \"GB\" (6.28%). "
      ],
      "id": "T15nd1ueAm0A"
    },
    {
      "cell_type": "markdown",
      "metadata": {
        "id": "FBOgldqerig7"
      },
      "source": [
        "#### Song's Duration Pivot Table"
      ],
      "id": "FBOgldqerig7"
    },
    {
      "cell_type": "code",
      "metadata": {
        "id": "-WXbkGwDgkQt"
      },
      "source": [
        "# setting bins for the conversion from quantitative to qualitative\n",
        "min = newdf['track_duration'].min()\n",
        "max = newdf['track_duration'].max()\n",
        "first = newdf['track_duration'].describe()[4]\n",
        "second = newdf['track_duration'].describe()[5]\n",
        "third = newdf['track_duration'].describe()[6]\n",
        "bins = [min, first, second, third, max]\n",
        "categ_dur = pd.cut(newdf['track_duration'], bins, include_lowest=True, labels=['short','medium','long','really long'])"
      ],
      "id": "-WXbkGwDgkQt",
      "execution_count": null,
      "outputs": []
    },
    {
      "cell_type": "code",
      "metadata": {
        "colab": {
          "base_uri": "https://localhost:8080/",
          "height": 221
        },
        "id": "Imf-368hgtLS",
        "outputId": "3bf4a3e7-379a-4360-f95e-20eeb710186c"
      },
      "source": [
        "durat_table = pd.crosstab(categ_dur,newdf['cluster'],rownames=['Track Duration'], colnames=['N° Cluster']).apply(lambda r: round(r/r.sum()*100,2), axis=0)\n",
        "durat_table"
      ],
      "id": "Imf-368hgtLS",
      "execution_count": null,
      "outputs": [
        {
          "output_type": "execute_result",
          "data": {
            "text/html": [
              "<div>\n",
              "<style scoped>\n",
              "    .dataframe tbody tr th:only-of-type {\n",
              "        vertical-align: middle;\n",
              "    }\n",
              "\n",
              "    .dataframe tbody tr th {\n",
              "        vertical-align: top;\n",
              "    }\n",
              "\n",
              "    .dataframe thead th {\n",
              "        text-align: right;\n",
              "    }\n",
              "</style>\n",
              "<table border=\"1\" class=\"dataframe\">\n",
              "  <thead>\n",
              "    <tr style=\"text-align: right;\">\n",
              "      <th>N° Cluster</th>\n",
              "      <th>0</th>\n",
              "      <th>1</th>\n",
              "      <th>2</th>\n",
              "    </tr>\n",
              "    <tr>\n",
              "      <th>Track Duration</th>\n",
              "      <th></th>\n",
              "      <th></th>\n",
              "      <th></th>\n",
              "    </tr>\n",
              "  </thead>\n",
              "  <tbody>\n",
              "    <tr>\n",
              "      <th>short</th>\n",
              "      <td>35.14</td>\n",
              "      <td>17.85</td>\n",
              "      <td>21.55</td>\n",
              "    </tr>\n",
              "    <tr>\n",
              "      <th>medium</th>\n",
              "      <td>26.86</td>\n",
              "      <td>22.76</td>\n",
              "      <td>26.59</td>\n",
              "    </tr>\n",
              "    <tr>\n",
              "      <th>long</th>\n",
              "      <td>20.84</td>\n",
              "      <td>29.46</td>\n",
              "      <td>23.59</td>\n",
              "    </tr>\n",
              "    <tr>\n",
              "      <th>really long</th>\n",
              "      <td>17.16</td>\n",
              "      <td>29.93</td>\n",
              "      <td>28.27</td>\n",
              "    </tr>\n",
              "  </tbody>\n",
              "</table>\n",
              "</div>"
            ],
            "text/plain": [
              "N° Cluster          0      1      2\n",
              "Track Duration                     \n",
              "short           35.14  17.85  21.55\n",
              "medium          26.86  22.76  26.59\n",
              "long            20.84  29.46  23.59\n",
              "really long     17.16  29.93  28.27"
            ]
          },
          "metadata": {},
          "execution_count": 64
        }
      ]
    },
    {
      "cell_type": "markdown",
      "metadata": {
        "id": "44Q9j8B5i_gj"
      },
      "source": [
        "The \"track duration\" was a numeric variable that we converted in a qualitative variable. The transformation was made dividing the range in four classes considering  quartiles of the distribution. For this reason is not suprising that each category in each cluster has nearly the same percentage (near 25%). As we can see \"Cluster 2\" is made mostly of \"really long\" tracks (28.27%). \"Cluster 0\" is the one with the highest percentage of \"short\" song(35.14%); it has also the highest percetage between all the cluster for \"medium\" songs (26.86%) and the lowest for \"really long\" tracks (17.16%). \"Cluster 1\" is the one with the lowest percentage for short tracks between all clusters (17.85%); it has also the highest percentage for \"long\" and \"really long\" tracks (29.46% and 29.93%). "
      ],
      "id": "44Q9j8B5i_gj"
    },
    {
      "cell_type": "markdown",
      "metadata": {
        "id": "wCR58NLZuNuH"
      },
      "source": [
        "#### Song's Danceability Pivot Table"
      ],
      "id": "wCR58NLZuNuH"
    },
    {
      "cell_type": "markdown",
      "metadata": {
        "id": "8PkUCbUlZoOe"
      },
      "source": [
        "Since it's a numerical variable we have to categorize these values too. But in this case we don't calculate the min and max values because we already know that this feature is in an interval [0,1]"
      ],
      "id": "8PkUCbUlZoOe"
    },
    {
      "cell_type": "code",
      "metadata": {
        "id": "21BsHxp9uUAk"
      },
      "source": [
        "bins = [0, 0.25, 0.50, 0.75, 1]\n",
        "categ_dance = pd.cut(newdf['audio_features_danceability'], bins, include_lowest=True, labels=['0-0.25','0.25-0.5','0.5-0.75','0.75-1'])"
      ],
      "id": "21BsHxp9uUAk",
      "execution_count": null,
      "outputs": []
    },
    {
      "cell_type": "code",
      "metadata": {
        "colab": {
          "base_uri": "https://localhost:8080/",
          "height": 221
        },
        "id": "XBumiI6Eude_",
        "outputId": "828ccfe9-465f-4cb5-f410-c62375c989b3"
      },
      "source": [
        "danceability_table = pd.crosstab(categ_dance,newdf['cluster'],rownames=['Danceability'], colnames=['N° Cluster']).apply(lambda r: round(r/r.sum()*100,2), axis=0)\n",
        "danceability_table"
      ],
      "id": "XBumiI6Eude_",
      "execution_count": null,
      "outputs": [
        {
          "output_type": "execute_result",
          "data": {
            "text/html": [
              "<div>\n",
              "<style scoped>\n",
              "    .dataframe tbody tr th:only-of-type {\n",
              "        vertical-align: middle;\n",
              "    }\n",
              "\n",
              "    .dataframe tbody tr th {\n",
              "        vertical-align: top;\n",
              "    }\n",
              "\n",
              "    .dataframe thead th {\n",
              "        text-align: right;\n",
              "    }\n",
              "</style>\n",
              "<table border=\"1\" class=\"dataframe\">\n",
              "  <thead>\n",
              "    <tr style=\"text-align: right;\">\n",
              "      <th>N° Cluster</th>\n",
              "      <th>0</th>\n",
              "      <th>1</th>\n",
              "      <th>2</th>\n",
              "    </tr>\n",
              "    <tr>\n",
              "      <th>Danceability</th>\n",
              "      <th></th>\n",
              "      <th></th>\n",
              "      <th></th>\n",
              "    </tr>\n",
              "  </thead>\n",
              "  <tbody>\n",
              "    <tr>\n",
              "      <th>0-0.25</th>\n",
              "      <td>19.93</td>\n",
              "      <td>2.52</td>\n",
              "      <td>14.29</td>\n",
              "    </tr>\n",
              "    <tr>\n",
              "      <th>0.25-0.5</th>\n",
              "      <td>50.01</td>\n",
              "      <td>23.73</td>\n",
              "      <td>51.01</td>\n",
              "    </tr>\n",
              "    <tr>\n",
              "      <th>0.5-0.75</th>\n",
              "      <td>26.84</td>\n",
              "      <td>52.32</td>\n",
              "      <td>32.69</td>\n",
              "    </tr>\n",
              "    <tr>\n",
              "      <th>0.75-1</th>\n",
              "      <td>3.21</td>\n",
              "      <td>21.42</td>\n",
              "      <td>2.01</td>\n",
              "    </tr>\n",
              "  </tbody>\n",
              "</table>\n",
              "</div>"
            ],
            "text/plain": [
              "N° Cluster        0      1      2\n",
              "Danceability                     \n",
              "0-0.25        19.93   2.52  14.29\n",
              "0.25-0.5      50.01  23.73  51.01\n",
              "0.5-0.75      26.84  52.32  32.69\n",
              "0.75-1         3.21  21.42   2.01"
            ]
          },
          "metadata": {},
          "execution_count": 66
        }
      ]
    },
    {
      "cell_type": "markdown",
      "metadata": {
        "id": "6rAnSSCkujZe"
      },
      "source": [
        "As we can see in the previous pivot table \"Cluster 1\" is the cluster with the highest percentage of '0.75-1' Danceability (21.42%) and the lowest percentage of '0-0.25' Danceability (2.52%). So, assuming that value 0 means not danceable and 1 means very danceable, cluster 1 includes all the most danceable tracks. \"Cluster 2\" instead is the one with the less danceable tracks, with one of the lowest percentage for '0.75-1' Danceability (2.01%) and the highest for '0-0.25' Danceability (14.29%). "
      ],
      "id": "6rAnSSCkujZe"
    },
    {
      "cell_type": "markdown",
      "metadata": {
        "id": "G-wnCwcCwWrZ"
      },
      "source": [
        "#### Audio Features Energy Pivot Table"
      ],
      "id": "G-wnCwcCwWrZ"
    },
    {
      "cell_type": "markdown",
      "metadata": {
        "id": "rx1and1-bxWj"
      },
      "source": [
        "Since it's a numerical variable we have to categorize these values too. But in this case we don't calculate the min and max values because we already know that this feature is in an interval [0,1]"
      ],
      "id": "rx1and1-bxWj"
    },
    {
      "cell_type": "code",
      "metadata": {
        "id": "KIc25pAybxWk"
      },
      "source": [
        "bins = [0, 0.25, 0.50, 0.75, 1]\n",
        "categ_energy = pd.cut(newdf['audio_features_energy'], bins, include_lowest=True, labels=['0-0.25','0.25-0.5','0.5-0.75','0.75-1'])"
      ],
      "id": "KIc25pAybxWk",
      "execution_count": null,
      "outputs": []
    },
    {
      "cell_type": "markdown",
      "metadata": {
        "id": "7BM50fD0bxWl"
      },
      "source": [
        "Now we can effectively create the correspondent pivot table"
      ],
      "id": "7BM50fD0bxWl"
    },
    {
      "cell_type": "code",
      "metadata": {
        "id": "sPw2Yn3hbxWl",
        "colab": {
          "base_uri": "https://localhost:8080/",
          "height": 221
        },
        "outputId": "95780086-e5ab-4cc6-afee-a19ebdbdebdc"
      },
      "source": [
        "energy_table = pd.crosstab(categ_energy,newdf['cluster'],rownames=['Energy'], colnames=['N° Cluster']).apply(lambda r: round(r/r.sum()*100,2), axis=0)\n",
        "energy_table"
      ],
      "id": "sPw2Yn3hbxWl",
      "execution_count": null,
      "outputs": [
        {
          "output_type": "execute_result",
          "data": {
            "text/html": [
              "<div>\n",
              "<style scoped>\n",
              "    .dataframe tbody tr th:only-of-type {\n",
              "        vertical-align: middle;\n",
              "    }\n",
              "\n",
              "    .dataframe tbody tr th {\n",
              "        vertical-align: top;\n",
              "    }\n",
              "\n",
              "    .dataframe thead th {\n",
              "        text-align: right;\n",
              "    }\n",
              "</style>\n",
              "<table border=\"1\" class=\"dataframe\">\n",
              "  <thead>\n",
              "    <tr style=\"text-align: right;\">\n",
              "      <th>N° Cluster</th>\n",
              "      <th>0</th>\n",
              "      <th>1</th>\n",
              "      <th>2</th>\n",
              "    </tr>\n",
              "    <tr>\n",
              "      <th>Energy</th>\n",
              "      <th></th>\n",
              "      <th></th>\n",
              "      <th></th>\n",
              "    </tr>\n",
              "  </thead>\n",
              "  <tbody>\n",
              "    <tr>\n",
              "      <th>0-0.25</th>\n",
              "      <td>3.57</td>\n",
              "      <td>7.83</td>\n",
              "      <td>54.52</td>\n",
              "    </tr>\n",
              "    <tr>\n",
              "      <th>0.25-0.5</th>\n",
              "      <td>14.09</td>\n",
              "      <td>29.64</td>\n",
              "      <td>33.74</td>\n",
              "    </tr>\n",
              "    <tr>\n",
              "      <th>0.5-0.75</th>\n",
              "      <td>31.72</td>\n",
              "      <td>38.57</td>\n",
              "      <td>10.52</td>\n",
              "    </tr>\n",
              "    <tr>\n",
              "      <th>0.75-1</th>\n",
              "      <td>50.62</td>\n",
              "      <td>23.96</td>\n",
              "      <td>1.22</td>\n",
              "    </tr>\n",
              "  </tbody>\n",
              "</table>\n",
              "</div>"
            ],
            "text/plain": [
              "N° Cluster      0      1      2\n",
              "Energy                         \n",
              "0-0.25       3.57   7.83  54.52\n",
              "0.25-0.5    14.09  29.64  33.74\n",
              "0.5-0.75    31.72  38.57  10.52\n",
              "0.75-1      50.62  23.96   1.22"
            ]
          },
          "metadata": {},
          "execution_count": 68
        }
      ]
    },
    {
      "cell_type": "markdown",
      "metadata": {
        "id": "p42Di6YdwzUn"
      },
      "source": [
        "Assume that 0 is \"Zero Energy Track\" and 1 is \"Max Energy Track. \"Cluster 2\" is the one with the highest percentage of Low Energy Songs (54.52%) and the lowest for High Energy Tracks (1.22%). \"Cluster 0\" is the one with the highest percentage of High Energy Songs (50.62%). \"Cluster 1\" is the one with a nearly similar percentage for each category except \"0-0.25\" songs, that means that in average this cluster has a slightly higher value for Track's Energy w.r.t. the average. "
      ],
      "id": "p42Di6YdwzUn"
    },
    {
      "cell_type": "markdown",
      "metadata": {
        "id": "7eBqu0oIyGL9"
      },
      "source": [
        "#### Song's Instrumentalness Pivot Table"
      ],
      "id": "7eBqu0oIyGL9"
    },
    {
      "cell_type": "markdown",
      "metadata": {
        "id": "C4HljYakc3tO"
      },
      "source": [
        "Since it's a numerical variable we have to categorize these values too. But in this case we don't calculate the min and max values because we already know that this feature is in an interval [0,1]"
      ],
      "id": "C4HljYakc3tO"
    },
    {
      "cell_type": "code",
      "metadata": {
        "id": "38ArFhYBc3tO"
      },
      "source": [
        "bins = [0, 0.25, 0.50, 0.75, 1]\n",
        "categ_instrum = pd.cut(newdf['audio_features_instrumentalness'], bins, include_lowest=True, labels=['0-0.25','0.25-0.5','0.5-0.75','0.75-1'])"
      ],
      "id": "38ArFhYBc3tO",
      "execution_count": null,
      "outputs": []
    },
    {
      "cell_type": "markdown",
      "metadata": {
        "id": "kmesQUVtc3tP"
      },
      "source": [
        "Now we can effectively create the correspondent pivot table"
      ],
      "id": "kmesQUVtc3tP"
    },
    {
      "cell_type": "code",
      "metadata": {
        "id": "gEZyIS2bc3tP",
        "colab": {
          "base_uri": "https://localhost:8080/",
          "height": 221
        },
        "outputId": "9bc359b0-3b81-4269-e4fc-2759b2c41f52"
      },
      "source": [
        "instrumentalness_table = pd.crosstab(categ_instrum,newdf['cluster'],rownames=['Instrumentalness'], colnames=['N° Cluster']).apply(lambda r: round(r/r.sum()*100,2), axis=0)\n",
        "instrumentalness_table"
      ],
      "id": "gEZyIS2bc3tP",
      "execution_count": null,
      "outputs": [
        {
          "output_type": "execute_result",
          "data": {
            "text/html": [
              "<div>\n",
              "<style scoped>\n",
              "    .dataframe tbody tr th:only-of-type {\n",
              "        vertical-align: middle;\n",
              "    }\n",
              "\n",
              "    .dataframe tbody tr th {\n",
              "        vertical-align: top;\n",
              "    }\n",
              "\n",
              "    .dataframe thead th {\n",
              "        text-align: right;\n",
              "    }\n",
              "</style>\n",
              "<table border=\"1\" class=\"dataframe\">\n",
              "  <thead>\n",
              "    <tr style=\"text-align: right;\">\n",
              "      <th>N° Cluster</th>\n",
              "      <th>0</th>\n",
              "      <th>1</th>\n",
              "      <th>2</th>\n",
              "    </tr>\n",
              "    <tr>\n",
              "      <th>Instrumentalness</th>\n",
              "      <th></th>\n",
              "      <th></th>\n",
              "      <th></th>\n",
              "    </tr>\n",
              "  </thead>\n",
              "  <tbody>\n",
              "    <tr>\n",
              "      <th>0-0.25</th>\n",
              "      <td>16.91</td>\n",
              "      <td>30.16</td>\n",
              "      <td>22.63</td>\n",
              "    </tr>\n",
              "    <tr>\n",
              "      <th>0.25-0.5</th>\n",
              "      <td>5.67</td>\n",
              "      <td>5.97</td>\n",
              "      <td>5.59</td>\n",
              "    </tr>\n",
              "    <tr>\n",
              "      <th>0.5-0.75</th>\n",
              "      <td>11.36</td>\n",
              "      <td>11.49</td>\n",
              "      <td>8.34</td>\n",
              "    </tr>\n",
              "    <tr>\n",
              "      <th>0.75-1</th>\n",
              "      <td>66.06</td>\n",
              "      <td>52.39</td>\n",
              "      <td>63.45</td>\n",
              "    </tr>\n",
              "  </tbody>\n",
              "</table>\n",
              "</div>"
            ],
            "text/plain": [
              "N° Cluster            0      1      2\n",
              "Instrumentalness                     \n",
              "0-0.25            16.91  30.16  22.63\n",
              "0.25-0.5           5.67   5.97   5.59\n",
              "0.5-0.75          11.36  11.49   8.34\n",
              "0.75-1            66.06  52.39  63.45"
            ]
          },
          "metadata": {},
          "execution_count": 70
        }
      ]
    },
    {
      "cell_type": "markdown",
      "metadata": {
        "id": "tLqWaPNdzEs1"
      },
      "source": [
        "Assume 0 is \"No Instrumentalness\" and 1 is \"Max instrumentalness between all songs\". As we can see all clusters have the highest percentage on the \"0.75-1\" category (respectively 66.06%, 52.39%, 63.45%) that means that most of the tracks have an high instrumentalness score. \"Cluster 1\" is the one with the highest percentage of the lowest category for Instrumentalness score (30.16%). \"Cluster 0\" is the one with more high instrumentalness score w.r.t. all the other clusters"
      ],
      "id": "tLqWaPNdzEs1"
    },
    {
      "cell_type": "markdown",
      "metadata": {
        "id": "EEnzZGtH1Le_"
      },
      "source": [
        "### Es 2.4.6"
      ],
      "id": "EEnzZGtH1Le_"
    },
    {
      "cell_type": "markdown",
      "metadata": {
        "id": "Fjd3YFmej9d9"
      },
      "source": [
        "We need to compute the pivot table for the genre (\"track_genre_top\") "
      ],
      "id": "Fjd3YFmej9d9"
    },
    {
      "cell_type": "code",
      "metadata": {
        "colab": {
          "base_uri": "https://localhost:8080/",
          "height": 587
        },
        "id": "orZ5VrzOj8Th",
        "outputId": "e9671160-d173-422c-b6d6-2bcd364f9af6"
      },
      "source": [
        "genre_table = pd.crosstab(newdf['track_genre_top'],newdf['cluster'],rownames=['Genre'], colnames=['N° Cluster']).apply(lambda r: round(r/r.sum()*100,2), axis=0)\n",
        "genre_table"
      ],
      "id": "orZ5VrzOj8Th",
      "execution_count": null,
      "outputs": [
        {
          "output_type": "execute_result",
          "data": {
            "text/html": [
              "<div>\n",
              "<style scoped>\n",
              "    .dataframe tbody tr th:only-of-type {\n",
              "        vertical-align: middle;\n",
              "    }\n",
              "\n",
              "    .dataframe tbody tr th {\n",
              "        vertical-align: top;\n",
              "    }\n",
              "\n",
              "    .dataframe thead th {\n",
              "        text-align: right;\n",
              "    }\n",
              "</style>\n",
              "<table border=\"1\" class=\"dataframe\">\n",
              "  <thead>\n",
              "    <tr style=\"text-align: right;\">\n",
              "      <th>N° Cluster</th>\n",
              "      <th>0</th>\n",
              "      <th>1</th>\n",
              "      <th>2</th>\n",
              "    </tr>\n",
              "    <tr>\n",
              "      <th>Genre</th>\n",
              "      <th></th>\n",
              "      <th></th>\n",
              "      <th></th>\n",
              "    </tr>\n",
              "  </thead>\n",
              "  <tbody>\n",
              "    <tr>\n",
              "      <th>Blues</th>\n",
              "      <td>0.52</td>\n",
              "      <td>0.60</td>\n",
              "      <td>0.87</td>\n",
              "    </tr>\n",
              "    <tr>\n",
              "      <th>Classical</th>\n",
              "      <td>1.56</td>\n",
              "      <td>2.13</td>\n",
              "      <td>1.88</td>\n",
              "    </tr>\n",
              "    <tr>\n",
              "      <th>Country</th>\n",
              "      <td>0.92</td>\n",
              "      <td>0.67</td>\n",
              "      <td>1.79</td>\n",
              "    </tr>\n",
              "    <tr>\n",
              "      <th>Easy Listening</th>\n",
              "      <td>0.03</td>\n",
              "      <td>0.00</td>\n",
              "      <td>0.00</td>\n",
              "    </tr>\n",
              "    <tr>\n",
              "      <th>Electronic</th>\n",
              "      <td>14.43</td>\n",
              "      <td>13.71</td>\n",
              "      <td>15.09</td>\n",
              "    </tr>\n",
              "    <tr>\n",
              "      <th>Experimental</th>\n",
              "      <td>14.98</td>\n",
              "      <td>15.80</td>\n",
              "      <td>17.66</td>\n",
              "    </tr>\n",
              "    <tr>\n",
              "      <th>Folk</th>\n",
              "      <td>7.61</td>\n",
              "      <td>9.45</td>\n",
              "      <td>7.06</td>\n",
              "    </tr>\n",
              "    <tr>\n",
              "      <th>Hip-Hop</th>\n",
              "      <td>6.02</td>\n",
              "      <td>6.32</td>\n",
              "      <td>5.54</td>\n",
              "    </tr>\n",
              "    <tr>\n",
              "      <th>Instrumental</th>\n",
              "      <td>1.25</td>\n",
              "      <td>1.63</td>\n",
              "      <td>1.74</td>\n",
              "    </tr>\n",
              "    <tr>\n",
              "      <th>International</th>\n",
              "      <td>2.93</td>\n",
              "      <td>1.76</td>\n",
              "      <td>2.05</td>\n",
              "    </tr>\n",
              "    <tr>\n",
              "      <th>Jazz</th>\n",
              "      <td>2.38</td>\n",
              "      <td>2.43</td>\n",
              "      <td>1.96</td>\n",
              "    </tr>\n",
              "    <tr>\n",
              "      <th>Old-Time / Historic</th>\n",
              "      <td>3.09</td>\n",
              "      <td>4.66</td>\n",
              "      <td>2.66</td>\n",
              "    </tr>\n",
              "    <tr>\n",
              "      <th>Pop</th>\n",
              "      <td>2.78</td>\n",
              "      <td>2.36</td>\n",
              "      <td>2.01</td>\n",
              "    </tr>\n",
              "    <tr>\n",
              "      <th>Rock</th>\n",
              "      <td>39.03</td>\n",
              "      <td>37.16</td>\n",
              "      <td>36.94</td>\n",
              "    </tr>\n",
              "    <tr>\n",
              "      <th>Soul-RnB</th>\n",
              "      <td>0.46</td>\n",
              "      <td>0.37</td>\n",
              "      <td>0.96</td>\n",
              "    </tr>\n",
              "    <tr>\n",
              "      <th>Spoken</th>\n",
              "      <td>2.02</td>\n",
              "      <td>0.96</td>\n",
              "      <td>1.79</td>\n",
              "    </tr>\n",
              "  </tbody>\n",
              "</table>\n",
              "</div>"
            ],
            "text/plain": [
              "N° Cluster               0      1      2\n",
              "Genre                                   \n",
              "Blues                 0.52   0.60   0.87\n",
              "Classical             1.56   2.13   1.88\n",
              "Country               0.92   0.67   1.79\n",
              "Easy Listening        0.03   0.00   0.00\n",
              "Electronic           14.43  13.71  15.09\n",
              "Experimental         14.98  15.80  17.66\n",
              "Folk                  7.61   9.45   7.06\n",
              "Hip-Hop               6.02   6.32   5.54\n",
              "Instrumental          1.25   1.63   1.74\n",
              "International         2.93   1.76   2.05\n",
              "Jazz                  2.38   2.43   1.96\n",
              "Old-Time / Historic   3.09   4.66   2.66\n",
              "Pop                   2.78   2.36   2.01\n",
              "Rock                 39.03  37.16  36.94\n",
              "Soul-RnB              0.46   0.37   0.96\n",
              "Spoken                2.02   0.96   1.79"
            ]
          },
          "metadata": {},
          "execution_count": 76
        }
      ]
    },
    {
      "cell_type": "markdown",
      "metadata": {
        "id": "fmq44UgG18ez"
      },
      "source": [
        "As we can see from the previous table the most representative genre for each group is:\n",
        "- Cluster 0: Rock Genre (39.03%)\n",
        "- Cluster 1: Rock Genre (37.16%)\n",
        "- Cluster 2: Rock Genre (36.94%)\n",
        "\n",
        "We can see that rock genre is the most representive genre for all the cluster. Cluster 1 has also an high percentage of Electronic Music (13.71%) and Folk music (9.45%). Cluster 0 presents the highest percentage of rock tracks and an high percentage of electronic tracks (14.43%)."
      ],
      "id": "fmq44UgG18ez"
    },
    {
      "cell_type": "markdown",
      "metadata": {
        "id": "9weHpVJ9NU9o"
      },
      "source": [
        "## Es 2.4.7"
      ],
      "id": "9weHpVJ9NU9o"
    },
    {
      "cell_type": "markdown",
      "metadata": {
        "id": "ACT2XKoz5T2_"
      },
      "source": [
        "Execute your K-means++ Analysis again, but don't use the variables from echonest.csv."
      ],
      "id": "ACT2XKoz5T2_"
    },
    {
      "cell_type": "markdown",
      "metadata": {
        "id": "OhtdkxqM5hj_"
      },
      "source": [
        "### Create the dataset "
      ],
      "id": "OhtdkxqM5hj_"
    },
    {
      "cell_type": "code",
      "metadata": {
        "id": "ERgMMe4F5hBi"
      },
      "source": [
        "df_7 = pd.merge(feat,tracks, on = 'track_id') # merge the 2 dataframe (features and tracks)"
      ],
      "id": "ERgMMe4F5hBi",
      "execution_count": null,
      "outputs": []
    },
    {
      "cell_type": "code",
      "metadata": {
        "colab": {
          "base_uri": "https://localhost:8080/"
        },
        "id": "B5e8dHhL56FF",
        "outputId": "e59d756e-94bc-45cf-a020-522a30b516c9"
      },
      "source": [
        "df_7.shape # we obtains around 100k rows, as we wanted"
      ],
      "id": "B5e8dHhL56FF",
      "execution_count": null,
      "outputs": [
        {
          "output_type": "execute_result",
          "data": {
            "text/plain": [
              "(106574, 571)"
            ]
          },
          "metadata": {},
          "execution_count": 23
        }
      ]
    },
    {
      "cell_type": "code",
      "metadata": {
        "id": "wQ5UBu746NK-"
      },
      "source": [
        "df_7.head()"
      ],
      "id": "wQ5UBu746NK-",
      "execution_count": null,
      "outputs": []
    },
    {
      "cell_type": "markdown",
      "metadata": {
        "id": "3Y4yq7ns6Tjy"
      },
      "source": [
        "### Perform the dimensionality reduction"
      ],
      "id": "3Y4yq7ns6Tjy"
    },
    {
      "cell_type": "markdown",
      "metadata": {
        "id": "jvlE84P4Plcs"
      },
      "source": [
        "#### Preprocessing the dataset"
      ],
      "id": "jvlE84P4Plcs"
    },
    {
      "cell_type": "markdown",
      "metadata": {
        "id": "w9eixLB_Plcu"
      },
      "source": [
        "Cleaning all features with too many \"na\" values (all the ones with more than 10%)"
      ],
      "id": "w9eixLB_Plcu"
    },
    {
      "cell_type": "code",
      "metadata": {
        "id": "hey77M3XPlcx"
      },
      "source": [
        "df_7 = df_7.dropna(axis=1,thresh=int(0.9*df_7.shape[0]))  ## drop all columns with more than 10% of nan value"
      ],
      "id": "hey77M3XPlcx",
      "execution_count": null,
      "outputs": []
    },
    {
      "cell_type": "code",
      "metadata": {
        "id": "5xZ9bpnNPlcx"
      },
      "source": [
        "df_7na = df_7.fillna(np.NaN)    #this will be used for the Cluster-Analysis\n",
        "df_7 = df_7.fillna(0)           #this will be used for the PCA"
      ],
      "id": "5xZ9bpnNPlcx",
      "execution_count": null,
      "outputs": []
    },
    {
      "cell_type": "code",
      "metadata": {
        "colab": {
          "base_uri": "https://localhost:8080/"
        },
        "id": "WxxLY3trZkFl",
        "outputId": "59ba90a3-a312-46b8-92ef-dbb3916a9147"
      },
      "source": [
        "# Checking if it contains near 13000 rows\n",
        "print(df_7na.shape)\n",
        "print(df_7.shape)"
      ],
      "id": "WxxLY3trZkFl",
      "execution_count": null,
      "outputs": [
        {
          "output_type": "stream",
          "name": "stdout",
          "text": [
            "(106574, 549)\n",
            "(106574, 549)\n"
          ]
        }
      ]
    },
    {
      "cell_type": "markdown",
      "metadata": {
        "id": "Tlr4pidabV2X"
      },
      "source": [
        "#### Apply PCA to reduce the dimensionality"
      ],
      "id": "Tlr4pidabV2X"
    },
    {
      "cell_type": "code",
      "metadata": {
        "id": "Io_4Fr9oPlc0"
      },
      "source": [
        "from sklearn.preprocessing import StandardScaler\n",
        "import numpy as np\n",
        "from sklearn.decomposition import PCA\n",
        "import matplotlib.pyplot as plt"
      ],
      "id": "Io_4Fr9oPlc0",
      "execution_count": null,
      "outputs": []
    },
    {
      "cell_type": "code",
      "metadata": {
        "id": "Ak7p8qgfbhRM"
      },
      "source": [
        "typo=dict(df_7.dtypes)"
      ],
      "id": "Ak7p8qgfbhRM",
      "execution_count": null,
      "outputs": []
    },
    {
      "cell_type": "code",
      "metadata": {
        "id": "QjXJVz8EPlc2"
      },
      "source": [
        "# Create two list with respectively the names of float and non-float variables\n",
        "features = list()\n",
        "target = list()\n",
        "for f in typo:\n",
        "  if typo[f] == 'float64':\n",
        "    features.append(f)\n",
        "  else:\n",
        "    target.append(f)"
      ],
      "id": "QjXJVz8EPlc2",
      "execution_count": null,
      "outputs": []
    },
    {
      "cell_type": "code",
      "metadata": {
        "id": "ya54GFofPlc3"
      },
      "source": [
        "fe = df_7.select_dtypes(include=['float64']) #only float"
      ],
      "id": "ya54GFofPlc3",
      "execution_count": null,
      "outputs": []
    },
    {
      "cell_type": "code",
      "metadata": {
        "colab": {
          "base_uri": "https://localhost:8080/"
        },
        "id": "yPPjs1_7Plc4",
        "outputId": "81384bdd-e3c9-404a-bf80-3014ef9319bf"
      },
      "source": [
        "import numpy as np\n",
        "\n",
        "# Create correlation matrix\n",
        "corr_matrix = fe.corr().abs()\n",
        "\n",
        "# Select upper triangle of correlation matrix\n",
        "upper = corr_matrix.where(np.triu(np.ones(corr_matrix.shape), k=1).astype(np.bool))\n",
        "\n",
        "# Find features with correlation greater than 0.95\n",
        "to_drop = [column for column in upper.columns if any(upper[column] > 0.95)]\n",
        "\n",
        "# Drop features \n",
        "fe.drop(to_drop, axis=1, inplace=True)"
      ],
      "id": "yPPjs1_7Plc4",
      "execution_count": null,
      "outputs": [
        {
          "output_type": "stream",
          "name": "stderr",
          "text": [
            "/usr/local/lib/python3.7/dist-packages/pandas/core/frame.py:4174: SettingWithCopyWarning: \n",
            "A value is trying to be set on a copy of a slice from a DataFrame\n",
            "\n",
            "See the caveats in the documentation: https://pandas.pydata.org/pandas-docs/stable/user_guide/indexing.html#returning-a-view-versus-a-copy\n",
            "  errors=errors,\n"
          ]
        }
      ]
    },
    {
      "cell_type": "code",
      "metadata": {
        "colab": {
          "base_uri": "https://localhost:8080/"
        },
        "id": "GsxSyg5uPlc5",
        "outputId": "1a4af16d-d1e1-4c1d-e0c7-6a21239d9c64"
      },
      "source": [
        "fe.shape"
      ],
      "id": "GsxSyg5uPlc5",
      "execution_count": null,
      "outputs": [
        {
          "output_type": "execute_result",
          "data": {
            "text/plain": [
              "(106574, 441)"
            ]
          },
          "metadata": {},
          "execution_count": 33
        }
      ]
    },
    {
      "cell_type": "code",
      "metadata": {
        "id": "vU4mj1biPlc6"
      },
      "source": [
        "# Creates two arrays with the values respectively of float variables and non-float variables\n",
        "x = fe.values\n",
        "y = df_7.loc[:,target].values"
      ],
      "id": "vU4mj1biPlc6",
      "execution_count": null,
      "outputs": []
    },
    {
      "cell_type": "code",
      "metadata": {
        "id": "ZAwia8fAPlc7"
      },
      "source": [
        "# Standardize numeric variables\n",
        "x = StandardScaler().fit_transform(x)"
      ],
      "id": "ZAwia8fAPlc7",
      "execution_count": null,
      "outputs": []
    },
    {
      "cell_type": "code",
      "metadata": {
        "id": "F90YCf55Plc7"
      },
      "source": [
        "colx = ['PC' + str(i) for i in range(1,70)]"
      ],
      "id": "F90YCf55Plc7",
      "execution_count": null,
      "outputs": []
    },
    {
      "cell_type": "code",
      "metadata": {
        "id": "8mcFFTywPlc8"
      },
      "source": [
        "# Principal Component Analysis; we create 69 new variables from the original 780\n",
        "pca = PCA(n_components=69)\n",
        "principalComponents = pca.fit_transform(x)\n",
        "principalDf = pd.DataFrame(data = principalComponents, columns=colx)"
      ],
      "id": "8mcFFTywPlc8",
      "execution_count": null,
      "outputs": []
    },
    {
      "cell_type": "code",
      "metadata": {
        "id": "0FJJHP-NPlc8"
      },
      "source": [
        "# Creates a dataframe with our Principal Components and old non-float variables\n",
        "finalDf_reduced = pd.concat([principalDf, pd.DataFrame(y, columns=target)], axis = 1)"
      ],
      "id": "0FJJHP-NPlc8",
      "execution_count": null,
      "outputs": []
    },
    {
      "cell_type": "code",
      "metadata": {
        "colab": {
          "base_uri": "https://localhost:8080/"
        },
        "id": "kMqqhWDkPlc9",
        "outputId": "4971e10d-3a58-4726-cbe0-13703268903b"
      },
      "source": [
        "# Checks if the explained data is near 70%\n",
        "sum(pca.explained_variance_ratio_)"
      ],
      "id": "kMqqhWDkPlc9",
      "execution_count": null,
      "outputs": [
        {
          "output_type": "execute_result",
          "data": {
            "text/plain": [
              "0.7450010614778338"
            ]
          },
          "metadata": {},
          "execution_count": 39
        }
      ]
    },
    {
      "cell_type": "markdown",
      "metadata": {
        "id": "Q771hjjSMXx1"
      },
      "source": [
        "#### Find the optimal number of clusters"
      ],
      "id": "Q771hjjSMXx1"
    },
    {
      "cell_type": "markdown",
      "metadata": {
        "id": "D5kht93vMXx5"
      },
      "source": [
        "Using elbow method"
      ],
      "id": "D5kht93vMXx5"
    },
    {
      "cell_type": "code",
      "metadata": {
        "id": "Zgzu-Uj1MXx5"
      },
      "source": [
        "finalDf_pca = finalDf_reduced.loc[:,:'PC69']\n",
        "finalDf_pca = finalDf_pca.loc[:, finalDf_pca.columns != 'Unnamed: 0']\n",
        "finalDf_pca = finalDf_pca.to_numpy().tolist()"
      ],
      "id": "Zgzu-Uj1MXx5",
      "execution_count": null,
      "outputs": []
    },
    {
      "cell_type": "code",
      "metadata": {
        "colab": {
          "base_uri": "https://localhost:8080/",
          "height": 308
        },
        "id": "usTDNKeCMXx6",
        "outputId": "97fef498-ca3d-42d4-af10-8f6f4e19ea3a"
      },
      "source": [
        "from matplotlib import pyplot as plt\n",
        "from sklearn.cluster import KMeans\n",
        "\n",
        "\n",
        "sse=[] # list that will contain the sum of squared errors for each k\n",
        "for num_clusters in range(1,10):\n",
        "  sum_dist=0\n",
        "  kmeans = KMeans(n_clusters=num_clusters,init='k-means++').fit(finalDf_pca) # apply k-means++ algorithm with every k\n",
        "  sse.append(kmeans.inertia_) \n",
        "  \n",
        "plt.xlabel('K')\n",
        "plt.ylabel('Sse')\n",
        "plt.plot(range(1,10),sse) "
      ],
      "id": "usTDNKeCMXx6",
      "execution_count": null,
      "outputs": [
        {
          "output_type": "execute_result",
          "data": {
            "text/plain": [
              "[<matplotlib.lines.Line2D at 0x7f0eaa27f410>]"
            ]
          },
          "metadata": {},
          "execution_count": 51
        },
        {
          "output_type": "display_data",
          "data": {
            "image/png": "[encoded data removed]",
            "text/plain": [
              "<Figure size 432x288 with 1 Axes>"
            ]
          },
          "metadata": {
            "needs_background": "light"
          }
        }
      ]
    },
    {
      "cell_type": "markdown",
      "metadata": {
        "id": "6DLmakhDLozm"
      },
      "source": [
        "The elbow seems to be in correspondence of k=4, so the best number of cluster suggested by elbow method is 4"
      ],
      "id": "6DLmakhDLozm"
    },
    {
      "cell_type": "markdown",
      "metadata": {
        "id": "r78UXjrZiwgg"
      },
      "source": [
        "#### Execute k-means ++"
      ],
      "id": "r78UXjrZiwgg"
    },
    {
      "cell_type": "code",
      "metadata": {
        "colab": {
          "base_uri": "https://localhost:8080/"
        },
        "id": "AOVTWze9iP5X",
        "outputId": "20ec8067-e97e-4dfb-c916-db841f60f9b9"
      },
      "source": [
        "from sklearn.cluster import KMeans\n",
        "kmeans = KMeans(n_clusters=4,init='k-means++').fit(finalDf_pca)\n",
        "kmeans.labels_"
      ],
      "id": "AOVTWze9iP5X",
      "execution_count": null,
      "outputs": [
        {
          "output_type": "execute_result",
          "data": {
            "text/plain": [
              "array([3, 3, 3, ..., 2, 2, 2], dtype=int32)"
            ]
          },
          "metadata": {},
          "execution_count": 41
        }
      ]
    },
    {
      "cell_type": "code",
      "metadata": {
        "id": "rndY2Ph6P5Zj"
      },
      "source": [
        "y = df_7na.loc[:,target]"
      ],
      "id": "rndY2Ph6P5Zj",
      "execution_count": null,
      "outputs": []
    },
    {
      "cell_type": "code",
      "metadata": {
        "id": "VoIVL-D7OcTG"
      },
      "source": [
        "kmeandf = pd.concat([fe, pd.DataFrame(y, columns=target)], axis = 1)"
      ],
      "id": "VoIVL-D7OcTG",
      "execution_count": null,
      "outputs": []
    },
    {
      "cell_type": "code",
      "metadata": {
        "id": "ErxGAVcbPS1D"
      },
      "source": [
        "kmeandf['cluster'] = kmeans.labels_"
      ],
      "id": "ErxGAVcbPS1D",
      "execution_count": null,
      "outputs": []
    },
    {
      "cell_type": "markdown",
      "metadata": {
        "id": "AbpsumFMU4Y9"
      },
      "source": [
        "### Album Type Pivot Table"
      ],
      "id": "AbpsumFMU4Y9"
    },
    {
      "cell_type": "code",
      "metadata": {
        "colab": {
          "base_uri": "https://localhost:8080/",
          "height": 252
        },
        "id": "Qf6uwY0gQwxD",
        "outputId": "e4d4affc-fd5b-44cb-92c5-5bd96ec1974c"
      },
      "source": [
        "album_table = pd.crosstab(kmeandf['album_type'],kmeandf['cluster'],rownames=['Album Type'], colnames=['N° Cluster']).apply(lambda r: round(r/r.sum()*100,2), axis=0)\n",
        "album_table"
      ],
      "id": "Qf6uwY0gQwxD",
      "execution_count": null,
      "outputs": [
        {
          "output_type": "execute_result",
          "data": {
            "text/html": [
              "<div>\n",
              "<style scoped>\n",
              "    .dataframe tbody tr th:only-of-type {\n",
              "        vertical-align: middle;\n",
              "    }\n",
              "\n",
              "    .dataframe tbody tr th {\n",
              "        vertical-align: top;\n",
              "    }\n",
              "\n",
              "    .dataframe thead th {\n",
              "        text-align: right;\n",
              "    }\n",
              "</style>\n",
              "<table border=\"1\" class=\"dataframe\">\n",
              "  <thead>\n",
              "    <tr style=\"text-align: right;\">\n",
              "      <th>N° Cluster</th>\n",
              "      <th>0</th>\n",
              "      <th>1</th>\n",
              "      <th>2</th>\n",
              "      <th>3</th>\n",
              "    </tr>\n",
              "    <tr>\n",
              "      <th>Album Type</th>\n",
              "      <th></th>\n",
              "      <th></th>\n",
              "      <th></th>\n",
              "      <th></th>\n",
              "    </tr>\n",
              "  </thead>\n",
              "  <tbody>\n",
              "    <tr>\n",
              "      <th>Album</th>\n",
              "      <td>87.06</td>\n",
              "      <td>88.64</td>\n",
              "      <td>83.11</td>\n",
              "      <td>93.40</td>\n",
              "    </tr>\n",
              "    <tr>\n",
              "      <th>Contest</th>\n",
              "      <td>0.02</td>\n",
              "      <td>0.01</td>\n",
              "      <td>0.01</td>\n",
              "      <td>0.02</td>\n",
              "    </tr>\n",
              "    <tr>\n",
              "      <th>Live Performance</th>\n",
              "      <td>5.38</td>\n",
              "      <td>3.92</td>\n",
              "      <td>6.99</td>\n",
              "      <td>2.41</td>\n",
              "    </tr>\n",
              "    <tr>\n",
              "      <th>Radio Program</th>\n",
              "      <td>6.62</td>\n",
              "      <td>5.42</td>\n",
              "      <td>9.14</td>\n",
              "      <td>3.33</td>\n",
              "    </tr>\n",
              "    <tr>\n",
              "      <th>Single Tracks</th>\n",
              "      <td>0.92</td>\n",
              "      <td>2.02</td>\n",
              "      <td>0.75</td>\n",
              "      <td>0.84</td>\n",
              "    </tr>\n",
              "  </tbody>\n",
              "</table>\n",
              "</div>"
            ],
            "text/plain": [
              "N° Cluster            0      1      2      3\n",
              "Album Type                                  \n",
              "Album             87.06  88.64  83.11  93.40\n",
              "Contest            0.02   0.01   0.01   0.02\n",
              "Live Performance   5.38   3.92   6.99   2.41\n",
              "Radio Program      6.62   5.42   9.14   3.33\n",
              "Single Tracks      0.92   2.02   0.75   0.84"
            ]
          },
          "metadata": {},
          "execution_count": 76
        }
      ]
    },
    {
      "cell_type": "markdown",
      "metadata": {
        "id": "QRwV5eC_VSYR"
      },
      "source": [
        "As in the previous analysis the highest percentage for each cluster is album's songs with respectevely (87.06%, 88.64%, 83.11% and 93.40%). For cluster 2 we have also the highest percentage for radio programs between all clusters (9.14%)"
      ],
      "id": "QRwV5eC_VSYR"
    },
    {
      "cell_type": "markdown",
      "metadata": {
        "id": "bS74D9vEVrhi"
      },
      "source": [
        "### Song's Language Pivot Table"
      ],
      "id": "bS74D9vEVrhi"
    },
    {
      "cell_type": "code",
      "metadata": {
        "id": "JxQ-_opuQbaI"
      },
      "source": [
        "kmeandf['track_language_code'] = tracks['track_language_code']"
      ],
      "id": "JxQ-_opuQbaI",
      "execution_count": null,
      "outputs": []
    },
    {
      "cell_type": "code",
      "metadata": {
        "colab": {
          "base_uri": "https://localhost:8080/",
          "height": 1000
        },
        "id": "ulXzazJDV3He",
        "outputId": "44981d94-d13d-4a72-ef05-b0ec33536d0f"
      },
      "source": [
        "lang_table = pd.crosstab(kmeandf['track_language_code'],kmeandf['cluster'],rownames=['Album Type'], colnames=['N° Cluster']).apply(lambda r: round(r/r.sum()*100,2), axis=0)\n",
        "lang_table"
      ],
      "id": "ulXzazJDV3He",
      "execution_count": null,
      "outputs": [
        {
          "output_type": "execute_result",
          "data": {
            "text/html": [
              "<div>\n",
              "<style scoped>\n",
              "    .dataframe tbody tr th:only-of-type {\n",
              "        vertical-align: middle;\n",
              "    }\n",
              "\n",
              "    .dataframe tbody tr th {\n",
              "        vertical-align: top;\n",
              "    }\n",
              "\n",
              "    .dataframe thead th {\n",
              "        text-align: right;\n",
              "    }\n",
              "</style>\n",
              "<table border=\"1\" class=\"dataframe\">\n",
              "  <thead>\n",
              "    <tr style=\"text-align: right;\">\n",
              "      <th>N° Cluster</th>\n",
              "      <th>0</th>\n",
              "      <th>1</th>\n",
              "      <th>2</th>\n",
              "      <th>3</th>\n",
              "    </tr>\n",
              "    <tr>\n",
              "      <th>Album Type</th>\n",
              "      <th></th>\n",
              "      <th></th>\n",
              "      <th></th>\n",
              "      <th></th>\n",
              "    </tr>\n",
              "  </thead>\n",
              "  <tbody>\n",
              "    <tr>\n",
              "      <th>ar</th>\n",
              "      <td>0.24</td>\n",
              "      <td>0.00</td>\n",
              "      <td>0.03</td>\n",
              "      <td>0.03</td>\n",
              "    </tr>\n",
              "    <tr>\n",
              "      <th>az</th>\n",
              "      <td>0.03</td>\n",
              "      <td>0.00</td>\n",
              "      <td>0.02</td>\n",
              "      <td>0.00</td>\n",
              "    </tr>\n",
              "    <tr>\n",
              "      <th>bg</th>\n",
              "      <td>0.19</td>\n",
              "      <td>0.00</td>\n",
              "      <td>0.00</td>\n",
              "      <td>0.00</td>\n",
              "    </tr>\n",
              "    <tr>\n",
              "      <th>bm</th>\n",
              "      <td>0.03</td>\n",
              "      <td>0.00</td>\n",
              "      <td>0.00</td>\n",
              "      <td>0.00</td>\n",
              "    </tr>\n",
              "    <tr>\n",
              "      <th>cs</th>\n",
              "      <td>0.03</td>\n",
              "      <td>0.00</td>\n",
              "      <td>0.07</td>\n",
              "      <td>0.00</td>\n",
              "    </tr>\n",
              "    <tr>\n",
              "      <th>de</th>\n",
              "      <td>1.23</td>\n",
              "      <td>0.17</td>\n",
              "      <td>0.20</td>\n",
              "      <td>0.20</td>\n",
              "    </tr>\n",
              "    <tr>\n",
              "      <th>ee</th>\n",
              "      <td>0.00</td>\n",
              "      <td>0.17</td>\n",
              "      <td>0.08</td>\n",
              "      <td>0.00</td>\n",
              "    </tr>\n",
              "    <tr>\n",
              "      <th>el</th>\n",
              "      <td>0.05</td>\n",
              "      <td>0.09</td>\n",
              "      <td>0.07</td>\n",
              "      <td>0.00</td>\n",
              "    </tr>\n",
              "    <tr>\n",
              "      <th>en</th>\n",
              "      <td>93.98</td>\n",
              "      <td>97.25</td>\n",
              "      <td>95.70</td>\n",
              "      <td>93.77</td>\n",
              "    </tr>\n",
              "    <tr>\n",
              "      <th>es</th>\n",
              "      <td>0.67</td>\n",
              "      <td>0.26</td>\n",
              "      <td>1.61</td>\n",
              "      <td>1.93</td>\n",
              "    </tr>\n",
              "    <tr>\n",
              "      <th>eu</th>\n",
              "      <td>0.03</td>\n",
              "      <td>0.00</td>\n",
              "      <td>0.00</td>\n",
              "      <td>0.00</td>\n",
              "    </tr>\n",
              "    <tr>\n",
              "      <th>fi</th>\n",
              "      <td>0.13</td>\n",
              "      <td>0.00</td>\n",
              "      <td>0.00</td>\n",
              "      <td>0.03</td>\n",
              "    </tr>\n",
              "    <tr>\n",
              "      <th>fr</th>\n",
              "      <td>1.34</td>\n",
              "      <td>1.20</td>\n",
              "      <td>0.80</td>\n",
              "      <td>1.96</td>\n",
              "    </tr>\n",
              "    <tr>\n",
              "      <th>gu</th>\n",
              "      <td>0.00</td>\n",
              "      <td>0.00</td>\n",
              "      <td>0.02</td>\n",
              "      <td>0.00</td>\n",
              "    </tr>\n",
              "    <tr>\n",
              "      <th>ha</th>\n",
              "      <td>0.00</td>\n",
              "      <td>0.00</td>\n",
              "      <td>0.02</td>\n",
              "      <td>0.00</td>\n",
              "    </tr>\n",
              "    <tr>\n",
              "      <th>he</th>\n",
              "      <td>0.13</td>\n",
              "      <td>0.00</td>\n",
              "      <td>0.00</td>\n",
              "      <td>0.18</td>\n",
              "    </tr>\n",
              "    <tr>\n",
              "      <th>hi</th>\n",
              "      <td>0.05</td>\n",
              "      <td>0.00</td>\n",
              "      <td>0.02</td>\n",
              "      <td>0.00</td>\n",
              "    </tr>\n",
              "    <tr>\n",
              "      <th>hy</th>\n",
              "      <td>0.05</td>\n",
              "      <td>0.00</td>\n",
              "      <td>0.00</td>\n",
              "      <td>0.00</td>\n",
              "    </tr>\n",
              "    <tr>\n",
              "      <th>id</th>\n",
              "      <td>0.03</td>\n",
              "      <td>0.00</td>\n",
              "      <td>0.03</td>\n",
              "      <td>0.00</td>\n",
              "    </tr>\n",
              "    <tr>\n",
              "      <th>it</th>\n",
              "      <td>0.19</td>\n",
              "      <td>0.09</td>\n",
              "      <td>0.23</td>\n",
              "      <td>0.15</td>\n",
              "    </tr>\n",
              "    <tr>\n",
              "      <th>ja</th>\n",
              "      <td>0.03</td>\n",
              "      <td>0.00</td>\n",
              "      <td>0.02</td>\n",
              "      <td>0.10</td>\n",
              "    </tr>\n",
              "    <tr>\n",
              "      <th>ka</th>\n",
              "      <td>0.03</td>\n",
              "      <td>0.00</td>\n",
              "      <td>0.00</td>\n",
              "      <td>0.00</td>\n",
              "    </tr>\n",
              "    <tr>\n",
              "      <th>ko</th>\n",
              "      <td>0.00</td>\n",
              "      <td>0.00</td>\n",
              "      <td>0.02</td>\n",
              "      <td>0.00</td>\n",
              "    </tr>\n",
              "    <tr>\n",
              "      <th>la</th>\n",
              "      <td>0.03</td>\n",
              "      <td>0.00</td>\n",
              "      <td>0.00</td>\n",
              "      <td>0.00</td>\n",
              "    </tr>\n",
              "    <tr>\n",
              "      <th>lt</th>\n",
              "      <td>0.00</td>\n",
              "      <td>0.00</td>\n",
              "      <td>0.02</td>\n",
              "      <td>0.00</td>\n",
              "    </tr>\n",
              "    <tr>\n",
              "      <th>ms</th>\n",
              "      <td>0.05</td>\n",
              "      <td>0.00</td>\n",
              "      <td>0.00</td>\n",
              "      <td>0.00</td>\n",
              "    </tr>\n",
              "    <tr>\n",
              "      <th>my</th>\n",
              "      <td>0.03</td>\n",
              "      <td>0.00</td>\n",
              "      <td>0.00</td>\n",
              "      <td>0.00</td>\n",
              "    </tr>\n",
              "    <tr>\n",
              "      <th>nl</th>\n",
              "      <td>0.11</td>\n",
              "      <td>0.09</td>\n",
              "      <td>0.00</td>\n",
              "      <td>0.00</td>\n",
              "    </tr>\n",
              "    <tr>\n",
              "      <th>no</th>\n",
              "      <td>0.03</td>\n",
              "      <td>0.00</td>\n",
              "      <td>0.00</td>\n",
              "      <td>0.00</td>\n",
              "    </tr>\n",
              "    <tr>\n",
              "      <th>pl</th>\n",
              "      <td>0.21</td>\n",
              "      <td>0.00</td>\n",
              "      <td>0.02</td>\n",
              "      <td>0.08</td>\n",
              "    </tr>\n",
              "    <tr>\n",
              "      <th>pt</th>\n",
              "      <td>0.43</td>\n",
              "      <td>0.17</td>\n",
              "      <td>0.20</td>\n",
              "      <td>1.28</td>\n",
              "    </tr>\n",
              "    <tr>\n",
              "      <th>ru</th>\n",
              "      <td>0.27</td>\n",
              "      <td>0.17</td>\n",
              "      <td>0.18</td>\n",
              "      <td>0.18</td>\n",
              "    </tr>\n",
              "    <tr>\n",
              "      <th>sk</th>\n",
              "      <td>0.00</td>\n",
              "      <td>0.00</td>\n",
              "      <td>0.02</td>\n",
              "      <td>0.00</td>\n",
              "    </tr>\n",
              "    <tr>\n",
              "      <th>sr</th>\n",
              "      <td>0.03</td>\n",
              "      <td>0.17</td>\n",
              "      <td>0.29</td>\n",
              "      <td>0.05</td>\n",
              "    </tr>\n",
              "    <tr>\n",
              "      <th>sw</th>\n",
              "      <td>0.11</td>\n",
              "      <td>0.00</td>\n",
              "      <td>0.03</td>\n",
              "      <td>0.00</td>\n",
              "    </tr>\n",
              "    <tr>\n",
              "      <th>th</th>\n",
              "      <td>0.03</td>\n",
              "      <td>0.00</td>\n",
              "      <td>0.00</td>\n",
              "      <td>0.00</td>\n",
              "    </tr>\n",
              "    <tr>\n",
              "      <th>tl</th>\n",
              "      <td>0.03</td>\n",
              "      <td>0.00</td>\n",
              "      <td>0.00</td>\n",
              "      <td>0.00</td>\n",
              "    </tr>\n",
              "    <tr>\n",
              "      <th>tr</th>\n",
              "      <td>0.16</td>\n",
              "      <td>0.17</td>\n",
              "      <td>0.23</td>\n",
              "      <td>0.08</td>\n",
              "    </tr>\n",
              "    <tr>\n",
              "      <th>tw</th>\n",
              "      <td>0.00</td>\n",
              "      <td>0.00</td>\n",
              "      <td>0.02</td>\n",
              "      <td>0.00</td>\n",
              "    </tr>\n",
              "    <tr>\n",
              "      <th>ty</th>\n",
              "      <td>0.00</td>\n",
              "      <td>0.00</td>\n",
              "      <td>0.02</td>\n",
              "      <td>0.00</td>\n",
              "    </tr>\n",
              "    <tr>\n",
              "      <th>uk</th>\n",
              "      <td>0.00</td>\n",
              "      <td>0.00</td>\n",
              "      <td>0.02</td>\n",
              "      <td>0.00</td>\n",
              "    </tr>\n",
              "    <tr>\n",
              "      <th>uz</th>\n",
              "      <td>0.00</td>\n",
              "      <td>0.00</td>\n",
              "      <td>0.02</td>\n",
              "      <td>0.00</td>\n",
              "    </tr>\n",
              "    <tr>\n",
              "      <th>vi</th>\n",
              "      <td>0.03</td>\n",
              "      <td>0.00</td>\n",
              "      <td>0.02</td>\n",
              "      <td>0.00</td>\n",
              "    </tr>\n",
              "    <tr>\n",
              "      <th>zh</th>\n",
              "      <td>0.03</td>\n",
              "      <td>0.00</td>\n",
              "      <td>0.03</td>\n",
              "      <td>0.00</td>\n",
              "    </tr>\n",
              "  </tbody>\n",
              "</table>\n",
              "</div>"
            ],
            "text/plain": [
              "N° Cluster      0      1      2      3\n",
              "Album Type                            \n",
              "ar           0.24   0.00   0.03   0.03\n",
              "az           0.03   0.00   0.02   0.00\n",
              "bg           0.19   0.00   0.00   0.00\n",
              "bm           0.03   0.00   0.00   0.00\n",
              "cs           0.03   0.00   0.07   0.00\n",
              "de           1.23   0.17   0.20   0.20\n",
              "ee           0.00   0.17   0.08   0.00\n",
              "el           0.05   0.09   0.07   0.00\n",
              "en          93.98  97.25  95.70  93.77\n",
              "es           0.67   0.26   1.61   1.93\n",
              "eu           0.03   0.00   0.00   0.00\n",
              "fi           0.13   0.00   0.00   0.03\n",
              "fr           1.34   1.20   0.80   1.96\n",
              "gu           0.00   0.00   0.02   0.00\n",
              "ha           0.00   0.00   0.02   0.00\n",
              "he           0.13   0.00   0.00   0.18\n",
              "hi           0.05   0.00   0.02   0.00\n",
              "hy           0.05   0.00   0.00   0.00\n",
              "id           0.03   0.00   0.03   0.00\n",
              "it           0.19   0.09   0.23   0.15\n",
              "ja           0.03   0.00   0.02   0.10\n",
              "ka           0.03   0.00   0.00   0.00\n",
              "ko           0.00   0.00   0.02   0.00\n",
              "la           0.03   0.00   0.00   0.00\n",
              "lt           0.00   0.00   0.02   0.00\n",
              "ms           0.05   0.00   0.00   0.00\n",
              "my           0.03   0.00   0.00   0.00\n",
              "nl           0.11   0.09   0.00   0.00\n",
              "no           0.03   0.00   0.00   0.00\n",
              "pl           0.21   0.00   0.02   0.08\n",
              "pt           0.43   0.17   0.20   1.28\n",
              "ru           0.27   0.17   0.18   0.18\n",
              "sk           0.00   0.00   0.02   0.00\n",
              "sr           0.03   0.17   0.29   0.05\n",
              "sw           0.11   0.00   0.03   0.00\n",
              "th           0.03   0.00   0.00   0.00\n",
              "tl           0.03   0.00   0.00   0.00\n",
              "tr           0.16   0.17   0.23   0.08\n",
              "tw           0.00   0.00   0.02   0.00\n",
              "ty           0.00   0.00   0.02   0.00\n",
              "uk           0.00   0.00   0.02   0.00\n",
              "uz           0.00   0.00   0.02   0.00\n",
              "vi           0.03   0.00   0.02   0.00\n",
              "zh           0.03   0.00   0.03   0.00"
            ]
          },
          "metadata": {},
          "execution_count": 77
        }
      ]
    },
    {
      "cell_type": "markdown",
      "metadata": {
        "id": "gb5mne04WDGu"
      },
      "source": [
        "With respect to the previous analysis we can see a higher percentage for english language for each cluster. Also \"es\"language, that in the previous analysis was for most of cluster the second highest, hardly overcome 1% in each cluster. "
      ],
      "id": "gb5mne04WDGu"
    },
    {
      "cell_type": "markdown",
      "metadata": {
        "id": "GQZfUU2-WpJ9"
      },
      "source": [
        "### Song's Duration Pivot Table"
      ],
      "id": "GQZfUU2-WpJ9"
    },
    {
      "cell_type": "code",
      "metadata": {
        "id": "RXpJiYaeQ3mc"
      },
      "source": [
        "kmeandf['track_duration']"
      ],
      "id": "RXpJiYaeQ3mc",
      "execution_count": null,
      "outputs": []
    },
    {
      "cell_type": "code",
      "metadata": {
        "id": "rKNkjFoHXEoB"
      },
      "source": [
        "# setting bins for the conversion from quantitative to qualitative\n",
        "min = kmeandf['track_duration'].min()\n",
        "max = kmeandf['track_duration'].max()\n",
        "first = kmeandf['track_duration'].describe()[4]\n",
        "second = kmeandf['track_duration'].describe()[5]\n",
        "third = kmeandf['track_duration'].describe()[6]\n",
        "bins = [min, first, second, third, max]\n",
        "categ_dur = pd.cut(kmeandf['track_duration'], bins, include_lowest=True, labels=['short','medium','long','really long'])"
      ],
      "id": "rKNkjFoHXEoB",
      "execution_count": null,
      "outputs": []
    },
    {
      "cell_type": "code",
      "metadata": {
        "colab": {
          "base_uri": "https://localhost:8080/",
          "height": 221
        },
        "id": "wGdFVJbSWxKz",
        "outputId": "ca4e1d6b-90de-412c-af66-22c1449b3bf6"
      },
      "source": [
        "dur_table = pd.crosstab(categ_dur,kmeandf['cluster'],rownames=['Album Type'], colnames=['N° Cluster']).apply(lambda r: round(r/r.sum()*100,2), axis=0)\n",
        "dur_table"
      ],
      "id": "wGdFVJbSWxKz",
      "execution_count": null,
      "outputs": [
        {
          "output_type": "execute_result",
          "data": {
            "text/html": [
              "<div>\n",
              "<style scoped>\n",
              "    .dataframe tbody tr th:only-of-type {\n",
              "        vertical-align: middle;\n",
              "    }\n",
              "\n",
              "    .dataframe tbody tr th {\n",
              "        vertical-align: top;\n",
              "    }\n",
              "\n",
              "    .dataframe thead th {\n",
              "        text-align: right;\n",
              "    }\n",
              "</style>\n",
              "<table border=\"1\" class=\"dataframe\">\n",
              "  <thead>\n",
              "    <tr style=\"text-align: right;\">\n",
              "      <th>N° Cluster</th>\n",
              "      <th>0</th>\n",
              "      <th>1</th>\n",
              "      <th>2</th>\n",
              "      <th>3</th>\n",
              "    </tr>\n",
              "    <tr>\n",
              "      <th>Album Type</th>\n",
              "      <th></th>\n",
              "      <th></th>\n",
              "      <th></th>\n",
              "      <th></th>\n",
              "    </tr>\n",
              "  </thead>\n",
              "  <tbody>\n",
              "    <tr>\n",
              "      <th>short</th>\n",
              "      <td>25.52</td>\n",
              "      <td>53.61</td>\n",
              "      <td>26.94</td>\n",
              "      <td>14.51</td>\n",
              "    </tr>\n",
              "    <tr>\n",
              "      <th>medium</th>\n",
              "      <td>24.70</td>\n",
              "      <td>18.22</td>\n",
              "      <td>27.81</td>\n",
              "      <td>23.26</td>\n",
              "    </tr>\n",
              "    <tr>\n",
              "      <th>long</th>\n",
              "      <td>23.81</td>\n",
              "      <td>14.08</td>\n",
              "      <td>23.89</td>\n",
              "      <td>30.34</td>\n",
              "    </tr>\n",
              "    <tr>\n",
              "      <th>really long</th>\n",
              "      <td>25.98</td>\n",
              "      <td>14.08</td>\n",
              "      <td>21.36</td>\n",
              "      <td>31.89</td>\n",
              "    </tr>\n",
              "  </tbody>\n",
              "</table>\n",
              "</div>"
            ],
            "text/plain": [
              "N° Cluster       0      1      2      3\n",
              "Album Type                             \n",
              "short        25.52  53.61  26.94  14.51\n",
              "medium       24.70  18.22  27.81  23.26\n",
              "long         23.81  14.08  23.89  30.34\n",
              "really long  25.98  14.08  21.36  31.89"
            ]
          },
          "metadata": {},
          "execution_count": 82
        }
      ]
    },
    {
      "cell_type": "markdown",
      "metadata": {
        "id": "ElhICyKbXXA9"
      },
      "source": [
        "With respect to the previous analysis nothing is really changed except number of clusters. All the percentages are again near 25% due to the choice of the bins in corrispondence of quartiles. Cluster 3 has the highest percentage for really long songs (31.89%)"
      ],
      "id": "ElhICyKbXXA9"
    },
    {
      "cell_type": "code",
      "metadata": {
        "id": "lr_6KeR-RAcg"
      },
      "source": [
        "kmeandf.to_csv('/content/drive/MyDrive/df_7.csv')"
      ],
      "id": "lr_6KeR-RAcg",
      "execution_count": null,
      "outputs": []
    },
    {
      "cell_type": "markdown",
      "metadata": {
        "id": "t8h5ZX7aYqjC"
      },
      "source": [
        "### Track Genre Pivot Table"
      ],
      "id": "t8h5ZX7aYqjC"
    },
    {
      "cell_type": "code",
      "metadata": {
        "id": "gBfYVqZWYFYQ"
      },
      "source": [
        "kmeandf['track_genre_top'] = tracks['track_genre_top']"
      ],
      "id": "gBfYVqZWYFYQ",
      "execution_count": null,
      "outputs": []
    },
    {
      "cell_type": "code",
      "metadata": {
        "colab": {
          "base_uri": "https://localhost:8080/",
          "height": 587
        },
        "id": "en7S6opyYDSH",
        "outputId": "fb30108c-3f42-47bd-decf-9ead9894d5c4"
      },
      "source": [
        "genre_table = pd.crosstab(kmeandf['track_genre_top'],kmeandf['cluster'],rownames=['Genre'], colnames=['N° Cluster']).apply(lambda r: round(r/r.sum()*100,2), axis=0)\n",
        "genre_table"
      ],
      "id": "en7S6opyYDSH",
      "execution_count": null,
      "outputs": [
        {
          "output_type": "execute_result",
          "data": {
            "text/html": [
              "<div>\n",
              "<style scoped>\n",
              "    .dataframe tbody tr th:only-of-type {\n",
              "        vertical-align: middle;\n",
              "    }\n",
              "\n",
              "    .dataframe tbody tr th {\n",
              "        vertical-align: top;\n",
              "    }\n",
              "\n",
              "    .dataframe thead th {\n",
              "        text-align: right;\n",
              "    }\n",
              "</style>\n",
              "<table border=\"1\" class=\"dataframe\">\n",
              "  <thead>\n",
              "    <tr style=\"text-align: right;\">\n",
              "      <th>N° Cluster</th>\n",
              "      <th>0</th>\n",
              "      <th>1</th>\n",
              "      <th>2</th>\n",
              "      <th>3</th>\n",
              "    </tr>\n",
              "    <tr>\n",
              "      <th>Genre</th>\n",
              "      <th></th>\n",
              "      <th></th>\n",
              "      <th></th>\n",
              "      <th></th>\n",
              "    </tr>\n",
              "  </thead>\n",
              "  <tbody>\n",
              "    <tr>\n",
              "      <th>Blues</th>\n",
              "      <td>0.49</td>\n",
              "      <td>0.00</td>\n",
              "      <td>0.17</td>\n",
              "      <td>0.16</td>\n",
              "    </tr>\n",
              "    <tr>\n",
              "      <th>Classical</th>\n",
              "      <td>10.64</td>\n",
              "      <td>0.09</td>\n",
              "      <td>0.33</td>\n",
              "      <td>0.22</td>\n",
              "    </tr>\n",
              "    <tr>\n",
              "      <th>Country</th>\n",
              "      <td>0.56</td>\n",
              "      <td>0.16</td>\n",
              "      <td>0.43</td>\n",
              "      <td>0.28</td>\n",
              "    </tr>\n",
              "    <tr>\n",
              "      <th>Easy Listening</th>\n",
              "      <td>0.05</td>\n",
              "      <td>0.05</td>\n",
              "      <td>0.01</td>\n",
              "      <td>0.10</td>\n",
              "    </tr>\n",
              "    <tr>\n",
              "      <th>Electronic</th>\n",
              "      <td>9.70</td>\n",
              "      <td>17.37</td>\n",
              "      <td>12.40</td>\n",
              "      <td>35.79</td>\n",
              "    </tr>\n",
              "    <tr>\n",
              "      <th>Experimental</th>\n",
              "      <td>22.35</td>\n",
              "      <td>33.26</td>\n",
              "      <td>18.44</td>\n",
              "      <td>21.36</td>\n",
              "    </tr>\n",
              "    <tr>\n",
              "      <th>Folk</th>\n",
              "      <td>16.60</td>\n",
              "      <td>1.47</td>\n",
              "      <td>3.58</td>\n",
              "      <td>1.73</td>\n",
              "    </tr>\n",
              "    <tr>\n",
              "      <th>Hip-Hop</th>\n",
              "      <td>0.75</td>\n",
              "      <td>2.75</td>\n",
              "      <td>4.90</td>\n",
              "      <td>16.64</td>\n",
              "    </tr>\n",
              "    <tr>\n",
              "      <th>Instrumental</th>\n",
              "      <td>10.13</td>\n",
              "      <td>3.45</td>\n",
              "      <td>2.92</td>\n",
              "      <td>1.82</td>\n",
              "    </tr>\n",
              "    <tr>\n",
              "      <th>International</th>\n",
              "      <td>4.93</td>\n",
              "      <td>0.77</td>\n",
              "      <td>1.80</td>\n",
              "      <td>3.28</td>\n",
              "    </tr>\n",
              "    <tr>\n",
              "      <th>Jazz</th>\n",
              "      <td>2.81</td>\n",
              "      <td>0.21</td>\n",
              "      <td>0.55</td>\n",
              "      <td>1.07</td>\n",
              "    </tr>\n",
              "    <tr>\n",
              "      <th>Old-Time / Historic</th>\n",
              "      <td>4.51</td>\n",
              "      <td>0.21</td>\n",
              "      <td>0.32</td>\n",
              "      <td>0.00</td>\n",
              "    </tr>\n",
              "    <tr>\n",
              "      <th>Pop</th>\n",
              "      <td>4.99</td>\n",
              "      <td>6.11</td>\n",
              "      <td>4.49</td>\n",
              "      <td>4.37</td>\n",
              "    </tr>\n",
              "    <tr>\n",
              "      <th>Rock</th>\n",
              "      <td>10.94</td>\n",
              "      <td>33.94</td>\n",
              "      <td>48.98</td>\n",
              "      <td>10.38</td>\n",
              "    </tr>\n",
              "    <tr>\n",
              "      <th>Soul-RnB</th>\n",
              "      <td>0.11</td>\n",
              "      <td>0.00</td>\n",
              "      <td>0.27</td>\n",
              "      <td>0.77</td>\n",
              "    </tr>\n",
              "    <tr>\n",
              "      <th>Spoken</th>\n",
              "      <td>0.44</td>\n",
              "      <td>0.16</td>\n",
              "      <td>0.41</td>\n",
              "      <td>2.02</td>\n",
              "    </tr>\n",
              "  </tbody>\n",
              "</table>\n",
              "</div>"
            ],
            "text/plain": [
              "N° Cluster               0      1      2      3\n",
              "Genre                                          \n",
              "Blues                 0.49   0.00   0.17   0.16\n",
              "Classical            10.64   0.09   0.33   0.22\n",
              "Country               0.56   0.16   0.43   0.28\n",
              "Easy Listening        0.05   0.05   0.01   0.10\n",
              "Electronic            9.70  17.37  12.40  35.79\n",
              "Experimental         22.35  33.26  18.44  21.36\n",
              "Folk                 16.60   1.47   3.58   1.73\n",
              "Hip-Hop               0.75   2.75   4.90  16.64\n",
              "Instrumental         10.13   3.45   2.92   1.82\n",
              "International         4.93   0.77   1.80   3.28\n",
              "Jazz                  2.81   0.21   0.55   1.07\n",
              "Old-Time / Historic   4.51   0.21   0.32   0.00\n",
              "Pop                   4.99   6.11   4.49   4.37\n",
              "Rock                 10.94  33.94  48.98  10.38\n",
              "Soul-RnB              0.11   0.00   0.27   0.77\n",
              "Spoken                0.44   0.16   0.41   2.02"
            ]
          },
          "metadata": {},
          "execution_count": 86
        }
      ]
    },
    {
      "cell_type": "markdown",
      "metadata": {
        "id": "ubqczXVPYvXd"
      },
      "source": [
        "W.r.t. the previous analysis we can see some differences: rock genre now dominates only two of four cluster (but before was dominating all three clusters) and experimental genre is appeared with very high percentages for all thre four clusters (in cluster 0 has the highest percentage, 22.35%). Electronic genre has again an high percentage, especially in the cluster 3 (35.79%). "
      ],
      "id": "ubqczXVPYvXd"
    },
    {
      "cell_type": "markdown",
      "metadata": {
        "id": "jgEhvpEAcoDF"
      },
      "source": [
        "### Track's Listens Pivot Table"
      ],
      "id": "jgEhvpEAcoDF"
    },
    {
      "cell_type": "code",
      "metadata": {
        "id": "NuItsmQFdNw5"
      },
      "source": [
        "# setting bins for the conversion from quantitative to qualitative\n",
        "min = kmeandf['track_listens'].min()\n",
        "max = kmeandf['track_listens'].max()\n",
        "first = kmeandf['track_listens'].describe()[4]\n",
        "second = kmeandf['track_listens'].describe()[5]\n",
        "third = kmeandf['track_listens'].describe()[6]\n",
        "bins = [min, first, second, third, max]\n",
        "categ_dur = pd.cut(kmeandf['track_listens'], bins, include_lowest=True, labels=['few','medium','lot','masterpiece'])"
      ],
      "id": "NuItsmQFdNw5",
      "execution_count": null,
      "outputs": []
    },
    {
      "cell_type": "code",
      "metadata": {
        "colab": {
          "base_uri": "https://localhost:8080/",
          "height": 221
        },
        "id": "7U4Q8c8bcq3f",
        "outputId": "d97d0698-e20f-4449-f43c-0a197ca81997"
      },
      "source": [
        "dur_table = pd.crosstab(categ_dur,kmeandf['cluster'],rownames=['Album Type'], colnames=['N° Cluster']).apply(lambda r: round(r/r.sum()*100,2), axis=0)\n",
        "dur_table"
      ],
      "id": "7U4Q8c8bcq3f",
      "execution_count": null,
      "outputs": [
        {
          "output_type": "execute_result",
          "data": {
            "text/html": [
              "<div>\n",
              "<style scoped>\n",
              "    .dataframe tbody tr th:only-of-type {\n",
              "        vertical-align: middle;\n",
              "    }\n",
              "\n",
              "    .dataframe tbody tr th {\n",
              "        vertical-align: top;\n",
              "    }\n",
              "\n",
              "    .dataframe thead th {\n",
              "        text-align: right;\n",
              "    }\n",
              "</style>\n",
              "<table border=\"1\" class=\"dataframe\">\n",
              "  <thead>\n",
              "    <tr style=\"text-align: right;\">\n",
              "      <th>N° Cluster</th>\n",
              "      <th>0</th>\n",
              "      <th>1</th>\n",
              "      <th>2</th>\n",
              "      <th>3</th>\n",
              "    </tr>\n",
              "    <tr>\n",
              "      <th>Album Type</th>\n",
              "      <th></th>\n",
              "      <th></th>\n",
              "      <th></th>\n",
              "      <th></th>\n",
              "    </tr>\n",
              "  </thead>\n",
              "  <tbody>\n",
              "    <tr>\n",
              "      <th>few</th>\n",
              "      <td>19.69</td>\n",
              "      <td>32.36</td>\n",
              "      <td>28.23</td>\n",
              "      <td>23.65</td>\n",
              "    </tr>\n",
              "    <tr>\n",
              "      <th>medium</th>\n",
              "      <td>21.23</td>\n",
              "      <td>28.81</td>\n",
              "      <td>26.87</td>\n",
              "      <td>24.66</td>\n",
              "    </tr>\n",
              "    <tr>\n",
              "      <th>lot</th>\n",
              "      <td>25.10</td>\n",
              "      <td>22.51</td>\n",
              "      <td>24.47</td>\n",
              "      <td>26.18</td>\n",
              "    </tr>\n",
              "    <tr>\n",
              "      <th>masterpiece</th>\n",
              "      <td>33.98</td>\n",
              "      <td>16.33</td>\n",
              "      <td>20.43</td>\n",
              "      <td>25.51</td>\n",
              "    </tr>\n",
              "  </tbody>\n",
              "</table>\n",
              "</div>"
            ],
            "text/plain": [
              "N° Cluster       0      1      2      3\n",
              "Album Type                             \n",
              "few          19.69  32.36  28.23  23.65\n",
              "medium       21.23  28.81  26.87  24.66\n",
              "lot          25.10  22.51  24.47  26.18\n",
              "masterpiece  33.98  16.33  20.43  25.51"
            ]
          },
          "metadata": {},
          "execution_count": 90
        }
      ]
    },
    {
      "cell_type": "markdown",
      "metadata": {
        "id": "TBZZ0V0Kdjtv"
      },
      "source": [
        "As we can see from the previous table all the percentages are near the same value (25%) but we can see the highest percentage in all the pivot table in the masterpieces in cluster 0 that has a percentage equal to (33.98%). All the other cluster has nearly the same percentages and this is expected considering that we have converted a quantitative feature in a qualitative feature using for the bins quartiles of the distribution. "
      ],
      "id": "TBZZ0V0Kdjtv"
    },
    {
      "cell_type": "markdown",
      "metadata": {
        "id": "wgyybc23civ0"
      },
      "source": [
        "## Conclusions"
      ],
      "id": "wgyybc23civ0"
    },
    {
      "cell_type": "markdown",
      "metadata": {
        "id": "e9J-nxX2ZrvA"
      },
      "source": [
        "In the end we can conclude the following things: dimensionality reduction and cluster reduction are both methods that, given a more efficient representation, take away part of the information. As we can compare from the dimensionality reduction, mantaining the same number of principal component the remaining explained information is higher for the dimensionality reduction on the dataset with more \"samples\" (74% against 70% for the PCA on the restricted dataset). Considering instead cluster reduction, clustering on more data (near 100000 rows) resolves in a higher loss of information w.r.t. clusterization on a smaller data (13000 rows) as we can see from both elbow graphics. We need to consider also that methods differ but as we have seen for the restricted dataset we have seen the \"elbow\" at cluster number 3, instead of the larger dataset were the elbow method suggest use to take 4 clusters. In the end, considering all the previous comments, we have preferred a larger dataset with less features instead of one with more features and less \"samples\", but is not so surprising considering that all the analysis are better with more and more data taken. "
      ],
      "id": "e9J-nxX2ZrvA"
    },
    {
      "cell_type": "markdown",
      "metadata": {
        "id": "xpLycz0Get5W"
      },
      "source": [
        "# Es 3"
      ],
      "id": "xpLycz0Get5W"
    },
    {
      "cell_type": "markdown",
      "metadata": {
        "id": "bgY8ZZJ1fES-"
      },
      "source": [
        "Given a list $a$ and an integer $s$, this algorithm gives us all the different pairs in $a$ whose sum is equal to $s$"
      ],
      "id": "bgY8ZZJ1fES-"
    },
    {
      "cell_type": "code",
      "metadata": {
        "id": "ozGUNmRWewW9"
      },
      "source": [
        "def pairs(a, s):\n",
        "    ris = []\n",
        "    for i in range(len(a)):\n",
        "        for j in range(i+1, len(a)):\n",
        "            if a[i]+a[j] == s:\n",
        "                ris.append((a[i], a[j]))\n",
        "    return ris"
      ],
      "id": "ozGUNmRWewW9",
      "execution_count": null,
      "outputs": []
    },
    {
      "cell_type": "markdown",
      "metadata": {
        "id": "18WHVYhkfjOA"
      },
      "source": [
        "Example of application"
      ],
      "id": "18WHVYhkfjOA"
    },
    {
      "cell_type": "code",
      "metadata": {
        "colab": {
          "base_uri": "https://localhost:8080/"
        },
        "id": "bm8Kk8B1e9N7",
        "outputId": "fa869896-2a15-4ce2-f037-521a2feb48dc"
      },
      "source": [
        "pairs([7, -2, 8, 2, 6, 4, -7, 2, 1, 3, -3], 4)"
      ],
      "id": "bm8Kk8B1e9N7",
      "execution_count": null,
      "outputs": [
        {
          "output_type": "execute_result",
          "data": {
            "text/plain": [
              "[(7, -3), (-2, 6), (2, 2), (1, 3)]"
            ]
          },
          "metadata": {},
          "execution_count": 44
        }
      ]
    }
  ]
}